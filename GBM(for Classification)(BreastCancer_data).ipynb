{
  "nbformat": 4,
  "nbformat_minor": 0,
  "metadata": {
    "colab": {
      "name": "GBM(for classification)(BreastCancer_data).ipynb",
      "provenance": [],
      "collapsed_sections": [],
      "authorship_tag": "ABX9TyPpMmPPICJc/gFite8dC/ty",
      "include_colab_link": true
    },
    "kernelspec": {
      "name": "python3",
      "display_name": "Python 3"
    },
    "language_info": {
      "name": "python"
    }
  },
  "cells": [
    {
      "cell_type": "markdown",
      "metadata": {
        "id": "view-in-github",
        "colab_type": "text"
      },
      "source": [
        "<a href=\"https://colab.research.google.com/github/hyunicecream/ML-DL/blob/main/GBM(for%20Classification)(BreastCancer_data).ipynb\" target=\"_parent\"><img src=\"https://colab.research.google.com/assets/colab-badge.svg\" alt=\"Open In Colab\"/></a>"
      ]
    },
    {
      "cell_type": "code",
      "execution_count": null,
      "metadata": {
        "id": "o9jh1JW6phKh"
      },
      "outputs": [],
      "source": [
        "from sklearn.datasets import load_breast_cancer\n",
        "from sklearn.model_selection import train_test_split\n",
        "from sklearn.ensemble import GradientBoostingClassifier"
      ]
    },
    {
      "cell_type": "code",
      "source": [
        "# 데이터 불러오기\n",
        "cancer = load_breast_cancer()"
      ],
      "metadata": {
        "id": "JdadDqPuqgBj"
      },
      "execution_count": null,
      "outputs": []
    },
    {
      "cell_type": "code",
      "source": [
        "# train, test 셋을 구성한다.\n",
        "trainX, testX, trainY, testY = train_test_split(cancer['data'], cancer['target'], test_size =0.2)"
      ],
      "metadata": {
        "id": "gkKsUSJnqwyH"
      },
      "execution_count": null,
      "outputs": []
    },
    {
      "cell_type": "code",
      "source": [
        "# Gradient Boosting (classifier)로 Train 데이터 세트를 학습한다.\n",
        "# default:\n",
        "# loss = deviance (=logistic regression)\n",
        "# learning_rate = 0.1\n",
        "# n_estimators = 100\n",
        "# max_depth = 3\n",
        "model = GradientBoostingClassifier(loss='deviance', learning_rate=0.1, n_estimators=100, max_depth=3)\n",
        "model.fit(trainX, trainY)"
      ],
      "metadata": {
        "colab": {
          "base_uri": "https://localhost:8080/"
        },
        "id": "LPLl9h2pqz78",
        "outputId": "98d2d225-33e8-4abc-8454-d494be710842"
      },
      "execution_count": null,
      "outputs": [
        {
          "output_type": "execute_result",
          "data": {
            "text/plain": [
              "GradientBoostingClassifier()"
            ]
          },
          "metadata": {},
          "execution_count": 4
        }
      ]
    },
    {
      "cell_type": "code",
      "source": [
        "# Test 세트의 Feature에 대한 class를 추정하고, 정확도를 계산한다 \n",
        "# accuracy = model.score(testX, testY)와 동일함.\n",
        "predY = model.predict(testX)\n",
        "accuracy = (testY == predY).mean()\n",
        "print(\"* 시험용 데이터로 측정한 정확도 = %.2f\" % accuracy)\n",
        "\n",
        "# Train 세트의 Feature에 대한 class를 추정하고, 정확도를 계산한다\n",
        "predY = model.predict(trainX)\n",
        "accuracy = (trainY == predY).mean()\n",
        "print()\n",
        "print(\"* 학습용 데이터로 측정한 정확도 = %.2f\" % accuracy)"
      ],
      "metadata": {
        "colab": {
          "base_uri": "https://localhost:8080/"
        },
        "id": "ywywpDzerBnt",
        "outputId": "5794fb63-4d2a-40b3-af35-201a24454ddb"
      },
      "execution_count": null,
      "outputs": [
        {
          "output_type": "stream",
          "name": "stdout",
          "text": [
            "* 시험용 데이터로 측정한 정확도 = 0.97\n",
            "\n",
            "* 학습용 데이터로 측정한 정확도 = 1.00\n"
          ]
        }
      ]
    }
  ]
}