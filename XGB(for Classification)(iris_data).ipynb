{
  "nbformat": 4,
  "nbformat_minor": 0,
  "metadata": {
    "colab": {
      "name": "XGB(for classification)(iris_data).ipynb",
      "provenance": [],
      "collapsed_sections": [],
      "authorship_tag": "ABX9TyPI0Fbvw7SflLtVydffh+UD",
      "include_colab_link": true
    },
    "kernelspec": {
      "name": "python3",
      "display_name": "Python 3"
    },
    "language_info": {
      "name": "python"
    }
  },
  "cells": [
    {
      "cell_type": "markdown",
      "metadata": {
        "id": "view-in-github",
        "colab_type": "text"
      },
      "source": [
        "<a href=\"https://colab.research.google.com/github/hyunicecream/ML-DL/blob/main/XGB(for%20Classification)(iris_data).ipynb\" target=\"_parent\"><img src=\"https://colab.research.google.com/assets/colab-badge.svg\" alt=\"Open In Colab\"/></a>"
      ]
    },
    {
      "cell_type": "code",
      "execution_count": null,
      "metadata": {
        "id": "FjjAHBuI9TAC"
      },
      "outputs": [],
      "source": [
        "from sklearn.datasets import load_iris\n",
        "from sklearn.model_selection import train_test_split\n",
        "import xgboost as xgb\n",
        "import numpy as np"
      ]
    },
    {
      "cell_type": "code",
      "source": [
        "iris = load_iris()"
      ],
      "metadata": {
        "id": "OgaFQipn9sfN"
      },
      "execution_count": null,
      "outputs": []
    },
    {
      "cell_type": "code",
      "source": [
        "# Train 데이터 세트와 Test 데이터 세트를 구성한다 \n",
        "trainX, testX, trainY, testY = train_test_split(iris['data'], iris['target'], test_size = 0.2)"
      ],
      "metadata": {
        "id": "KOIbp1_X9xir"
      },
      "execution_count": null,
      "outputs": []
    },
    {
      "cell_type": "code",
      "source": [
        "# XGBoost (classifier)로 Train 데이터를 학습한다.\n",
        "# 학습데이터와 시험데이터를 xgb의 데이터 형태로 변환한다. \n",
        "trainD = xgb.DMatrix(trainX, label = trainY)\n",
        "testD = xgb.DMatrix(testX, label = testY)\n",
        "param = {\n",
        "    'eta': 0.3,\n",
        "'max_depth': 3,\n",
        "'objective': 'multi:softprob', # softmax\n",
        "'num_class': 3} # class 개수 = 3개 (multi class classification)\n",
        "model = xgb.train(params = param, dtrain = trainD, num_boost_round = 20)"
      ],
      "metadata": {
        "id": "oc07qPz-980C"
      },
      "execution_count": null,
      "outputs": []
    },
    {
      "cell_type": "code",
      "source": [
        "# Test 세트의 Feature에 대한 class를 추정하고, 정확도를 계산한다 \n",
        "predY = model.predict(testD)\n",
        "predY = np.argmax(predY, axis=1)\n",
        "accuracy = (testY == predY).mean()\n",
        "print()\n",
        "print(\"* 시험용 데이터로 측정한 정확도 = %.2f\" % accuracy)\n",
        "\n",
        "# Train 세트의 Feature에 대한 class를 추정하고, 정확도를 계산한다 \n",
        "predY = model.predict(trainD)\n",
        "predY = np.argmax(predY, axis=1)\n",
        "accuracy = (trainY == predY).mean()\n",
        "print(\"* 학습용 데이터로 측정한 정확도 = %.2f\" % accuracy)"
      ],
      "metadata": {
        "colab": {
          "base_uri": "https://localhost:8080/"
        },
        "id": "aoHzvEb6-ILD",
        "outputId": "39072d10-494d-4284-dfef-9cd672ac5cd9"
      },
      "execution_count": null,
      "outputs": [
        {
          "output_type": "stream",
          "name": "stdout",
          "text": [
            "\n",
            "* 시험용 데이터로 측정한 정확도 = 0.93\n",
            "* 학습용 데이터로 측정한 정확도 = 0.99\n"
          ]
        }
      ]
    }
  ]
}