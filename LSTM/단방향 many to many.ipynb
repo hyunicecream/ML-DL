{
  "nbformat": 4,
  "nbformat_minor": 0,
  "metadata": {
    "colab": {
      "name": "단방향 Many-to-many.ipynb",
      "provenance": [],
      "collapsed_sections": [],
      "authorship_tag": "ABX9TyNhvnKDsSuaT/Oaecce0fv1",
      "include_colab_link": true
    },
    "kernelspec": {
      "name": "python3",
      "display_name": "Python 3"
    },
    "language_info": {
      "name": "python"
    }
  },
  "cells": [
    {
      "cell_type": "markdown",
      "metadata": {
        "id": "view-in-github",
        "colab_type": "text"
      },
      "source": [
        "<a href=\"https://colab.research.google.com/github/hyunicecream/ML-DL/blob/main/%EB%8B%A8%EB%B0%A9%ED%96%A5%20many%20to%20many.ipynb\" target=\"_parent\"><img src=\"https://colab.research.google.com/assets/colab-badge.svg\" alt=\"Open In Colab\"/></a>"
      ]
    },
    {
      "cell_type": "code",
      "execution_count": null,
      "metadata": {
        "id": "Licu2s6GvmlM"
      },
      "outputs": [],
      "source": [
        "from tensorflow.keras.layers import Dense, Input, LSTM, TimeDistributed\n",
        "from tensorflow.keras.models import Model\n",
        "from tensorflow.keras.optimizers import Adam\n",
        "import numpy as np\n",
        "import pandas as pd\n",
        "import matplotlib.pyplot as plt"
      ]
    },
    {
      "cell_type": "code",
      "source": [
        "# 2차원 배열의 feature 데이터로 LSTM 학습 데이터를 만든다.\n",
        "def build_train_data(data, t_step, n_jump = 1):\n",
        "  n_data = data.shape[0] # number of data\n",
        "  n_feat = data.shape[1] # number of features\n",
        "\n",
        "  m = np.arange(0, n_data -  t_step, n_jump)  # m = [0,1,2,3,4,5]\n",
        "  x = [data[i:(i+t_step), :] for i in m]      # feature data\n",
        "  y = [data[(i+1):(i+1+t_step), :] for i in m]      # target data\n",
        "# y 값을 변경\n",
        "\n",
        "  # shape을 조정한다. feautre = 3D, target = 2D\n",
        "  x_data = np.reshape(np.array(x), (len(m), t_step, n_feat))\n",
        "  y_target = np.reshape(np.array(y), (len(m), t_step, n_feat))\n",
        "# y_target 값을 3D구조로 변경하면 된다.   \n",
        "  return x_data, y_target"
      ],
      "metadata": {
        "id": "JByHITw1wjJp"
      },
      "execution_count": null,
      "outputs": []
    },
    {
      "cell_type": "code",
      "source": [
        "# 시계열 데이터 (noisy sin)\n",
        "#sine = np.sin(2 * np.pi * 0.03 * np.arange(1001))   # sine 곡선\n",
        "sine = np.sin(2 * np.pi * 0.03 * np.arange(1001)) + np.random.random(1001) # trend & noisy sine"
      ],
      "metadata": {
        "id": "Ehdzp6LGww0x"
      },
      "execution_count": null,
      "outputs": []
    },
    {
      "cell_type": "code",
      "source": [
        "# 데이터가 데이터프레임 형식으로 되어 있다고 생각하자. feature가 1개이고 target이 없는 데이터임.\n",
        "# 미래의 sine 값을 target으로 만들어 주고, LSTM을 학습한다.\n",
        "df = pd.DataFrame({'sine':sine})\n",
        "df.head()"
      ],
      "metadata": {
        "colab": {
          "base_uri": "https://localhost:8080/",
          "height": 206
        },
        "id": "FYywVVW5wz_Z",
        "outputId": "ccbfacd0-f38a-456f-a68f-be8d77a1ae61"
      },
      "execution_count": null,
      "outputs": [
        {
          "output_type": "execute_result",
          "data": {
            "text/html": [
              "\n",
              "  <div id=\"df-bbdf3306-0996-458e-99ea-fa47bd97bfb6\">\n",
              "    <div class=\"colab-df-container\">\n",
              "      <div>\n",
              "<style scoped>\n",
              "    .dataframe tbody tr th:only-of-type {\n",
              "        vertical-align: middle;\n",
              "    }\n",
              "\n",
              "    .dataframe tbody tr th {\n",
              "        vertical-align: top;\n",
              "    }\n",
              "\n",
              "    .dataframe thead th {\n",
              "        text-align: right;\n",
              "    }\n",
              "</style>\n",
              "<table border=\"1\" class=\"dataframe\">\n",
              "  <thead>\n",
              "    <tr style=\"text-align: right;\">\n",
              "      <th></th>\n",
              "      <th>sine</th>\n",
              "    </tr>\n",
              "  </thead>\n",
              "  <tbody>\n",
              "    <tr>\n",
              "      <th>0</th>\n",
              "      <td>0.009325</td>\n",
              "    </tr>\n",
              "    <tr>\n",
              "      <th>1</th>\n",
              "      <td>0.954755</td>\n",
              "    </tr>\n",
              "    <tr>\n",
              "      <th>2</th>\n",
              "      <td>0.681666</td>\n",
              "    </tr>\n",
              "    <tr>\n",
              "      <th>3</th>\n",
              "      <td>1.170881</td>\n",
              "    </tr>\n",
              "    <tr>\n",
              "      <th>4</th>\n",
              "      <td>1.203807</td>\n",
              "    </tr>\n",
              "  </tbody>\n",
              "</table>\n",
              "</div>\n",
              "      <button class=\"colab-df-convert\" onclick=\"convertToInteractive('df-bbdf3306-0996-458e-99ea-fa47bd97bfb6')\"\n",
              "              title=\"Convert this dataframe to an interactive table.\"\n",
              "              style=\"display:none;\">\n",
              "        \n",
              "  <svg xmlns=\"http://www.w3.org/2000/svg\" height=\"24px\"viewBox=\"0 0 24 24\"\n",
              "       width=\"24px\">\n",
              "    <path d=\"M0 0h24v24H0V0z\" fill=\"none\"/>\n",
              "    <path d=\"M18.56 5.44l.94 2.06.94-2.06 2.06-.94-2.06-.94-.94-2.06-.94 2.06-2.06.94zm-11 1L8.5 8.5l.94-2.06 2.06-.94-2.06-.94L8.5 2.5l-.94 2.06-2.06.94zm10 10l.94 2.06.94-2.06 2.06-.94-2.06-.94-.94-2.06-.94 2.06-2.06.94z\"/><path d=\"M17.41 7.96l-1.37-1.37c-.4-.4-.92-.59-1.43-.59-.52 0-1.04.2-1.43.59L10.3 9.45l-7.72 7.72c-.78.78-.78 2.05 0 2.83L4 21.41c.39.39.9.59 1.41.59.51 0 1.02-.2 1.41-.59l7.78-7.78 2.81-2.81c.8-.78.8-2.07 0-2.86zM5.41 20L4 18.59l7.72-7.72 1.47 1.35L5.41 20z\"/>\n",
              "  </svg>\n",
              "      </button>\n",
              "      \n",
              "  <style>\n",
              "    .colab-df-container {\n",
              "      display:flex;\n",
              "      flex-wrap:wrap;\n",
              "      gap: 12px;\n",
              "    }\n",
              "\n",
              "    .colab-df-convert {\n",
              "      background-color: #E8F0FE;\n",
              "      border: none;\n",
              "      border-radius: 50%;\n",
              "      cursor: pointer;\n",
              "      display: none;\n",
              "      fill: #1967D2;\n",
              "      height: 32px;\n",
              "      padding: 0 0 0 0;\n",
              "      width: 32px;\n",
              "    }\n",
              "\n",
              "    .colab-df-convert:hover {\n",
              "      background-color: #E2EBFA;\n",
              "      box-shadow: 0px 1px 2px rgba(60, 64, 67, 0.3), 0px 1px 3px 1px rgba(60, 64, 67, 0.15);\n",
              "      fill: #174EA6;\n",
              "    }\n",
              "\n",
              "    [theme=dark] .colab-df-convert {\n",
              "      background-color: #3B4455;\n",
              "      fill: #D2E3FC;\n",
              "    }\n",
              "\n",
              "    [theme=dark] .colab-df-convert:hover {\n",
              "      background-color: #434B5C;\n",
              "      box-shadow: 0px 1px 3px 1px rgba(0, 0, 0, 0.15);\n",
              "      filter: drop-shadow(0px 1px 2px rgba(0, 0, 0, 0.3));\n",
              "      fill: #FFFFFF;\n",
              "    }\n",
              "  </style>\n",
              "\n",
              "      <script>\n",
              "        const buttonEl =\n",
              "          document.querySelector('#df-bbdf3306-0996-458e-99ea-fa47bd97bfb6 button.colab-df-convert');\n",
              "        buttonEl.style.display =\n",
              "          google.colab.kernel.accessAllowed ? 'block' : 'none';\n",
              "\n",
              "        async function convertToInteractive(key) {\n",
              "          const element = document.querySelector('#df-bbdf3306-0996-458e-99ea-fa47bd97bfb6');\n",
              "          const dataTable =\n",
              "            await google.colab.kernel.invokeFunction('convertToInteractive',\n",
              "                                                     [key], {});\n",
              "          if (!dataTable) return;\n",
              "\n",
              "          const docLinkHtml = 'Like what you see? Visit the ' +\n",
              "            '<a target=\"_blank\" href=https://colab.research.google.com/notebooks/data_table.ipynb>data table notebook</a>'\n",
              "            + ' to learn more about interactive tables.';\n",
              "          element.innerHTML = '';\n",
              "          dataTable['output_type'] = 'display_data';\n",
              "          await google.colab.output.renderOutput(dataTable, element);\n",
              "          const docLink = document.createElement('div');\n",
              "          docLink.innerHTML = docLinkHtml;\n",
              "          element.appendChild(docLink);\n",
              "        }\n",
              "      </script>\n",
              "    </div>\n",
              "  </div>\n",
              "  "
            ],
            "text/plain": [
              "       sine\n",
              "0  0.009325\n",
              "1  0.954755\n",
              "2  0.681666\n",
              "3  1.170881\n",
              "4  1.203807"
            ]
          },
          "metadata": {},
          "execution_count": 4
        }
      ]
    },
    {
      "cell_type": "code",
      "source": [
        "t_step = 20\n",
        "\n",
        "# 학습 데이터를 생성한다.\n",
        "data = np.array(df)\n",
        "x_train, y_train = build_train_data(data, t_step)\n",
        "x_train.shape, y_train.shape"
      ],
      "metadata": {
        "colab": {
          "base_uri": "https://localhost:8080/"
        },
        "id": "tbGlwEr5w1y8",
        "outputId": "948780ba-38bc-40ee-aa9c-9a26bbc58129"
      },
      "execution_count": null,
      "outputs": [
        {
          "output_type": "execute_result",
          "data": {
            "text/plain": [
              "((981, 20, 1), (981, 20, 1))"
            ]
          },
          "metadata": {},
          "execution_count": 5
        }
      ]
    },
    {
      "cell_type": "code",
      "source": [
        "n_input = 1\n",
        "n_output = 1\n",
        "n_hidden = 50\n",
        "\n",
        "# LSTM 모델을 생성한다.\n",
        "x_input = Input(batch_shape=(None, t_step, n_input))\n",
        "x_lstm = LSTM(n_hidden, return_sequences=True)(x_input) # 2층으로 보내기 위한 return_sequences\n",
        "x_lstm = LSTM(n_hidden, return_sequences=True)(x_lstm) # TimeDistributed 로 보내기 위한 return_sequences\n",
        "y_output =  TimeDistributed(Dense(n_output))(x_lstm)\n",
        "####### return_sequences=True(중간출력 모두 사용) \n",
        "# TimeDistributedDense(중간 출력마다 FFW를 닫아서 중간 결과과 나오도록 학습).  --> many to many로 변환\n",
        "\n",
        "model = Model(x_input, y_output)\n",
        "model.compile(loss='mse', optimizer=Adam(learning_rate=0.001))\n",
        "model.summary()"
      ],
      "metadata": {
        "colab": {
          "base_uri": "https://localhost:8080/"
        },
        "id": "zVE0_A_Bw4IJ",
        "outputId": "aaf623d3-5fa3-4414-946e-aefe6cbb7181"
      },
      "execution_count": null,
      "outputs": [
        {
          "output_type": "stream",
          "name": "stdout",
          "text": [
            "Model: \"model\"\n",
            "_________________________________________________________________\n",
            " Layer (type)                Output Shape              Param #   \n",
            "=================================================================\n",
            " input_1 (InputLayer)        [(None, 20, 1)]           0         \n",
            "                                                                 \n",
            " lstm (LSTM)                 (None, 20, 50)            10400     \n",
            "                                                                 \n",
            " lstm_1 (LSTM)               (None, 20, 50)            20200     \n",
            "                                                                 \n",
            " time_distributed (TimeDistr  (None, 20, 1)            51        \n",
            " ibuted)                                                         \n",
            "                                                                 \n",
            "=================================================================\n",
            "Total params: 30,651\n",
            "Trainable params: 30,651\n",
            "Non-trainable params: 0\n",
            "_________________________________________________________________\n"
          ]
        }
      ]
    },
    {
      "cell_type": "code",
      "source": [
        "# 학습한다\n",
        "h = model.fit(x_train, y_train, epochs=20, batch_size=100, shuffle=True)"
      ],
      "metadata": {
        "colab": {
          "base_uri": "https://localhost:8080/"
        },
        "id": "umLHyIk9xFRj",
        "outputId": "0e890078-230b-48c7-b4e2-9f3cce702c66"
      },
      "execution_count": null,
      "outputs": [
        {
          "output_type": "stream",
          "name": "stdout",
          "text": [
            "Epoch 1/20\n",
            "10/10 [==============================] - 18s 81ms/step - loss: 0.5992\n",
            "Epoch 2/20\n",
            "10/10 [==============================] - 1s 80ms/step - loss: 0.3507\n",
            "Epoch 3/20\n",
            "10/10 [==============================] - 1s 67ms/step - loss: 0.2460\n",
            "Epoch 4/20\n",
            "10/10 [==============================] - 1s 69ms/step - loss: 0.2136\n",
            "Epoch 5/20\n",
            "10/10 [==============================] - 1s 76ms/step - loss: 0.1966\n",
            "Epoch 6/20\n",
            "10/10 [==============================] - 1s 65ms/step - loss: 0.1825\n",
            "Epoch 7/20\n",
            "10/10 [==============================] - 1s 61ms/step - loss: 0.1730\n",
            "Epoch 8/20\n",
            "10/10 [==============================] - 1s 73ms/step - loss: 0.1661\n",
            "Epoch 9/20\n",
            "10/10 [==============================] - 1s 78ms/step - loss: 0.1605\n",
            "Epoch 10/20\n",
            "10/10 [==============================] - 1s 74ms/step - loss: 0.1562\n",
            "Epoch 11/20\n",
            "10/10 [==============================] - 1s 63ms/step - loss: 0.1525\n",
            "Epoch 12/20\n",
            "10/10 [==============================] - 1s 68ms/step - loss: 0.1493\n",
            "Epoch 13/20\n",
            "10/10 [==============================] - 1s 68ms/step - loss: 0.1464\n",
            "Epoch 14/20\n",
            "10/10 [==============================] - 1s 59ms/step - loss: 0.1440\n",
            "Epoch 15/20\n",
            "10/10 [==============================] - 1s 66ms/step - loss: 0.1418\n",
            "Epoch 16/20\n",
            "10/10 [==============================] - 1s 80ms/step - loss: 0.1398\n",
            "Epoch 17/20\n",
            "10/10 [==============================] - 1s 80ms/step - loss: 0.1377\n",
            "Epoch 18/20\n",
            "10/10 [==============================] - 1s 69ms/step - loss: 0.1359\n",
            "Epoch 19/20\n",
            "10/10 [==============================] - 1s 77ms/step - loss: 0.1342\n",
            "Epoch 20/20\n",
            "10/10 [==============================] - 1s 76ms/step - loss: 0.1327\n"
          ]
        }
      ]
    },
    {
      "cell_type": "code",
      "source": [
        "# Loss history를 그린다\n",
        "plt.figure(figsize=(8, 3))\n",
        "plt.plot(h.history['loss'], color='red')\n",
        "plt.title(\"Loss History\")\n",
        "plt.xlabel(\"epoch\")\n",
        "plt.ylabel(\"loss\")\n",
        "plt.show()"
      ],
      "metadata": {
        "colab": {
          "base_uri": "https://localhost:8080/",
          "height": 241
        },
        "id": "MNbC8iAfxIX0",
        "outputId": "404ed9ac-e2f7-4e44-8117-da604f04d6d3"
      },
      "execution_count": null,
      "outputs": [
        {
          "output_type": "display_data",
          "data": {
            "image/png": "[encoded data removed]",
            "text/plain": [
              "<Figure size 576x216 with 1 Axes>"
            ]
          },
          "metadata": {
            "needs_background": "light"
          }
        }
      ]
    },
    {
      "cell_type": "code",
      "source": [
        "# 향후 20 기간 데이터를 예측한다. 향후 1 기간을 예측하고, 예측값을 다시 입력하여 2 기간을 예측한다.\n",
        "# 이런 방식으로 20 기간까지 예측한다.\n",
        "n_future = 20\n",
        "n_last = 100\n",
        "if len(data) > n_last:\n",
        "    last_data = np.copy(data[-n_last:])  # 원 데이터의 마지막 n_last개만 그려본다\n",
        "else:\n",
        "    last_data = np.copy(data)\n",
        "\n",
        "dx = np.copy(last_data)\n",
        "estimated = [dx[-1][0]]\n",
        "for i in range(n_future):\n",
        "    # 마지막 t_step 만큼 입력데이터로 다음 값을 예측한다\n",
        "    px = dx[-t_step:].reshape(1, t_step, 1)\n",
        "    \n",
        "    # 다음 값을 예측한다.\n",
        "    y_hat = model.predict(px)[0][-1][0]\n",
        "####### 첫번째 : 차원을 빼내기 위해서  두번째 : 맨뒤에를 뽑아내라 세번째: 리스트안에 있는 숫자를 뽑아내라\n",
        "        \n",
        "    # 예측값을 저장해 둔다\n",
        "    estimated.append(y_hat)\n",
        "    \n",
        "    # 이전 예측값을 포함하여 또 다음 값을 예측하기위해 예측한 값을 저장해 둔다\n",
        "    dx = np.insert(dx, len(dx), y_hat)"
      ],
      "metadata": {
        "id": "Gcd3rU3QxLXG"
      },
      "execution_count": null,
      "outputs": []
    },
    {
      "cell_type": "code",
      "source": [
        "# 원 시계열과 예측된 시계열을 그린다\n",
        "plt.figure(figsize=(12, 6))\n",
        "ax1 = np.arange(1, len(last_data) + 1)\n",
        "ax2 = np.arange(len(last_data), len(last_data) + len(estimated))\n",
        "plt.plot(ax1, last_data, 'b-o', color='blue', markersize=3, label='Time series', linewidth=1)\n",
        "plt.plot(ax2, estimated, 'b-o', color='red', markersize=3, label='Estimated')\n",
        "plt.axvline(x=ax1[-1],  linestyle='dashed', linewidth=1)\n",
        "plt.legend()\n",
        "plt.show()"
      ],
      "metadata": {
        "colab": {
          "base_uri": "https://localhost:8080/",
          "height": 331
        },
        "id": "QilUR6znxW9_",
        "outputId": "07c46c35-4e39-418a-ee98-6efc59dac11f"
      },
      "execution_count": null,
      "outputs": [
        {
          "output_type": "display_data",
          "data": {
            "image/png": "[encoded data removed]",
            "text/plain": [
              "<Figure size 864x432 with 1 Axes>"
            ]
          },
          "metadata": {
            "needs_background": "light"
          }
        }
      ]
    }
  ]
}
