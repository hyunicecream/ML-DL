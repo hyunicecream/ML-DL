{
  "nbformat": 4,
  "nbformat_minor": 0,
  "metadata": {
    "colab": {
      "name": "Decision Tree(Iris_DATA).ipynb",
      "provenance": [],
      "collapsed_sections": [],
      "mount_file_id": "1fE1euqk6LBoDYhqMGr8qhvyxhGTUIeI7",
      "authorship_tag": "ABX9TyPp4X2FpOVGoR6zluPrlVz2",
      "include_colab_link": true
    },
    "kernelspec": {
      "name": "python3",
      "display_name": "Python 3"
    },
    "language_info": {
      "name": "python"
    }
  },
  "cells": [
    {
      "cell_type": "markdown",
      "metadata": {
        "id": "view-in-github",
        "colab_type": "text"
      },
      "source": [
        "<a href=\"https://colab.research.google.com/github/hyunicecream/ML-DL/blob/main/Decision_Tree(Iris_DATA).ipynb\" target=\"_parent\"><img src=\"https://colab.research.google.com/assets/colab-badge.svg\" alt=\"Open In Colab\"/></a>"
      ]
    },
    {
      "cell_type": "code",
      "execution_count": null,
      "metadata": {
        "id": "qEBF9KY94eyu"
      },
      "outputs": [],
      "source": [
        "import matplotlib.pyplot as plt\n",
        "import numpy as np\n",
        "from sklearn.datasets import load_iris\n",
        "from sklearn.model_selection import train_test_split\n",
        "from sklearn.tree import DecisionTreeClassifier"
      ]
    },
    {
      "cell_type": "code",
      "source": [
        "iris = load_iris()"
      ],
      "metadata": {
        "id": "B2a2QN0s5ed8"
      },
      "execution_count": null,
      "outputs": []
    },
    {
      "cell_type": "code",
      "source": [
        "x_train, x_test, y_train, y_test = train_test_split(iris['data'], iris['target'], test_size=0.2)"
      ],
      "metadata": {
        "id": "5XUWmFgg5jyO"
      },
      "execution_count": null,
      "outputs": []
    },
    {
      "cell_type": "code",
      "source": [
        "trainGini = []\n",
        "testGini = []\n",
        "trainEntropy = []\n",
        "testEntropy = []\n",
        "\n",
        "for k in range(5, 21):\n",
        "  # Gini 계수를 사용하여 학습 데이터를 학습한다.\n",
        "  dt = DecisionTreeClassifier(criterion='gini', max_depth=k)\n",
        "  dt.fit(x_train, y_train)\n",
        "\n",
        "  # 정확도를 측정한다.\n",
        "  trainGini.append(dt.score(x_train, y_train))\n",
        "  testGini.append(dt.score(x_test, y_test))\n",
        "\n",
        "  # Entropy를 사용하여 학습 데이터를 학습한다.\n",
        "  dt = DecisionTreeClassifier(criterion='entropy', max_depth=k)\n",
        "  dt.fit(x_train, y_train)\n",
        "  trainEntropy.append(dt.score(x_train, y_train))\n",
        "  testEntropy.append(dt.score(x_test, y_test))"
      ],
      "metadata": {
        "id": "SL2AJ8Hp5-eW"
      },
      "execution_count": null,
      "outputs": []
    },
    {
      "cell_type": "code",
      "source": [
        "print(trainGini)\n",
        "print(testGini)\n",
        "print(trainEntropy)\n",
        "print(testEntropy)"
      ],
      "metadata": {
        "colab": {
          "base_uri": "https://localhost:8080/"
        },
        "id": "e1lWtFxH7Aal",
        "outputId": "fc141ab9-024d-4375-d9eb-15bab8fa3980"
      },
      "execution_count": null,
      "outputs": [
        {
          "output_type": "stream",
          "name": "stdout",
          "text": [
            "[0.9916666666666667, 1.0, 1.0, 1.0, 1.0, 1.0, 1.0, 1.0, 1.0, 1.0, 1.0, 1.0, 1.0, 1.0, 1.0, 1.0]\n",
            "[0.9666666666666667, 1.0, 0.9666666666666667, 1.0, 0.9666666666666667, 0.9666666666666667, 0.9666666666666667, 0.9666666666666667, 0.9666666666666667, 0.9333333333333333, 1.0, 1.0, 0.9666666666666667, 0.9666666666666667, 0.9666666666666667, 0.9333333333333333]\n",
            "[1.0, 1.0, 1.0, 1.0, 1.0, 1.0, 1.0, 1.0, 1.0, 1.0, 1.0, 1.0, 1.0, 1.0, 1.0, 1.0]\n",
            "[0.9666666666666667, 0.9666666666666667, 0.9666666666666667, 0.9666666666666667, 1.0, 1.0, 1.0, 1.0, 0.9666666666666667, 0.9666666666666667, 1.0, 1.0, 1.0, 1.0, 0.9666666666666667, 0.9666666666666667]\n"
          ]
        }
      ]
    },
    {
      "cell_type": "code",
      "source": [
        "# 정확도 평가\n",
        "acc = dt.score(x_test, y_test)\n",
        "print('정확도 = ', np.round(acc, 4))"
      ],
      "metadata": {
        "colab": {
          "base_uri": "https://localhost:8080/"
        },
        "id": "PNUOoi0tDOnJ",
        "outputId": "e6012338-e16f-40cb-a7db-880b2004e94e"
      },
      "execution_count": null,
      "outputs": [
        {
          "output_type": "stream",
          "name": "stdout",
          "text": [
            "정확도 =  0.9667\n"
          ]
        }
      ]
    },
    {
      "cell_type": "code",
      "source": [
        "# Gini와 Entropy, 그리고 tree depth에 따른 정확도를 비교한다.\n",
        "plt.figure(figsize=(8,5))\n",
        "plt.plot(trainGini, label = \"Gini/Train\")\n",
        "plt.plot(trainEntropy, label = \"Entropy/Train\")\n",
        "plt.plot(testGini, label = \"Gini/Test\")\n",
        "plt.plot(testEntropy, label = \"Entropy/Test\")\n",
        "plt.legend()\n",
        "plt.xlabel(\"tree depth\")\n",
        "plt.ylabel(\"Accuracy\")\n",
        "plt.show()"
      ],
      "metadata": {
        "colab": {
          "base_uri": "https://localhost:8080/",
          "height": 334
        },
        "id": "B6HH1zQW7Tr_",
        "outputId": "dd687419-ed44-46f8-f7c9-95bd57a6fed9"
      },
      "execution_count": null,
      "outputs": [
        {
          "output_type": "display_data",
          "data": {
            "image/png": "[encoded data removed]",
            "text/plain": [
              "<Figure size 576x360 with 1 Axes>"
            ]
          },
          "metadata": {
            "needs_background": "light"
          }
        }
      ]
    },
    {
      "cell_type": "code",
      "source": [
        "# feature별 중요도를 파악한다.\n",
        "feat_impo = dt.feature_importances_\n",
        "feat_name = list(iris['feature_names'])\n",
        "print(feat_impo)\n",
        "print(feat_name)"
      ],
      "metadata": {
        "colab": {
          "base_uri": "https://localhost:8080/"
        },
        "id": "shjUro4z7Zwm",
        "outputId": "5011da6a-02bc-4409-f9d6-8e52a032bde6"
      },
      "execution_count": null,
      "outputs": [
        {
          "output_type": "stream",
          "name": "stdout",
          "text": [
            "[0.02900713 0.01105509 0.63119732 0.32874046]\n",
            "['sepal length (cm)', 'sepal width (cm)', 'petal length (cm)', 'petal width (cm)']\n"
          ]
        }
      ]
    },
    {
      "cell_type": "code",
      "source": [
        "np.sort(feat_name)\n",
        "# np.sort(feat_name)[::-1] # 내림차순\n",
        "# np.argsort(feat_name)\n",
        "# np.argsort(feat_name)[::-1]"
      ],
      "metadata": {
        "colab": {
          "base_uri": "https://localhost:8080/"
        },
        "id": "p_XmRVMc8_zk",
        "outputId": "b1f8cfb4-6159-4a96-dcf6-1ad02bb2fa8a"
      },
      "execution_count": null,
      "outputs": [
        {
          "output_type": "execute_result",
          "data": {
            "text/plain": [
              "array(['petal length (cm)', 'petal width (cm)', 'sepal length (cm)',\n",
              "       'sepal width (cm)'], dtype='<U17')"
            ]
          },
          "metadata": {},
          "execution_count": 33
        }
      ]
    },
    {
      "cell_type": "code",
      "source": [
        "# 중요도가 높은 feture 5개를 확인한다.\n",
        "\n",
        "idx = np.argsort(feat_impo)[::-1][:5] \n",
        "plt.figure(figsize=(12, 8))\n",
        "x_idx = np.arange(len(feat_name))\n",
        "plt.barh(x_idx, feat_impo, align = 'center')\n",
        "plt.yticks(x_idx, feat_name)\n",
        "plt.xlabel('feature importance')\n",
        "plt.ylabel('feature')\n",
        "plt.show()"
      ],
      "metadata": {
        "colab": {
          "base_uri": "https://localhost:8080/",
          "height": 497
        },
        "id": "8gD1Y1Lf9LWf",
        "outputId": "514ddcdf-9ef7-4823-b5b6-6a01ad15103c"
      },
      "execution_count": null,
      "outputs": [
        {
          "output_type": "display_data",
          "data": {
            "image/png": "[encoded data removed]",
            "text/plain": [
              "<Figure size 864x576 with 1 Axes>"
            ]
          },
          "metadata": {
            "needs_background": "light"
          }
        }
      ]
    },
    {
      "cell_type": "code",
      "source": [
        "print(idx)"
      ],
      "metadata": {
        "id": "qXFhcLDqVzHt",
        "outputId": "6f547497-20b4-4910-ce9a-55b8980a228d",
        "colab": {
          "base_uri": "https://localhost:8080/"
        }
      },
      "execution_count": null,
      "outputs": [
        {
          "output_type": "stream",
          "name": "stdout",
          "text": [
            "[2 3 0 1]\n"
          ]
        }
      ]
    }
  ]
}
