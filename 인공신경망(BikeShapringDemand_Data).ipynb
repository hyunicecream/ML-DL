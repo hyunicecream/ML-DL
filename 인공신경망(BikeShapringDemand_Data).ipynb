{
  "nbformat": 4,
  "nbformat_minor": 0,
  "metadata": {
    "colab": {
      "name": "\b인공신경망(BikeShapringDemand_Data).ipynb",
      "provenance": [],
      "collapsed_sections": [],
      "mount_file_id": "1mFESnJjFSc0C9cQkOEjopulJVnCNTxVh",
      "authorship_tag": "ABX9TyPB0W4qwZBYoodR61lp/7Z2",
      "include_colab_link": true
    },
    "kernelspec": {
      "name": "python3",
      "display_name": "Python 3"
    },
    "language_info": {
      "name": "python"
    }
  },
  "cells": [
    {
      "cell_type": "markdown",
      "metadata": {
        "id": "view-in-github",
        "colab_type": "text"
      },
      "source": [
        "<a href=\"https://colab.research.google.com/github/hyunicecream/ML-DL/blob/main/%08%EC%9D%B8%EA%B3%B5%EC%8B%A0%EA%B2%BD%EB%A7%9D(BikeShapringDemand_Data).ipynb\" target=\"_parent\"><img src=\"https://colab.research.google.com/assets/colab-badge.svg\" alt=\"Open In Colab\"/></a>"
      ]
    },
    {
      "cell_type": "code",
      "execution_count": null,
      "metadata": {
        "id": "_NkesPa8bX8G"
      },
      "outputs": [],
      "source": [
        "# 자전거 대여 횟수 (count) 예측\n",
        "import pandas as pd\n",
        "import numpy as np\n",
        "import matplotlib.pyplot as plt\n",
        "import seaborn as sns\n",
        "from sklearn.metrics import mean_squared_error, r2_score\n",
        "from sklearn.model_selection import train_test_split\n",
        "from tensorflow.keras.layers import Input, Dense, Dropout\n",
        "from tensorflow.keras.models import Model\n",
        "from tensorflow.keras.optimizers import Adam\n",
        "from sklearn.preprocessing import StandardScaler, MinMaxScaler"
      ]
    },
    {
      "cell_type": "code",
      "source": [
        "df = pd.read_csv('/content/drive/MyDrive/Private_room/data/bike sharing demand.csv')\n",
        "df.head()"
      ],
      "metadata": {
        "colab": {
          "base_uri": "https://localhost:8080/",
          "height": 206
        },
        "id": "WGmsowXubZAr",
        "outputId": "eca384d2-40f7-40d7-d331-65eafa2baab6"
      },
      "execution_count": null,
      "outputs": [
        {
          "output_type": "execute_result",
          "data": {
            "text/html": [
              "<div>\n",
              "<style scoped>\n",
              "    .dataframe tbody tr th:only-of-type {\n",
              "        vertical-align: middle;\n",
              "    }\n",
              "\n",
              "    .dataframe tbody tr th {\n",
              "        vertical-align: top;\n",
              "    }\n",
              "\n",
              "    .dataframe thead th {\n",
              "        text-align: right;\n",
              "    }\n",
              "</style>\n",
              "<table border=\"1\" class=\"dataframe\">\n",
              "  <thead>\n",
              "    <tr style=\"text-align: right;\">\n",
              "      <th></th>\n",
              "      <th>datetime</th>\n",
              "      <th>season</th>\n",
              "      <th>holiday</th>\n",
              "      <th>workingday</th>\n",
              "      <th>weather</th>\n",
              "      <th>temp</th>\n",
              "      <th>atemp</th>\n",
              "      <th>humidity</th>\n",
              "      <th>windspeed</th>\n",
              "      <th>casual</th>\n",
              "      <th>registered</th>\n",
              "      <th>count</th>\n",
              "    </tr>\n",
              "  </thead>\n",
              "  <tbody>\n",
              "    <tr>\n",
              "      <th>0</th>\n",
              "      <td>2011-01-01 00:00:00</td>\n",
              "      <td>1</td>\n",
              "      <td>0</td>\n",
              "      <td>0</td>\n",
              "      <td>1</td>\n",
              "      <td>9.84</td>\n",
              "      <td>14.395</td>\n",
              "      <td>81</td>\n",
              "      <td>0.0</td>\n",
              "      <td>3</td>\n",
              "      <td>13</td>\n",
              "      <td>16</td>\n",
              "    </tr>\n",
              "    <tr>\n",
              "      <th>1</th>\n",
              "      <td>2011-01-01 01:00:00</td>\n",
              "      <td>1</td>\n",
              "      <td>0</td>\n",
              "      <td>0</td>\n",
              "      <td>1</td>\n",
              "      <td>9.02</td>\n",
              "      <td>13.635</td>\n",
              "      <td>80</td>\n",
              "      <td>0.0</td>\n",
              "      <td>8</td>\n",
              "      <td>32</td>\n",
              "      <td>40</td>\n",
              "    </tr>\n",
              "    <tr>\n",
              "      <th>2</th>\n",
              "      <td>2011-01-01 02:00:00</td>\n",
              "      <td>1</td>\n",
              "      <td>0</td>\n",
              "      <td>0</td>\n",
              "      <td>1</td>\n",
              "      <td>9.02</td>\n",
              "      <td>13.635</td>\n",
              "      <td>80</td>\n",
              "      <td>0.0</td>\n",
              "      <td>5</td>\n",
              "      <td>27</td>\n",
              "      <td>32</td>\n",
              "    </tr>\n",
              "    <tr>\n",
              "      <th>3</th>\n",
              "      <td>2011-01-01 03:00:00</td>\n",
              "      <td>1</td>\n",
              "      <td>0</td>\n",
              "      <td>0</td>\n",
              "      <td>1</td>\n",
              "      <td>9.84</td>\n",
              "      <td>14.395</td>\n",
              "      <td>75</td>\n",
              "      <td>0.0</td>\n",
              "      <td>3</td>\n",
              "      <td>10</td>\n",
              "      <td>13</td>\n",
              "    </tr>\n",
              "    <tr>\n",
              "      <th>4</th>\n",
              "      <td>2011-01-01 04:00:00</td>\n",
              "      <td>1</td>\n",
              "      <td>0</td>\n",
              "      <td>0</td>\n",
              "      <td>1</td>\n",
              "      <td>9.84</td>\n",
              "      <td>14.395</td>\n",
              "      <td>75</td>\n",
              "      <td>0.0</td>\n",
              "      <td>0</td>\n",
              "      <td>1</td>\n",
              "      <td>1</td>\n",
              "    </tr>\n",
              "  </tbody>\n",
              "</table>\n",
              "</div>"
            ],
            "text/plain": [
              "              datetime  season  holiday  ...  casual  registered  count\n",
              "0  2011-01-01 00:00:00       1        0  ...       3          13     16\n",
              "1  2011-01-01 01:00:00       1        0  ...       8          32     40\n",
              "2  2011-01-01 02:00:00       1        0  ...       5          27     32\n",
              "3  2011-01-01 03:00:00       1        0  ...       3          10     13\n",
              "4  2011-01-01 04:00:00       1        0  ...       0           1      1\n",
              "\n",
              "[5 rows x 12 columns]"
            ]
          },
          "metadata": {},
          "execution_count": 63
        }
      ]
    },
    {
      "cell_type": "code",
      "source": [
        "# datetime을 년, 월, 일, 시간 컬럼으로 분리\n",
        "# df['datetime'] = df['datetime'].apply(pd.to_datetime)\n",
        "# df['year'] = df['datetime'].dt.year\n",
        "# df['month'] = df['datetime'].dt.month\n",
        "# df['day'] = df['datetime'].dt.day\n",
        "# df['hour'] = df['datetime'].dt.hour\n",
        "df['datetime'] = df['datetime'].apply(pd.to_datetime)\n",
        "df['year'] = df['datetime'].apply(lambda x: x.year)\n",
        "df['month'] = df['datetime'].apply(lambda x: x.month)\n",
        "df['day'] = df['datetime'].apply(lambda x: x.day)\n",
        "df['hour'] = df['datetime'].apply(lambda x: x.hour)"
      ],
      "metadata": {
        "id": "5n_-SAi9bzCS"
      },
      "execution_count": null,
      "outputs": []
    },
    {
      "cell_type": "code",
      "source": [
        "# 불필요한 컬럼 삭제\n",
        "df.drop(['datetime', 'casual', 'registered'], axis=1, inplace=True)"
      ],
      "metadata": {
        "id": "gKMHjqK5che7"
      },
      "execution_count": null,
      "outputs": []
    },
    {
      "cell_type": "code",
      "source": [
        "# 학습데이터\n",
        "features = df.drop(['count'], axis=1)\n",
        "target = np.array(df['count']).reshape(-1, 1)"
      ],
      "metadata": {
        "id": "LVaueAC-cpRk"
      },
      "execution_count": null,
      "outputs": []
    },
    {
      "cell_type": "code",
      "source": [
        "# 데이터 표준화 (Z-score)\n",
        "feat = ['temp', 'atemp', 'humidity', 'windspeed']\n",
        "features[feat] = StandardScaler().fit_transform(features[feat])"
      ],
      "metadata": {
        "id": "cSNOli2Kc67Q"
      },
      "execution_count": null,
      "outputs": []
    },
    {
      "cell_type": "code",
      "source": [
        "# categorical feature들은 one-hot encoding 한다.\n",
        "features_ohe = pd.get_dummies(features, columns=['year', 'month'])\n",
        "features_ohe = np.array(features_ohe)"
      ],
      "metadata": {
        "id": "zefqYDmxdFOX"
      },
      "execution_count": null,
      "outputs": []
    },
    {
      "cell_type": "code",
      "source": [
        "# 학습데이터와 시험데이터 분리\n",
        "x_train, x_test, y_train, y_test = train_test_split(features_ohe, target, test_size=0.2)\n",
        "x_train.shape, y_train.shape"
      ],
      "metadata": {
        "colab": {
          "base_uri": "https://localhost:8080/"
        },
        "id": "8957zslcdT6L",
        "outputId": "57c352f5-6edb-49a0-fdae-72646f24f9b9"
      },
      "execution_count": null,
      "outputs": [
        {
          "output_type": "execute_result",
          "data": {
            "text/plain": [
              "((8708, 24), (8708, 1))"
            ]
          },
          "metadata": {},
          "execution_count": 69
        }
      ]
    },
    {
      "cell_type": "code",
      "source": [
        "# target 값을 표준화한다.\n",
        "scaleY = StandardScaler()\n",
        "scaleY.fit(y_train)\n",
        "y_train = scaleY.transform(y_train)\n",
        "print('train data의 평균 = {:.2f}, 분산 = {:.2f}'.format(scaleY.mean_[0], scaleY.var_[0]))"
      ],
      "metadata": {
        "colab": {
          "base_uri": "https://localhost:8080/"
        },
        "id": "vPmriSOMdjIh",
        "outputId": "e26e6a69-6426-480e-a0ac-28e643c1b143"
      },
      "execution_count": null,
      "outputs": [
        {
          "output_type": "stream",
          "name": "stdout",
          "text": [
            "train data의 평균 = 193.39, 분산 = 33415.49\n"
          ]
        }
      ]
    },
    {
      "cell_type": "code",
      "source": [
        "# test target은 알고 있는 값이 아니므로 train target의 평균과 표준편차를 사용한다.\n",
        "# train, test target의 분포는 유사하다는 가정이 전제되어 있다.\n",
        "y_test = scaleY.transform(y_test)"
      ],
      "metadata": {
        "id": "gqZEkqLhd1Nv"
      },
      "execution_count": null,
      "outputs": []
    },
    {
      "cell_type": "code",
      "source": [
        "# 인공신경망 모델 생성\n",
        "\n",
        "n_feature = 24\n",
        "n_hidden = 32\n",
        "n_output = 1\n",
        "x_input = Input(batch_shape = (None, n_feature))\n",
        "h_layer = Dense(n_hidden, activation='relu')(x_input)\n",
        "h_layer = Dropout(rate = 0.5)(h_layer)\n",
        "h_layer = Dense(n_hidden, activation='relu')(h_layer)\n",
        "h_layer = Dropout(rate = 0.5)(h_layer)\n",
        "y_output = Dense(n_output)(h_layer)\n",
        "\n",
        "model = Model(x_input, y_output)\n",
        "model.compile(loss='mse', optimizer=Adam(learning_rate = 0.001))\n",
        "model.summary()"
      ],
      "metadata": {
        "colab": {
          "base_uri": "https://localhost:8080/"
        },
        "id": "oJOefqZUd6TG",
        "outputId": "991da454-0018-413e-cdfc-fb0c8e7de4d2"
      },
      "execution_count": null,
      "outputs": [
        {
          "output_type": "stream",
          "name": "stdout",
          "text": [
            "Model: \"model_3\"\n",
            "_________________________________________________________________\n",
            " Layer (type)                Output Shape              Param #   \n",
            "=================================================================\n",
            " input_4 (InputLayer)        [(None, 24)]              0         \n",
            "                                                                 \n",
            " dense_9 (Dense)             (None, 32)                800       \n",
            "                                                                 \n",
            " dropout_6 (Dropout)         (None, 32)                0         \n",
            "                                                                 \n",
            " dense_10 (Dense)            (None, 32)                1056      \n",
            "                                                                 \n",
            " dropout_7 (Dropout)         (None, 32)                0         \n",
            "                                                                 \n",
            " dense_11 (Dense)            (None, 1)                 33        \n",
            "                                                                 \n",
            "=================================================================\n",
            "Total params: 1,889\n",
            "Trainable params: 1,889\n",
            "Non-trainable params: 0\n",
            "_________________________________________________________________\n"
          ]
        }
      ]
    },
    {
      "cell_type": "code",
      "source": [
        "hist = model.fit(x_train, y_train, batch_size=64, epochs=100, validation_data = (x_test, y_test))"
      ],
      "metadata": {
        "colab": {
          "base_uri": "https://localhost:8080/"
        },
        "id": "NkZYh61od-4u",
        "outputId": "6b3f38ef-3cf6-470c-b839-3a7364aa630e"
      },
      "execution_count": null,
      "outputs": [
        {
          "output_type": "stream",
          "name": "stdout",
          "text": [
            "Epoch 1/100\n",
            "137/137 [==============================] - 1s 3ms/step - loss: 7.1419 - val_loss: 0.9225\n",
            "Epoch 2/100\n",
            "137/137 [==============================] - 0s 3ms/step - loss: 1.8329 - val_loss: 0.8944\n",
            "Epoch 3/100\n",
            "137/137 [==============================] - 0s 3ms/step - loss: 1.2088 - val_loss: 0.8615\n",
            "Epoch 4/100\n",
            "137/137 [==============================] - 0s 2ms/step - loss: 1.0386 - val_loss: 0.8385\n",
            "Epoch 5/100\n",
            "137/137 [==============================] - 0s 2ms/step - loss: 0.9691 - val_loss: 0.8144\n",
            "Epoch 6/100\n",
            "137/137 [==============================] - 0s 2ms/step - loss: 0.9201 - val_loss: 0.7778\n",
            "Epoch 7/100\n",
            "137/137 [==============================] - 0s 2ms/step - loss: 0.8744 - val_loss: 0.7561\n",
            "Epoch 8/100\n",
            "137/137 [==============================] - 0s 2ms/step - loss: 0.8293 - val_loss: 0.6960\n",
            "Epoch 9/100\n",
            "137/137 [==============================] - 0s 2ms/step - loss: 0.7897 - val_loss: 0.6738\n",
            "Epoch 10/100\n",
            "137/137 [==============================] - 0s 2ms/step - loss: 0.7532 - val_loss: 0.6435\n",
            "Epoch 11/100\n",
            "137/137 [==============================] - 0s 2ms/step - loss: 0.7316 - val_loss: 0.6232\n",
            "Epoch 12/100\n",
            "137/137 [==============================] - 0s 2ms/step - loss: 0.7139 - val_loss: 0.6018\n",
            "Epoch 13/100\n",
            "137/137 [==============================] - 0s 2ms/step - loss: 0.6898 - val_loss: 0.5887\n",
            "Epoch 14/100\n",
            "137/137 [==============================] - 0s 2ms/step - loss: 0.6802 - val_loss: 0.5802\n",
            "Epoch 15/100\n",
            "137/137 [==============================] - 0s 2ms/step - loss: 0.6654 - val_loss: 0.5506\n",
            "Epoch 16/100\n",
            "137/137 [==============================] - 0s 2ms/step - loss: 0.6510 - val_loss: 0.5575\n",
            "Epoch 17/100\n",
            "137/137 [==============================] - 0s 2ms/step - loss: 0.6415 - val_loss: 0.5128\n",
            "Epoch 18/100\n",
            "137/137 [==============================] - 0s 2ms/step - loss: 0.6389 - val_loss: 0.5237\n",
            "Epoch 19/100\n",
            "137/137 [==============================] - 0s 2ms/step - loss: 0.6311 - val_loss: 0.5228\n",
            "Epoch 20/100\n",
            "137/137 [==============================] - 0s 2ms/step - loss: 0.6059 - val_loss: 0.5113\n",
            "Epoch 21/100\n",
            "137/137 [==============================] - 0s 2ms/step - loss: 0.6103 - val_loss: 0.5197\n",
            "Epoch 22/100\n",
            "137/137 [==============================] - 0s 2ms/step - loss: 0.6036 - val_loss: 0.5042\n",
            "Epoch 23/100\n",
            "137/137 [==============================] - 0s 2ms/step - loss: 0.5719 - val_loss: 0.4941\n",
            "Epoch 24/100\n",
            "137/137 [==============================] - 0s 2ms/step - loss: 0.5872 - val_loss: 0.4847\n",
            "Epoch 25/100\n",
            "137/137 [==============================] - 0s 2ms/step - loss: 0.5705 - val_loss: 0.4706\n",
            "Epoch 26/100\n",
            "137/137 [==============================] - 0s 2ms/step - loss: 0.5574 - val_loss: 0.4635\n",
            "Epoch 27/100\n",
            "137/137 [==============================] - 0s 2ms/step - loss: 0.5582 - val_loss: 0.4464\n",
            "Epoch 28/100\n",
            "137/137 [==============================] - 0s 3ms/step - loss: 0.5400 - val_loss: 0.4392\n",
            "Epoch 29/100\n",
            "137/137 [==============================] - 0s 2ms/step - loss: 0.5297 - val_loss: 0.4073\n",
            "Epoch 30/100\n",
            "137/137 [==============================] - 0s 2ms/step - loss: 0.5173 - val_loss: 0.4124\n",
            "Epoch 31/100\n",
            "137/137 [==============================] - 0s 2ms/step - loss: 0.5194 - val_loss: 0.3907\n",
            "Epoch 32/100\n",
            "137/137 [==============================] - 0s 2ms/step - loss: 0.5051 - val_loss: 0.3948\n",
            "Epoch 33/100\n",
            "137/137 [==============================] - 0s 2ms/step - loss: 0.5111 - val_loss: 0.3897\n",
            "Epoch 34/100\n",
            "137/137 [==============================] - 0s 2ms/step - loss: 0.4969 - val_loss: 0.3817\n",
            "Epoch 35/100\n",
            "137/137 [==============================] - 0s 2ms/step - loss: 0.4992 - val_loss: 0.3744\n",
            "Epoch 36/100\n",
            "137/137 [==============================] - 0s 2ms/step - loss: 0.4926 - val_loss: 0.3626\n",
            "Epoch 37/100\n",
            "137/137 [==============================] - 0s 2ms/step - loss: 0.4914 - val_loss: 0.3700\n",
            "Epoch 38/100\n",
            "137/137 [==============================] - 0s 2ms/step - loss: 0.4812 - val_loss: 0.3645\n",
            "Epoch 39/100\n",
            "137/137 [==============================] - 0s 2ms/step - loss: 0.4793 - val_loss: 0.3601\n",
            "Epoch 40/100\n",
            "137/137 [==============================] - 0s 2ms/step - loss: 0.4668 - val_loss: 0.3611\n",
            "Epoch 41/100\n",
            "137/137 [==============================] - 0s 2ms/step - loss: 0.4743 - val_loss: 0.3574\n",
            "Epoch 42/100\n",
            "137/137 [==============================] - 0s 2ms/step - loss: 0.4581 - val_loss: 0.3470\n",
            "Epoch 43/100\n",
            "137/137 [==============================] - 0s 2ms/step - loss: 0.4662 - val_loss: 0.3469\n",
            "Epoch 44/100\n",
            "137/137 [==============================] - 0s 2ms/step - loss: 0.4639 - val_loss: 0.3364\n",
            "Epoch 45/100\n",
            "137/137 [==============================] - 0s 2ms/step - loss: 0.4595 - val_loss: 0.3482\n",
            "Epoch 46/100\n",
            "137/137 [==============================] - 0s 3ms/step - loss: 0.4513 - val_loss: 0.3405\n",
            "Epoch 47/100\n",
            "137/137 [==============================] - 0s 2ms/step - loss: 0.4516 - val_loss: 0.3417\n",
            "Epoch 48/100\n",
            "137/137 [==============================] - 0s 2ms/step - loss: 0.4539 - val_loss: 0.3293\n",
            "Epoch 49/100\n",
            "137/137 [==============================] - 0s 2ms/step - loss: 0.4492 - val_loss: 0.3288\n",
            "Epoch 50/100\n",
            "137/137 [==============================] - 0s 2ms/step - loss: 0.4411 - val_loss: 0.3338\n",
            "Epoch 51/100\n",
            "137/137 [==============================] - 0s 2ms/step - loss: 0.4400 - val_loss: 0.3281\n",
            "Epoch 52/100\n",
            "137/137 [==============================] - 0s 2ms/step - loss: 0.4434 - val_loss: 0.3331\n",
            "Epoch 53/100\n",
            "137/137 [==============================] - 0s 2ms/step - loss: 0.4369 - val_loss: 0.3201\n",
            "Epoch 54/100\n",
            "137/137 [==============================] - 0s 2ms/step - loss: 0.4322 - val_loss: 0.3172\n",
            "Epoch 55/100\n",
            "137/137 [==============================] - 0s 2ms/step - loss: 0.4480 - val_loss: 0.3184\n",
            "Epoch 56/100\n",
            "137/137 [==============================] - 0s 2ms/step - loss: 0.4320 - val_loss: 0.3109\n",
            "Epoch 57/100\n",
            "137/137 [==============================] - 0s 2ms/step - loss: 0.4297 - val_loss: 0.3090\n",
            "Epoch 58/100\n",
            "137/137 [==============================] - 0s 2ms/step - loss: 0.4280 - val_loss: 0.3080\n",
            "Epoch 59/100\n",
            "137/137 [==============================] - 0s 2ms/step - loss: 0.4312 - val_loss: 0.3167\n",
            "Epoch 60/100\n",
            "137/137 [==============================] - 0s 2ms/step - loss: 0.4246 - val_loss: 0.3151\n",
            "Epoch 61/100\n",
            "137/137 [==============================] - 0s 2ms/step - loss: 0.4168 - val_loss: 0.3077\n",
            "Epoch 62/100\n",
            "137/137 [==============================] - 0s 2ms/step - loss: 0.4202 - val_loss: 0.3079\n",
            "Epoch 63/100\n",
            "137/137 [==============================] - 0s 2ms/step - loss: 0.4182 - val_loss: 0.2993\n",
            "Epoch 64/100\n",
            "137/137 [==============================] - 0s 2ms/step - loss: 0.4184 - val_loss: 0.2970\n",
            "Epoch 65/100\n",
            "137/137 [==============================] - 0s 2ms/step - loss: 0.4256 - val_loss: 0.2977\n",
            "Epoch 66/100\n",
            "137/137 [==============================] - 0s 2ms/step - loss: 0.4089 - val_loss: 0.3123\n",
            "Epoch 67/100\n",
            "137/137 [==============================] - 0s 2ms/step - loss: 0.4104 - val_loss: 0.3065\n",
            "Epoch 68/100\n",
            "137/137 [==============================] - 0s 2ms/step - loss: 0.3923 - val_loss: 0.2883\n",
            "Epoch 69/100\n",
            "137/137 [==============================] - 0s 2ms/step - loss: 0.4142 - val_loss: 0.2934\n",
            "Epoch 70/100\n",
            "137/137 [==============================] - 0s 2ms/step - loss: 0.4067 - val_loss: 0.3016\n",
            "Epoch 71/100\n",
            "137/137 [==============================] - 0s 2ms/step - loss: 0.3968 - val_loss: 0.2965\n",
            "Epoch 72/100\n",
            "137/137 [==============================] - 0s 2ms/step - loss: 0.4064 - val_loss: 0.3041\n",
            "Epoch 73/100\n",
            "137/137 [==============================] - 0s 2ms/step - loss: 0.3993 - val_loss: 0.2924\n",
            "Epoch 74/100\n",
            "137/137 [==============================] - 0s 2ms/step - loss: 0.4049 - val_loss: 0.2873\n",
            "Epoch 75/100\n",
            "137/137 [==============================] - 0s 2ms/step - loss: 0.3946 - val_loss: 0.2996\n",
            "Epoch 76/100\n",
            "137/137 [==============================] - 0s 2ms/step - loss: 0.3983 - val_loss: 0.2910\n",
            "Epoch 77/100\n",
            "137/137 [==============================] - 0s 2ms/step - loss: 0.3891 - val_loss: 0.2927\n",
            "Epoch 78/100\n",
            "137/137 [==============================] - 0s 2ms/step - loss: 0.3988 - val_loss: 0.2836\n",
            "Epoch 79/100\n",
            "137/137 [==============================] - 0s 2ms/step - loss: 0.3884 - val_loss: 0.2741\n",
            "Epoch 80/100\n",
            "137/137 [==============================] - 0s 2ms/step - loss: 0.3957 - val_loss: 0.2885\n",
            "Epoch 81/100\n",
            "137/137 [==============================] - 0s 2ms/step - loss: 0.3971 - val_loss: 0.2791\n",
            "Epoch 82/100\n",
            "137/137 [==============================] - 0s 2ms/step - loss: 0.3776 - val_loss: 0.2970\n",
            "Epoch 83/100\n",
            "137/137 [==============================] - 0s 2ms/step - loss: 0.3916 - val_loss: 0.2940\n",
            "Epoch 84/100\n",
            "137/137 [==============================] - 0s 2ms/step - loss: 0.3704 - val_loss: 0.2898\n",
            "Epoch 85/100\n",
            "137/137 [==============================] - 0s 2ms/step - loss: 0.3818 - val_loss: 0.2677\n",
            "Epoch 86/100\n",
            "137/137 [==============================] - 0s 2ms/step - loss: 0.3790 - val_loss: 0.2898\n",
            "Epoch 87/100\n",
            "137/137 [==============================] - 0s 2ms/step - loss: 0.3836 - val_loss: 0.2716\n",
            "Epoch 88/100\n",
            "137/137 [==============================] - 0s 2ms/step - loss: 0.3767 - val_loss: 0.2813\n",
            "Epoch 89/100\n",
            "137/137 [==============================] - 0s 2ms/step - loss: 0.3769 - val_loss: 0.2664\n",
            "Epoch 90/100\n",
            "137/137 [==============================] - 0s 2ms/step - loss: 0.3884 - val_loss: 0.2707\n",
            "Epoch 91/100\n",
            "137/137 [==============================] - 0s 2ms/step - loss: 0.3760 - val_loss: 0.2741\n",
            "Epoch 92/100\n",
            "137/137 [==============================] - 0s 2ms/step - loss: 0.3754 - val_loss: 0.2617\n",
            "Epoch 93/100\n",
            "137/137 [==============================] - 0s 2ms/step - loss: 0.3843 - val_loss: 0.2863\n",
            "Epoch 94/100\n",
            "137/137 [==============================] - 0s 2ms/step - loss: 0.3731 - val_loss: 0.2671\n",
            "Epoch 95/100\n",
            "137/137 [==============================] - 0s 2ms/step - loss: 0.3791 - val_loss: 0.2663\n",
            "Epoch 96/100\n",
            "137/137 [==============================] - 0s 3ms/step - loss: 0.3747 - val_loss: 0.2889\n",
            "Epoch 97/100\n",
            "137/137 [==============================] - 0s 2ms/step - loss: 0.3737 - val_loss: 0.2579\n",
            "Epoch 98/100\n",
            "137/137 [==============================] - 0s 2ms/step - loss: 0.3840 - val_loss: 0.2787\n",
            "Epoch 99/100\n",
            "137/137 [==============================] - 0s 2ms/step - loss: 0.3592 - val_loss: 0.2835\n",
            "Epoch 100/100\n",
            "137/137 [==============================] - 0s 2ms/step - loss: 0.3742 - val_loss: 0.2651\n"
          ]
        }
      ]
    },
    {
      "cell_type": "code",
      "source": [
        "plt.plot(hist.history['loss'], label='train')\n",
        "plt.plot(hist.history['val_loss'], label='test')\n",
        "plt.legend()\n",
        "plt.show()"
      ],
      "metadata": {
        "colab": {
          "base_uri": "https://localhost:8080/",
          "height": 265
        },
        "id": "BCL0uUcseIeB",
        "outputId": "391f180f-03dc-4f7b-9dd9-ae49adb52018"
      },
      "execution_count": null,
      "outputs": [
        {
          "output_type": "display_data",
          "data": {
            "image/png": "[encoded data removed]",
            "text/plain": [
              "<Figure size 432x288 with 1 Axes>"
            ]
          },
          "metadata": {
            "needs_background": "light"
          }
        }
      ]
    },
    {
      "cell_type": "code",
      "source": [
        "# x_test의 결과를 추정한다.\n",
        "y_pred = model.predict(x_test)"
      ],
      "metadata": {
        "id": "GSGhSDQfepA8"
      },
      "execution_count": null,
      "outputs": []
    },
    {
      "cell_type": "code",
      "source": [
        "# y_pred와 y_test 값을 원래의 값으로 복원한다.\n",
        "y_pred_org = scaleY.inverse_transform(y_pred)\n",
        "y_test_org = scaleY.inverse_transform(y_test)"
      ],
      "metadata": {
        "id": "OqcuAKsaerd-"
      },
      "execution_count": null,
      "outputs": []
    },
    {
      "cell_type": "code",
      "source": [
        "# 추정 결과를 육안으로 비교해 본다.\n",
        "y_df = pd.DataFrame({'y_test':y_test_org.reshape(-1), 'y_pred':y_pred_org.reshape(-1)})\n",
        "y_df.head(50)"
      ],
      "metadata": {
        "colab": {
          "base_uri": "https://localhost:8080/",
          "height": 1000
        },
        "id": "QaIZM_2eetLh",
        "outputId": "9087a54f-3a0c-4358-c4ef-ad0123cf11c3"
      },
      "execution_count": null,
      "outputs": [
        {
          "output_type": "execute_result",
          "data": {
            "text/html": [
              "<div>\n",
              "<style scoped>\n",
              "    .dataframe tbody tr th:only-of-type {\n",
              "        vertical-align: middle;\n",
              "    }\n",
              "\n",
              "    .dataframe tbody tr th {\n",
              "        vertical-align: top;\n",
              "    }\n",
              "\n",
              "    .dataframe thead th {\n",
              "        text-align: right;\n",
              "    }\n",
              "</style>\n",
              "<table border=\"1\" class=\"dataframe\">\n",
              "  <thead>\n",
              "    <tr style=\"text-align: right;\">\n",
              "      <th></th>\n",
              "      <th>y_test</th>\n",
              "      <th>y_pred</th>\n",
              "    </tr>\n",
              "  </thead>\n",
              "  <tbody>\n",
              "    <tr>\n",
              "      <th>0</th>\n",
              "      <td>185.0</td>\n",
              "      <td>180.392166</td>\n",
              "    </tr>\n",
              "    <tr>\n",
              "      <th>1</th>\n",
              "      <td>260.0</td>\n",
              "      <td>294.651703</td>\n",
              "    </tr>\n",
              "    <tr>\n",
              "      <th>2</th>\n",
              "      <td>286.0</td>\n",
              "      <td>180.294357</td>\n",
              "    </tr>\n",
              "    <tr>\n",
              "      <th>3</th>\n",
              "      <td>95.0</td>\n",
              "      <td>68.380585</td>\n",
              "    </tr>\n",
              "    <tr>\n",
              "      <th>4</th>\n",
              "      <td>172.0</td>\n",
              "      <td>159.230865</td>\n",
              "    </tr>\n",
              "    <tr>\n",
              "      <th>5</th>\n",
              "      <td>17.0</td>\n",
              "      <td>63.090145</td>\n",
              "    </tr>\n",
              "    <tr>\n",
              "      <th>6</th>\n",
              "      <td>133.0</td>\n",
              "      <td>114.247520</td>\n",
              "    </tr>\n",
              "    <tr>\n",
              "      <th>7</th>\n",
              "      <td>194.0</td>\n",
              "      <td>154.611115</td>\n",
              "    </tr>\n",
              "    <tr>\n",
              "      <th>8</th>\n",
              "      <td>134.0</td>\n",
              "      <td>216.741837</td>\n",
              "    </tr>\n",
              "    <tr>\n",
              "      <th>9</th>\n",
              "      <td>74.0</td>\n",
              "      <td>42.852886</td>\n",
              "    </tr>\n",
              "    <tr>\n",
              "      <th>10</th>\n",
              "      <td>172.0</td>\n",
              "      <td>276.083252</td>\n",
              "    </tr>\n",
              "    <tr>\n",
              "      <th>11</th>\n",
              "      <td>672.0</td>\n",
              "      <td>248.971542</td>\n",
              "    </tr>\n",
              "    <tr>\n",
              "      <th>12</th>\n",
              "      <td>117.0</td>\n",
              "      <td>106.687263</td>\n",
              "    </tr>\n",
              "    <tr>\n",
              "      <th>13</th>\n",
              "      <td>275.0</td>\n",
              "      <td>341.890167</td>\n",
              "    </tr>\n",
              "    <tr>\n",
              "      <th>14</th>\n",
              "      <td>184.0</td>\n",
              "      <td>125.189796</td>\n",
              "    </tr>\n",
              "    <tr>\n",
              "      <th>15</th>\n",
              "      <td>627.0</td>\n",
              "      <td>407.006042</td>\n",
              "    </tr>\n",
              "    <tr>\n",
              "      <th>16</th>\n",
              "      <td>53.0</td>\n",
              "      <td>66.814369</td>\n",
              "    </tr>\n",
              "    <tr>\n",
              "      <th>17</th>\n",
              "      <td>202.0</td>\n",
              "      <td>162.681183</td>\n",
              "    </tr>\n",
              "    <tr>\n",
              "      <th>18</th>\n",
              "      <td>4.0</td>\n",
              "      <td>67.342064</td>\n",
              "    </tr>\n",
              "    <tr>\n",
              "      <th>19</th>\n",
              "      <td>288.0</td>\n",
              "      <td>254.084534</td>\n",
              "    </tr>\n",
              "    <tr>\n",
              "      <th>20</th>\n",
              "      <td>633.0</td>\n",
              "      <td>522.580933</td>\n",
              "    </tr>\n",
              "    <tr>\n",
              "      <th>21</th>\n",
              "      <td>324.0</td>\n",
              "      <td>212.963638</td>\n",
              "    </tr>\n",
              "    <tr>\n",
              "      <th>22</th>\n",
              "      <td>113.0</td>\n",
              "      <td>108.405388</td>\n",
              "    </tr>\n",
              "    <tr>\n",
              "      <th>23</th>\n",
              "      <td>228.0</td>\n",
              "      <td>162.199997</td>\n",
              "    </tr>\n",
              "    <tr>\n",
              "      <th>24</th>\n",
              "      <td>328.0</td>\n",
              "      <td>371.083221</td>\n",
              "    </tr>\n",
              "    <tr>\n",
              "      <th>25</th>\n",
              "      <td>6.0</td>\n",
              "      <td>88.631737</td>\n",
              "    </tr>\n",
              "    <tr>\n",
              "      <th>26</th>\n",
              "      <td>303.0</td>\n",
              "      <td>343.438416</td>\n",
              "    </tr>\n",
              "    <tr>\n",
              "      <th>27</th>\n",
              "      <td>564.0</td>\n",
              "      <td>186.198761</td>\n",
              "    </tr>\n",
              "    <tr>\n",
              "      <th>28</th>\n",
              "      <td>74.0</td>\n",
              "      <td>176.273575</td>\n",
              "    </tr>\n",
              "    <tr>\n",
              "      <th>29</th>\n",
              "      <td>480.0</td>\n",
              "      <td>258.694458</td>\n",
              "    </tr>\n",
              "    <tr>\n",
              "      <th>30</th>\n",
              "      <td>23.0</td>\n",
              "      <td>99.376785</td>\n",
              "    </tr>\n",
              "    <tr>\n",
              "      <th>31</th>\n",
              "      <td>105.0</td>\n",
              "      <td>117.134087</td>\n",
              "    </tr>\n",
              "    <tr>\n",
              "      <th>32</th>\n",
              "      <td>268.0</td>\n",
              "      <td>227.681519</td>\n",
              "    </tr>\n",
              "    <tr>\n",
              "      <th>33</th>\n",
              "      <td>577.0</td>\n",
              "      <td>471.661011</td>\n",
              "    </tr>\n",
              "    <tr>\n",
              "      <th>34</th>\n",
              "      <td>95.0</td>\n",
              "      <td>108.191475</td>\n",
              "    </tr>\n",
              "    <tr>\n",
              "      <th>35</th>\n",
              "      <td>324.0</td>\n",
              "      <td>446.700531</td>\n",
              "    </tr>\n",
              "    <tr>\n",
              "      <th>36</th>\n",
              "      <td>316.0</td>\n",
              "      <td>222.243683</td>\n",
              "    </tr>\n",
              "    <tr>\n",
              "      <th>37</th>\n",
              "      <td>229.0</td>\n",
              "      <td>172.395676</td>\n",
              "    </tr>\n",
              "    <tr>\n",
              "      <th>38</th>\n",
              "      <td>106.0</td>\n",
              "      <td>132.316696</td>\n",
              "    </tr>\n",
              "    <tr>\n",
              "      <th>39</th>\n",
              "      <td>190.0</td>\n",
              "      <td>198.448288</td>\n",
              "    </tr>\n",
              "    <tr>\n",
              "      <th>40</th>\n",
              "      <td>259.0</td>\n",
              "      <td>348.206451</td>\n",
              "    </tr>\n",
              "    <tr>\n",
              "      <th>41</th>\n",
              "      <td>273.0</td>\n",
              "      <td>337.741791</td>\n",
              "    </tr>\n",
              "    <tr>\n",
              "      <th>42</th>\n",
              "      <td>163.0</td>\n",
              "      <td>123.890244</td>\n",
              "    </tr>\n",
              "    <tr>\n",
              "      <th>43</th>\n",
              "      <td>365.0</td>\n",
              "      <td>187.820770</td>\n",
              "    </tr>\n",
              "    <tr>\n",
              "      <th>44</th>\n",
              "      <td>566.0</td>\n",
              "      <td>417.854004</td>\n",
              "    </tr>\n",
              "    <tr>\n",
              "      <th>45</th>\n",
              "      <td>38.0</td>\n",
              "      <td>86.687073</td>\n",
              "    </tr>\n",
              "    <tr>\n",
              "      <th>46</th>\n",
              "      <td>12.0</td>\n",
              "      <td>60.725124</td>\n",
              "    </tr>\n",
              "    <tr>\n",
              "      <th>47</th>\n",
              "      <td>560.0</td>\n",
              "      <td>332.214569</td>\n",
              "    </tr>\n",
              "    <tr>\n",
              "      <th>48</th>\n",
              "      <td>86.0</td>\n",
              "      <td>269.081116</td>\n",
              "    </tr>\n",
              "    <tr>\n",
              "      <th>49</th>\n",
              "      <td>20.0</td>\n",
              "      <td>90.590256</td>\n",
              "    </tr>\n",
              "  </tbody>\n",
              "</table>\n",
              "</div>"
            ],
            "text/plain": [
              "    y_test      y_pred\n",
              "0    185.0  180.392166\n",
              "1    260.0  294.651703\n",
              "2    286.0  180.294357\n",
              "3     95.0   68.380585\n",
              "4    172.0  159.230865\n",
              "5     17.0   63.090145\n",
              "6    133.0  114.247520\n",
              "7    194.0  154.611115\n",
              "8    134.0  216.741837\n",
              "9     74.0   42.852886\n",
              "10   172.0  276.083252\n",
              "11   672.0  248.971542\n",
              "12   117.0  106.687263\n",
              "13   275.0  341.890167\n",
              "14   184.0  125.189796\n",
              "15   627.0  407.006042\n",
              "16    53.0   66.814369\n",
              "17   202.0  162.681183\n",
              "18     4.0   67.342064\n",
              "19   288.0  254.084534\n",
              "20   633.0  522.580933\n",
              "21   324.0  212.963638\n",
              "22   113.0  108.405388\n",
              "23   228.0  162.199997\n",
              "24   328.0  371.083221\n",
              "25     6.0   88.631737\n",
              "26   303.0  343.438416\n",
              "27   564.0  186.198761\n",
              "28    74.0  176.273575\n",
              "29   480.0  258.694458\n",
              "30    23.0   99.376785\n",
              "31   105.0  117.134087\n",
              "32   268.0  227.681519\n",
              "33   577.0  471.661011\n",
              "34    95.0  108.191475\n",
              "35   324.0  446.700531\n",
              "36   316.0  222.243683\n",
              "37   229.0  172.395676\n",
              "38   106.0  132.316696\n",
              "39   190.0  198.448288\n",
              "40   259.0  348.206451\n",
              "41   273.0  337.741791\n",
              "42   163.0  123.890244\n",
              "43   365.0  187.820770\n",
              "44   566.0  417.854004\n",
              "45    38.0   86.687073\n",
              "46    12.0   60.725124\n",
              "47   560.0  332.214569\n",
              "48    86.0  269.081116\n",
              "49    20.0   90.590256"
            ]
          },
          "metadata": {},
          "execution_count": 77
        }
      ]
    },
    {
      "cell_type": "code",
      "source": [
        "# R2 score를 측정한다. (log, 표준화된 상태에서 측정)\n",
        "print('Log, 표준화 변환 상태 :')\n",
        "print('RMSE = {:.4f}'.format(np.sqrt(mean_squared_error(y_test, y_pred))))\n",
        "print(' R^2 = {:.4f}'.format(r2_score(y_test, y_pred)))"
      ],
      "metadata": {
        "colab": {
          "base_uri": "https://localhost:8080/"
        },
        "id": "UPu5OxM5eumw",
        "outputId": "03e9a50b-17b7-49b6-a53b-39e640c0e8e6"
      },
      "execution_count": null,
      "outputs": [
        {
          "output_type": "stream",
          "name": "stdout",
          "text": [
            "Log, 표준화 변환 상태 :\n",
            "RMSE = 0.5149\n",
            " R^2 = 0.7079\n"
          ]
        }
      ]
    },
    {
      "cell_type": "code",
      "source": [
        "# 원래 데이터로 복원한 상태에서 측정\n",
        "print('\\n원래 데이터로 복원한 상태 :')\n",
        "print('RMSE = {:.4f}'.format(np.sqrt(mean_squared_error(y_test_org, y_pred_org))))\n",
        "print(' R^2 = {:.4f}'.format(r2_score(y_test_org, y_pred_org)))"
      ],
      "metadata": {
        "colab": {
          "base_uri": "https://localhost:8080/"
        },
        "id": "a9yU--5VeyNA",
        "outputId": "d935e9f7-6dd1-4e71-a3a2-00478be353e0"
      },
      "execution_count": null,
      "outputs": [
        {
          "output_type": "stream",
          "name": "stdout",
          "text": [
            "\n",
            "원래 데이터로 복원한 상태 :\n",
            "RMSE = 94.1214\n",
            " R^2 = 0.7079\n"
          ]
        }
      ]
    },
    {
      "cell_type": "code",
      "source": [
        "sns.kdeplot(y_test.reshape(-1))\n",
        "sns.kdeplot(y_pred.reshape(-1))\n",
        "plt.show()\n",
        "\n",
        "sns.kdeplot(y_test_org.reshape(-1))\n",
        "sns.kdeplot(y_pred_org.reshape(-1))\n",
        "plt.show()"
      ],
      "metadata": {
        "colab": {
          "base_uri": "https://localhost:8080/",
          "height": 513
        },
        "id": "HlYa6Ihne7qx",
        "outputId": "45d4cab0-75f7-411e-9098-f8660fe13bb9"
      },
      "execution_count": null,
      "outputs": [
        {
          "output_type": "display_data",
          "data": {
            "image/png": "[encoded data removed]",
            "text/plain": [
              "<Figure size 432x288 with 1 Axes>"
            ]
          },
          "metadata": {
            "needs_background": "light"
          }
        },
        {
          "output_type": "display_data",
          "data": {
            "image/png": "[encoded data removed]",
            "text/plain": [
              "<Figure size 432x288 with 1 Axes>"
            ]
          },
          "metadata": {
            "needs_background": "light"
          }
        }
      ]
    },
    {
      "cell_type": "code",
      "source": [
        ""
      ],
      "metadata": {
        "id": "gALVrNrEe9g1"
      },
      "execution_count": null,
      "outputs": []
    }
  ]
}