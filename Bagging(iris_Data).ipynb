{
  "nbformat": 4,
  "nbformat_minor": 0,
  "metadata": {
    "colab": {
      "name": "Bagging(iris_Data).ipynb",
      "provenance": [],
      "collapsed_sections": [],
      "authorship_tag": "ABX9TyPJ8d5Fb+dl0eiCo3yDqLkX",
      "include_colab_link": true
    },
    "kernelspec": {
      "name": "python3",
      "display_name": "Python 3"
    },
    "language_info": {
      "name": "python"
    }
  },
  "cells": [
    {
      "cell_type": "markdown",
      "metadata": {
        "id": "view-in-github",
        "colab_type": "text"
      },
      "source": [
        "<a href=\"https://colab.research.google.com/github/hyunicecream/ML-DL/blob/main/Bagging(iris_Data).ipynb\" target=\"_parent\"><img src=\"https://colab.research.google.com/assets/colab-badge.svg\" alt=\"Open In Colab\"/></a>"
      ]
    },
    {
      "cell_type": "code",
      "execution_count": null,
      "metadata": {
        "id": "MTr-2sXpW_Yq"
      },
      "outputs": [],
      "source": [
        "from sklearn.datasets import load_iris\n",
        "from sklearn.model_selection import train_test_split\n",
        "from sklearn.metrics import confusion_matrix\n",
        "from sklearn.neighbors import KNeighborsClassifier\n",
        "from sklearn.tree import DecisionTreeClassifier\n",
        "from sklearn.svm import SVC\n",
        "from sklearn.linear_model import LogisticRegression\n",
        "from sklearn.ensemble import BaggingClassifier\n",
        "from sklearn.metrics import classification_report\n",
        "import numpy as np"
      ]
    },
    {
      "cell_type": "code",
      "source": [
        "# 데이터 로드\n",
        "iris = load_iris()"
      ],
      "metadata": {
        "id": "I03ZRiRnPEH_"
      },
      "execution_count": null,
      "outputs": []
    },
    {
      "cell_type": "code",
      "source": [
        "# train, tst 데이터 세트를 구성한다.\n",
        "trainX, testX, trainY, testY = train_test_split(iris['data'], iris['target'], test_size=0.2)"
      ],
      "metadata": {
        "id": "DMNh-VYQPHzD"
      },
      "execution_count": null,
      "outputs": []
    },
    {
      "cell_type": "code",
      "source": [
        "# 4가지의 모델을 생성한다. KNN, Decision tree, SVM, Logistic Regression\n",
        "knn = KNeighborsClassifier(n_neighbors=5, p =2, metric='minkowski')\n",
        "dtree = DecisionTreeClassifier(criterion='gini', max_depth=8)\n",
        "svm = SVC(kernel='rbf', gamma=0.1, C=1.0, probability=True)\n",
        "lreg = LogisticRegression(max_iter=500)"
      ],
      "metadata": {
        "id": "lFIEvC3hPrRS"
      },
      "execution_count": null,
      "outputs": []
    },
    {
      "cell_type": "code",
      "source": [
        "# 4가지 모델로 Bagging을 구성하고, 각 모델의 추정 확률을 누적한다.\n",
        "prob = np.zeros((testY.shape[0], iris.target_names.shape[0]))\n",
        "base_model = [knn, dtree, svm, lreg]\n",
        "for i in base_model:\n",
        "  bag = BaggingClassifier(base_estimator=i, n_estimators=100, bootstrap=True)\n",
        "  bag.fit(trainX, trainY)\n",
        "\n",
        "  prob += bag.predict_proba(testX)"
      ],
      "metadata": {
        "id": "Z36ua59uQzdq"
      },
      "execution_count": null,
      "outputs": []
    },
    {
      "cell_type": "code",
      "source": [
        "# 확률의 누적합이 가장 큰 class를 찾고, 정확도를 측정한다.\n",
        "predY = np.argmax(prob, axis=1)\n",
        "predY"
      ],
      "metadata": {
        "colab": {
          "base_uri": "https://localhost:8080/"
        },
        "id": "QGJ9VZbdRofK",
        "outputId": "7eb204d8-804d-49ee-e540-712bc9b9aab1"
      },
      "execution_count": null,
      "outputs": [
        {
          "output_type": "execute_result",
          "data": {
            "text/plain": [
              "array([1, 1, 0, 0, 1, 2, 1, 2, 0, 2, 1, 0, 2, 2, 2, 2, 2, 2, 1, 0, 1, 1,\n",
              "       2, 0, 0, 2, 2, 0, 0, 0])"
            ]
          },
          "metadata": {},
          "execution_count": 17
        }
      ]
    },
    {
      "cell_type": "code",
      "source": [
        "# 시험데이터의 Confusion matrix를 작성한다.(row : actual, col : predict)\n",
        "print('\\nConfusion matrix :')\n",
        "print(confusion_matrix(testY, predY))\n",
        "print()\n",
        "print(classification_report(testY, predY, target_names=iris.target_names))"
      ],
      "metadata": {
        "colab": {
          "base_uri": "https://localhost:8080/"
        },
        "id": "h-WbinzrRx4s",
        "outputId": "96bc57f9-da3f-4de8-cf7f-bc807fa5f20c"
      },
      "execution_count": null,
      "outputs": [
        {
          "output_type": "stream",
          "name": "stdout",
          "text": [
            "\n",
            "Confusion matrix :\n",
            "[[10  0  0]\n",
            " [ 0  7  0]\n",
            " [ 0  1 12]]\n",
            "\n",
            "              precision    recall  f1-score   support\n",
            "\n",
            "      setosa       1.00      1.00      1.00        10\n",
            "  versicolor       0.88      1.00      0.93         7\n",
            "   virginica       1.00      0.92      0.96        13\n",
            "\n",
            "    accuracy                           0.97        30\n",
            "   macro avg       0.96      0.97      0.96        30\n",
            "weighted avg       0.97      0.97      0.97        30\n",
            "\n"
          ]
        }
      ]
    },
    {
      "cell_type": "code",
      "source": [
        "from sklearn.metrics import accuracy_score\n",
        "\n",
        "print(' Accuracy = %.2f' % accuracy_score(testY, predY))"
      ],
      "metadata": {
        "colab": {
          "base_uri": "https://localhost:8080/"
        },
        "id": "VSXm4JjrSogF",
        "outputId": "f1805c2a-6571-439e-dd57-36ae739399e5"
      },
      "execution_count": null,
      "outputs": [
        {
          "output_type": "stream",
          "name": "stdout",
          "text": [
            " Accuracy = 0.97\n"
          ]
        }
      ]
    }
  ]
}