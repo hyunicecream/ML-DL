{
  "nbformat": 4,
  "nbformat_minor": 0,
  "metadata": {
    "colab": {
      "name": "KMeans++(Mnist).ipynb",
      "provenance": [],
      "collapsed_sections": [],
      "mount_file_id": "1f8ma6dDsWiBD-FP83g0LT4wiI5vEcVAi",
      "authorship_tag": "ABX9TyOJhVg/7SUnxY7jE5Frpl/M",
      "include_colab_link": true
    },
    "kernelspec": {
      "name": "python3",
      "display_name": "Python 3"
    },
    "language_info": {
      "name": "python"
    }
  },
  "cells": [
    {
      "cell_type": "markdown",
      "metadata": {
        "id": "view-in-github",
        "colab_type": "text"
      },
      "source": [
        "<a href=\"https://colab.research.google.com/github/hyunicecream/ML-DL/blob/main/KMeans%2B%2B(Mnist).ipynb\" target=\"_parent\"><img src=\"https://colab.research.google.com/assets/colab-badge.svg\" alt=\"Open In Colab\"/></a>"
      ]
    },
    {
      "cell_type": "code",
      "execution_count": null,
      "metadata": {
        "id": "QZC_nk8x8qag"
      },
      "outputs": [],
      "source": [
        "import numpy as np\n",
        "import matplotlib.pyplot as plt\n",
        "from sklearn.cluster import KMeans\n",
        "from sklearn.preprocessing import StandardScaler \n",
        "from sklearn.decomposition import KernelPCA\n",
        "from tensorflow.keras.datasets import mnist"
      ]
    },
    {
      "cell_type": "code",
      "source": [
        "# mnist 데이터를 불러온다.\n",
        "(x_train, y_train), (x_test, y_test) = mnist.load_data()"
      ],
      "metadata": {
        "id": "NJmOkXzUCaFi"
      },
      "execution_count": null,
      "outputs": []
    },
    {
      "cell_type": "code",
      "source": [
        "x_train = x_train.astype('float32') / 255.\n",
        "x_test = x_test.astype('float32') / 255.\n",
        "x_train = x_train.reshape((len(x_train), np.prod(x_train.shape[1:])))\n",
        "x_test = x_test.reshape((len(x_test),np.prod(x_test.shape[1:])))"
      ],
      "metadata": {
        "id": "I0HzqAS7H3AD"
      },
      "execution_count": null,
      "outputs": []
    },
    {
      "cell_type": "code",
      "source": [
        "x_train.shape, y_train.shape, x_test.shape, y_test.shape"
      ],
      "metadata": {
        "colab": {
          "base_uri": "https://localhost:8080/"
        },
        "id": "Cc1qgyPaJQIS",
        "outputId": "6169b999-6758-483f-9eb9-88c5640cc1da"
      },
      "execution_count": null,
      "outputs": [
        {
          "output_type": "execute_result",
          "data": {
            "text/plain": [
              "((5000, 784), (5000,), (1000, 784), (1000,))"
            ]
          },
          "metadata": {},
          "execution_count": 77
        }
      ]
    },
    {
      "cell_type": "code",
      "source": [
        "# Z-score nomalization.\n",
        "# 그냥하면 세로 방향으로 표준화한다. 가로 방향으로 표준화하기 위해 transpose 후 # 표준화하고, 결과를 다시 transpose 했다.\n",
        "sc = StandardScaler()\n",
        "inputX = sc.fit_transform(x_train.T).T\n",
        "inputX.shape"
      ],
      "metadata": {
        "colab": {
          "base_uri": "https://localhost:8080/"
        },
        "id": "5f0H5aXwK1XQ",
        "outputId": "ba67a25a-8d15-4d1e-8456-3740f6c3c2e4"
      },
      "execution_count": null,
      "outputs": [
        {
          "output_type": "execute_result",
          "data": {
            "text/plain": [
              "(5000, 784)"
            ]
          },
          "metadata": {},
          "execution_count": 79
        }
      ]
    },
    {
      "cell_type": "code",
      "source": [
        "# Kernel PCA로 차원을 줄인다\n",
        "# Kernel PCA를 이용해서 28 * 28 = 784 -> 50 차원으로 축소\n",
        "pca = KernelPCA(n_components = 50, kernel='rbf')\n",
        "inputX = pca.fit_transform(inputX)"
      ],
      "metadata": {
        "id": "nvOWSrfAK-1T"
      },
      "execution_count": null,
      "outputs": []
    },
    {
      "cell_type": "code",
      "source": [
        "# K-means++ 알고리즘으로 학습 데이터를 K 그룹으로 분류한다.\n",
        "km = KMeans(n_clusters=10, init='k-means++', n_init=3, max_iter=300,\n",
        "            tol=1e-04, random_state=0)\n",
        "km = km.fit(inputX)\n",
        "clust = km.predict(inputX) "
      ],
      "metadata": {
        "id": "u1SHVbfZLCsQ"
      },
      "execution_count": null,
      "outputs": []
    },
    {
      "cell_type": "code",
      "source": [
        "# cluster 별로 이미지를 확인한다. \n",
        "f = plt.figure(figsize=(8, 2)) \n",
        "for k in np.unique(clust):\n",
        "  # cluster가 i인 imageX image 10개를 찾는다. \n",
        "  idx = np.where(clust == k)[0][:10]\n",
        "  \n",
        "fig = plt.figure(figsize=(8, 2))\n",
        "for i in range(10):\n",
        "  image = x_train[idx[i]].reshape(28,28)\n",
        "  ax = f.add_subplot(1, 10, i + 1)\n",
        "  ax.imshow(image, cmap=plt.cm.bone)\n",
        "  ax.grid(False)\n",
        "  ax.set_title(k)\n",
        "  ax.xaxis.set_ticks([])\n",
        "  ax.yaxis.set_ticks([])\n",
        "plt.tight_layout()"
      ],
      "metadata": {
        "colab": {
          "base_uri": "https://localhost:8080/",
          "height": 105
        },
        "id": "BMPdFlf8LEx8",
        "outputId": "9e006499-fd8e-4c00-92d4-1bac8b2473aa"
      },
      "execution_count": null,
      "outputs": [
        {
          "output_type": "display_data",
          "data": {
            "image/png": "[encoded data removed]",
            "text/plain": [
              "<Figure size 576x144 with 10 Axes>"
            ]
          },
          "metadata": {}
        },
        {
          "output_type": "display_data",
          "data": {
            "text/plain": [
              "<Figure size 576x144 with 0 Axes>"
            ]
          },
          "metadata": {}
        }
      ]
    }
  ]
}
