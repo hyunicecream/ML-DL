{
  "nbformat": 4,
  "nbformat_minor": 0,
  "metadata": {
    "colab": {
      "name": "CNN-시계열 Conv2D.ipynb",
      "provenance": [],
      "collapsed_sections": [],
      "authorship_tag": "ABX9TyP/B7szHUs1FuGMiDEH1ADF",
      "include_colab_link": true
    },
    "kernelspec": {
      "name": "python3",
      "display_name": "Python 3"
    },
    "language_info": {
      "name": "python"
    }
  },
  "cells": [
    {
      "cell_type": "markdown",
      "metadata": {
        "id": "view-in-github",
        "colab_type": "text"
      },
      "source": [
        "<a href=\"https://colab.research.google.com/github/hyunicecream/ML-DL/blob/main/CNN%20%EC%8B%9C%EA%B3%84%EC%97%B4%20Conv2D.ipynb\" target=\"_parent\"><img src=\"https://colab.research.google.com/assets/colab-badge.svg\" alt=\"Open In Colab\"/></a>"
      ]
    },
    {
      "cell_type": "code",
      "execution_count": null,
      "metadata": {
        "id": "tevUTxZxwV9a"
      },
      "outputs": [],
      "source": [
        "from tensorflow.keras.layers import Input, Dense, Conv2D, MaxPooling2D, Flatten\n",
        "from tensorflow.keras.models import Model\n",
        "from tensorflow.keras import optimizers\n",
        "import numpy as np\n",
        "import pandas as pd\n",
        "import matplotlib.pyplot as plt"
      ]
    },
    {
      "cell_type": "code",
      "source": [
        "# 2차원 배열의 feature 데이터로 CNN 학습 데이터를 만든다.\n",
        "def build_train_data(data, t_step, n_jump = 1):\n",
        "    n_data = data.shape[0]   # number of data\n",
        "    n_feat = data.shape[1]   # number of features\n",
        "\n",
        "    m = np.arange(0, n_data - t_step, n_jump)   # m =  [0, 1, 2, 3, 4, 5]\n",
        "    x = [data[i:(i+t_step), :] for i in m]      # feature data\n",
        "    y = [data[i, :] for i in (m + t_step)]      # target data\n",
        "\n",
        "    # shape을 조정한다. feature = 3D, target = 2D\n",
        "    x_data = np.reshape(np.array(x), (len(m), t_step, n_feat, 1))\n",
        "    y_target = np.reshape(np.array(y), (len(m), n_feat))\n",
        "    \n",
        "    return x_data, y_target"
      ],
      "metadata": {
        "id": "Yd7JKbi5ww1U"
      },
      "execution_count": null,
      "outputs": []
    },
    {
      "cell_type": "code",
      "source": [
        "# 시계열 데이터 (noisy sin)\n",
        "n_data = 1000\n",
        "# sine = np.sin(2 * np.pi * 0.03 * np.arange(n_data))   # sine 곡선\n",
        "sine = np.sin(2 * np.pi * 0.03 * np.arange(n_data)) + np.random.random(n_data) # noisy sine\n",
        "\n",
        "# 데이터가 데이터프레임 형식으로 되어 있다고 생각하자. feature가 1개이고 target이 없는 데이터임.\n",
        "# 미래의 sine 값을 target으로 만들어 주고, CNN을 학습한다.\n",
        "df = pd.DataFrame({'sine':sine})\n",
        "df.head()"
      ],
      "metadata": {
        "colab": {
          "base_uri": "https://localhost:8080/",
          "height": 206
        },
        "id": "wKcOBnR4w8TN",
        "outputId": "bb712a3d-4e2e-4ab2-8419-3bc77c99ab04"
      },
      "execution_count": null,
      "outputs": [
        {
          "output_type": "execute_result",
          "data": {
            "text/html": [
              "\n",
              "  <div id=\"df-fc6067be-5a19-4bac-9471-efe015a389e3\">\n",
              "    <div class=\"colab-df-container\">\n",
              "      <div>\n",
              "<style scoped>\n",
              "    .dataframe tbody tr th:only-of-type {\n",
              "        vertical-align: middle;\n",
              "    }\n",
              "\n",
              "    .dataframe tbody tr th {\n",
              "        vertical-align: top;\n",
              "    }\n",
              "\n",
              "    .dataframe thead th {\n",
              "        text-align: right;\n",
              "    }\n",
              "</style>\n",
              "<table border=\"1\" class=\"dataframe\">\n",
              "  <thead>\n",
              "    <tr style=\"text-align: right;\">\n",
              "      <th></th>\n",
              "      <th>sine</th>\n",
              "    </tr>\n",
              "  </thead>\n",
              "  <tbody>\n",
              "    <tr>\n",
              "      <th>0</th>\n",
              "      <td>0.196654</td>\n",
              "    </tr>\n",
              "    <tr>\n",
              "      <th>1</th>\n",
              "      <td>0.679281</td>\n",
              "    </tr>\n",
              "    <tr>\n",
              "      <th>2</th>\n",
              "      <td>0.868591</td>\n",
              "    </tr>\n",
              "    <tr>\n",
              "      <th>3</th>\n",
              "      <td>0.623923</td>\n",
              "    </tr>\n",
              "    <tr>\n",
              "      <th>4</th>\n",
              "      <td>0.704361</td>\n",
              "    </tr>\n",
              "  </tbody>\n",
              "</table>\n",
              "</div>\n",
              "      <button class=\"colab-df-convert\" onclick=\"convertToInteractive('df-fc6067be-5a19-4bac-9471-efe015a389e3')\"\n",
              "              title=\"Convert this dataframe to an interactive table.\"\n",
              "              style=\"display:none;\">\n",
              "        \n",
              "  <svg xmlns=\"http://www.w3.org/2000/svg\" height=\"24px\"viewBox=\"0 0 24 24\"\n",
              "       width=\"24px\">\n",
              "    <path d=\"M0 0h24v24H0V0z\" fill=\"none\"/>\n",
              "    <path d=\"M18.56 5.44l.94 2.06.94-2.06 2.06-.94-2.06-.94-.94-2.06-.94 2.06-2.06.94zm-11 1L8.5 8.5l.94-2.06 2.06-.94-2.06-.94L8.5 2.5l-.94 2.06-2.06.94zm10 10l.94 2.06.94-2.06 2.06-.94-2.06-.94-.94-2.06-.94 2.06-2.06.94z\"/><path d=\"M17.41 7.96l-1.37-1.37c-.4-.4-.92-.59-1.43-.59-.52 0-1.04.2-1.43.59L10.3 9.45l-7.72 7.72c-.78.78-.78 2.05 0 2.83L4 21.41c.39.39.9.59 1.41.59.51 0 1.02-.2 1.41-.59l7.78-7.78 2.81-2.81c.8-.78.8-2.07 0-2.86zM5.41 20L4 18.59l7.72-7.72 1.47 1.35L5.41 20z\"/>\n",
              "  </svg>\n",
              "      </button>\n",
              "      \n",
              "  <style>\n",
              "    .colab-df-container {\n",
              "      display:flex;\n",
              "      flex-wrap:wrap;\n",
              "      gap: 12px;\n",
              "    }\n",
              "\n",
              "    .colab-df-convert {\n",
              "      background-color: #E8F0FE;\n",
              "      border: none;\n",
              "      border-radius: 50%;\n",
              "      cursor: pointer;\n",
              "      display: none;\n",
              "      fill: #1967D2;\n",
              "      height: 32px;\n",
              "      padding: 0 0 0 0;\n",
              "      width: 32px;\n",
              "    }\n",
              "\n",
              "    .colab-df-convert:hover {\n",
              "      background-color: #E2EBFA;\n",
              "      box-shadow: 0px 1px 2px rgba(60, 64, 67, 0.3), 0px 1px 3px 1px rgba(60, 64, 67, 0.15);\n",
              "      fill: #174EA6;\n",
              "    }\n",
              "\n",
              "    [theme=dark] .colab-df-convert {\n",
              "      background-color: #3B4455;\n",
              "      fill: #D2E3FC;\n",
              "    }\n",
              "\n",
              "    [theme=dark] .colab-df-convert:hover {\n",
              "      background-color: #434B5C;\n",
              "      box-shadow: 0px 1px 3px 1px rgba(0, 0, 0, 0.15);\n",
              "      filter: drop-shadow(0px 1px 2px rgba(0, 0, 0, 0.3));\n",
              "      fill: #FFFFFF;\n",
              "    }\n",
              "  </style>\n",
              "\n",
              "      <script>\n",
              "        const buttonEl =\n",
              "          document.querySelector('#df-fc6067be-5a19-4bac-9471-efe015a389e3 button.colab-df-convert');\n",
              "        buttonEl.style.display =\n",
              "          google.colab.kernel.accessAllowed ? 'block' : 'none';\n",
              "\n",
              "        async function convertToInteractive(key) {\n",
              "          const element = document.querySelector('#df-fc6067be-5a19-4bac-9471-efe015a389e3');\n",
              "          const dataTable =\n",
              "            await google.colab.kernel.invokeFunction('convertToInteractive',\n",
              "                                                     [key], {});\n",
              "          if (!dataTable) return;\n",
              "\n",
              "          const docLinkHtml = 'Like what you see? Visit the ' +\n",
              "            '<a target=\"_blank\" href=https://colab.research.google.com/notebooks/data_table.ipynb>data table notebook</a>'\n",
              "            + ' to learn more about interactive tables.';\n",
              "          element.innerHTML = '';\n",
              "          dataTable['output_type'] = 'display_data';\n",
              "          await google.colab.output.renderOutput(dataTable, element);\n",
              "          const docLink = document.createElement('div');\n",
              "          docLink.innerHTML = docLinkHtml;\n",
              "          element.appendChild(docLink);\n",
              "        }\n",
              "      </script>\n",
              "    </div>\n",
              "  </div>\n",
              "  "
            ],
            "text/plain": [
              "       sine\n",
              "0  0.196654\n",
              "1  0.679281\n",
              "2  0.868591\n",
              "3  0.623923\n",
              "4  0.704361"
            ]
          },
          "metadata": {},
          "execution_count": 3
        }
      ]
    },
    {
      "cell_type": "code",
      "source": [
        "t_step = 20\n",
        "\n",
        "# 학습 데이터를 생성한다.\n",
        "data = np.array(df)\n",
        "x_train, y_train = build_train_data(data, t_step)\n",
        "x_train.shape, y_train.shape"
      ],
      "metadata": {
        "colab": {
          "base_uri": "https://localhost:8080/"
        },
        "id": "A4HnGOPvw9yh",
        "outputId": "00e43fef-5bb5-4b0e-e03f-7f1aa795da1f"
      },
      "execution_count": null,
      "outputs": [
        {
          "output_type": "execute_result",
          "data": {
            "text/plain": [
              "((980, 20, 1, 1), (980, 1))"
            ]
          },
          "metadata": {},
          "execution_count": 4
        }
      ]
    },
    {
      "cell_type": "code",
      "source": [
        "# Convolutional 2D 모델을 생성한다.\n",
        "# 1차원 시계열 데이터의 경우는 Conv1D가 적합하지만, 연습 차원에서 Conv2D를 적용해 본다.\n",
        "n_feat = 1\n",
        "n_chan = 1\n",
        "\n",
        "x_input = Input(batch_shape = (None, t_step, n_feat, n_chan))\n",
        "x_conv = Conv2D(filters=10, kernel_size=(8,1), strides=1, padding = 'same', activation='relu')(x_input)\n",
        "x_pool = MaxPooling2D(pool_size=(2,1), strides=1, padding='valid')(x_conv)\n",
        "x_flat = Flatten()(x_pool)\n",
        "y_output = Dense(1, activation='linear')(x_flat)\n",
        "\n",
        "model = Model(x_input, y_output)\n",
        "model.compile(loss='mse', optimizer = optimizers.Adam(learning_rate=0.005))\n",
        "model.summary()"
      ],
      "metadata": {
        "colab": {
          "base_uri": "https://localhost:8080/"
        },
        "id": "qJeL7zvMw_PO",
        "outputId": "9db16e76-a187-452e-f14d-93a9e6d21939"
      },
      "execution_count": null,
      "outputs": [
        {
          "output_type": "stream",
          "name": "stdout",
          "text": [
            "Model: \"model\"\n",
            "_________________________________________________________________\n",
            " Layer (type)                Output Shape              Param #   \n",
            "=================================================================\n",
            " input_1 (InputLayer)        [(None, 20, 1, 1)]        0         \n",
            "                                                                 \n",
            " conv2d (Conv2D)             (None, 20, 1, 10)         90        \n",
            "                                                                 \n",
            " max_pooling2d (MaxPooling2D  (None, 19, 1, 10)        0         \n",
            " )                                                               \n",
            "                                                                 \n",
            " flatten (Flatten)           (None, 190)               0         \n",
            "                                                                 \n",
            " dense (Dense)               (None, 1)                 191       \n",
            "                                                                 \n",
            "=================================================================\n",
            "Total params: 281\n",
            "Trainable params: 281\n",
            "Non-trainable params: 0\n",
            "_________________________________________________________________\n"
          ]
        }
      ]
    },
    {
      "cell_type": "code",
      "source": [
        "# 모델을 학습한다.\n",
        "h = model.fit(x_train, y_train, epochs = 50, batch_size = 32)"
      ],
      "metadata": {
        "colab": {
          "base_uri": "https://localhost:8080/"
        },
        "id": "u1VOoDsBxAhs",
        "outputId": "9d1f3357-cd53-41fc-ac45-a8b9893515c2"
      },
      "execution_count": null,
      "outputs": [
        {
          "output_type": "stream",
          "name": "stdout",
          "text": [
            "Epoch 1/50\n",
            "31/31 [==============================] - 1s 6ms/step - loss: 0.2225\n",
            "Epoch 2/50\n",
            "31/31 [==============================] - 0s 5ms/step - loss: 0.1124\n",
            "Epoch 3/50\n",
            "31/31 [==============================] - 0s 5ms/step - loss: 0.1062\n",
            "Epoch 4/50\n",
            "31/31 [==============================] - 0s 3ms/step - loss: 0.1062\n",
            "Epoch 5/50\n",
            "31/31 [==============================] - 0s 4ms/step - loss: 0.1059\n",
            "Epoch 6/50\n",
            "31/31 [==============================] - 0s 3ms/step - loss: 0.1020\n",
            "Epoch 7/50\n",
            "31/31 [==============================] - 0s 6ms/step - loss: 0.0976\n",
            "Epoch 8/50\n",
            "31/31 [==============================] - 0s 3ms/step - loss: 0.1002\n",
            "Epoch 9/50\n",
            "31/31 [==============================] - 0s 4ms/step - loss: 0.0952\n",
            "Epoch 10/50\n",
            "31/31 [==============================] - 0s 4ms/step - loss: 0.0945\n",
            "Epoch 11/50\n",
            "31/31 [==============================] - 0s 4ms/step - loss: 0.0951\n",
            "Epoch 12/50\n",
            "31/31 [==============================] - 0s 4ms/step - loss: 0.0958\n",
            "Epoch 13/50\n",
            "31/31 [==============================] - 0s 6ms/step - loss: 0.0933\n",
            "Epoch 14/50\n",
            "31/31 [==============================] - 0s 4ms/step - loss: 0.0922\n",
            "Epoch 15/50\n",
            "31/31 [==============================] - 0s 5ms/step - loss: 0.0920\n",
            "Epoch 16/50\n",
            "31/31 [==============================] - 0s 4ms/step - loss: 0.0937\n",
            "Epoch 17/50\n",
            "31/31 [==============================] - 0s 4ms/step - loss: 0.0937\n",
            "Epoch 18/50\n",
            "31/31 [==============================] - 0s 4ms/step - loss: 0.0906\n",
            "Epoch 19/50\n",
            "31/31 [==============================] - 0s 4ms/step - loss: 0.0887\n",
            "Epoch 20/50\n",
            "31/31 [==============================] - 0s 4ms/step - loss: 0.0910\n",
            "Epoch 21/50\n",
            "31/31 [==============================] - 0s 5ms/step - loss: 0.0889\n",
            "Epoch 22/50\n",
            "31/31 [==============================] - 0s 4ms/step - loss: 0.0873\n",
            "Epoch 23/50\n",
            "31/31 [==============================] - 0s 3ms/step - loss: 0.0873\n",
            "Epoch 24/50\n",
            "31/31 [==============================] - 0s 6ms/step - loss: 0.0895\n",
            "Epoch 25/50\n",
            "31/31 [==============================] - 0s 3ms/step - loss: 0.0870\n",
            "Epoch 26/50\n",
            "31/31 [==============================] - 0s 4ms/step - loss: 0.0870\n",
            "Epoch 27/50\n",
            "31/31 [==============================] - 0s 3ms/step - loss: 0.0892\n",
            "Epoch 28/50\n",
            "31/31 [==============================] - 0s 3ms/step - loss: 0.0904\n",
            "Epoch 29/50\n",
            "31/31 [==============================] - 0s 4ms/step - loss: 0.0882\n",
            "Epoch 30/50\n",
            "31/31 [==============================] - 0s 4ms/step - loss: 0.0862\n",
            "Epoch 31/50\n",
            "31/31 [==============================] - 0s 5ms/step - loss: 0.0885\n",
            "Epoch 32/50\n",
            "31/31 [==============================] - 0s 4ms/step - loss: 0.0891\n",
            "Epoch 33/50\n",
            "31/31 [==============================] - 0s 4ms/step - loss: 0.0897\n",
            "Epoch 34/50\n",
            "31/31 [==============================] - 0s 3ms/step - loss: 0.0837\n",
            "Epoch 35/50\n",
            "31/31 [==============================] - 0s 3ms/step - loss: 0.0858\n",
            "Epoch 36/50\n",
            "31/31 [==============================] - 0s 3ms/step - loss: 0.0826\n",
            "Epoch 37/50\n",
            "31/31 [==============================] - 0s 4ms/step - loss: 0.0835\n",
            "Epoch 38/50\n",
            "31/31 [==============================] - 0s 5ms/step - loss: 0.0822\n",
            "Epoch 39/50\n",
            "31/31 [==============================] - 0s 4ms/step - loss: 0.0864\n",
            "Epoch 40/50\n",
            "31/31 [==============================] - 0s 4ms/step - loss: 0.0838\n",
            "Epoch 41/50\n",
            "31/31 [==============================] - 0s 3ms/step - loss: 0.0833\n",
            "Epoch 42/50\n",
            "31/31 [==============================] - 0s 4ms/step - loss: 0.0811\n",
            "Epoch 43/50\n",
            "31/31 [==============================] - 0s 6ms/step - loss: 0.0847\n",
            "Epoch 44/50\n",
            "31/31 [==============================] - 0s 7ms/step - loss: 0.0844\n",
            "Epoch 45/50\n",
            "31/31 [==============================] - 0s 4ms/step - loss: 0.0899\n",
            "Epoch 46/50\n",
            "31/31 [==============================] - 0s 4ms/step - loss: 0.0830\n",
            "Epoch 47/50\n",
            "31/31 [==============================] - 0s 4ms/step - loss: 0.0848\n",
            "Epoch 48/50\n",
            "31/31 [==============================] - 0s 3ms/step - loss: 0.0848\n",
            "Epoch 49/50\n",
            "31/31 [==============================] - 0s 3ms/step - loss: 0.0829\n",
            "Epoch 50/50\n",
            "31/31 [==============================] - 0s 4ms/step - loss: 0.0823\n"
          ]
        }
      ]
    },
    {
      "cell_type": "code",
      "source": [
        "# 향후 20 기간 데이터를 예측한다. 향후 1 기간을 예측하고, 예측값을 다시 입력하여 2 기간을 예측한다.\n",
        "# 이런 방식으로 20 기간까지 예측한다.\n",
        "n_future = 20\n",
        "n_last = 100\n",
        "if len(data) > n_last:\n",
        "    last_data = np.copy(data[-n_last:])  # 원 데이터의 마지막 n_last개만 그려본다\n",
        "else:\n",
        "    last_data = np.copy(data)\n",
        "\n",
        "dx = np.copy(last_data)\n",
        "estimated = [dx[-1][0]]\n",
        "for i in range(n_future):\n",
        "    # 마지막 t_step 만큼 입력데이터로 다음 값을 예측한다\n",
        "    px = dx[-t_step:].reshape(1, t_step, 1)\n",
        "    \n",
        "    # 다음 값을 예측한다.\n",
        "    y_hat = model.predict(px)[0][0]\n",
        "        \n",
        "    # 예측값을 저장해 둔다\n",
        "    estimated.append(y_hat)\n",
        "    \n",
        "    # 이전 예측값을 포함하여 또 다음 값을 예측하기위해 예측한 값을 저장해 둔다\n",
        "    dx = np.insert(dx, len(dx), y_hat)"
      ],
      "metadata": {
        "id": "67HrToo5xCJ1"
      },
      "execution_count": null,
      "outputs": []
    },
    {
      "cell_type": "code",
      "source": [
        "# 원 시계열과 예측된 시계열을 그린다\n",
        "plt.figure(figsize=(12, 6))\n",
        "ax1 = np.arange(1, len(last_data) + 1)\n",
        "ax2 = np.arange(len(last_data), len(last_data) + len(estimated))\n",
        "plt.plot(ax1, last_data, 'b-o', color='blue', markersize=3, label='Time series', linewidth=1)\n",
        "plt.plot(ax2, estimated, 'b-o', color='red', markersize=3, label='Estimated')\n",
        "plt.axvline(x=ax1[-1],  linestyle='dashed', linewidth=1)\n",
        "plt.legend()\n",
        "plt.show()"
      ],
      "metadata": {
        "colab": {
          "base_uri": "https://localhost:8080/",
          "height": 331
        },
        "id": "rMpMOQKExEzA",
        "outputId": "b1bc1314-0fe6-454e-86d3-afc5a5dee65a"
      },
      "execution_count": null,
      "outputs": [
        {
          "output_type": "display_data",
          "data": {
            "image/png": "[encoded data removed]",
            "text/plain": [
              "<Figure size 864x432 with 1 Axes>"
            ]
          },
          "metadata": {
            "needs_background": "light"
          }
        }
      ]
    },
    {
      "cell_type": "code",
      "source": [
        ""
      ],
      "metadata": {
        "id": "75rkqZUWxGoy"
      },
      "execution_count": null,
      "outputs": []
    }
  ]
}