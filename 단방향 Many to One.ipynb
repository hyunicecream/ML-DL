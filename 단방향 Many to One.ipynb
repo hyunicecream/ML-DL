{
  "nbformat": 4,
  "nbformat_minor": 0,
  "metadata": {
    "colab": {
      "name": "단방향 Many-to-One.ipynb",
      "provenance": [],
      "collapsed_sections": [],
      "authorship_tag": "ABX9TyO2r0W8IVhCPRmDLQEBFWrW",
      "include_colab_link": true
    },
    "kernelspec": {
      "name": "python3",
      "display_name": "Python 3"
    },
    "language_info": {
      "name": "python"
    }
  },
  "cells": [
    {
      "cell_type": "markdown",
      "metadata": {
        "id": "view-in-github",
        "colab_type": "text"
      },
      "source": [
        "<a href=\"https://colab.research.google.com/github/hyunicecream/ML-DL/blob/main/%EB%8B%A8%EB%B0%A9%ED%96%A5%20Many%20to%20One.ipynb\" target=\"_parent\"><img src=\"https://colab.research.google.com/assets/colab-badge.svg\" alt=\"Open In Colab\"/></a>"
      ]
    },
    {
      "cell_type": "code",
      "execution_count": null,
      "metadata": {
        "id": "st7MM34Urxkp"
      },
      "outputs": [],
      "source": [
        "from tensorflow.keras.layers import Dense, Input, LSTM\n",
        "from tensorflow.keras.models import Model\n",
        "from tensorflow.keras.optimizers import Adam\n",
        "import numpy as np\n",
        "import pandas as pd\n",
        "import matplotlib.pyplot as plt"
      ]
    },
    {
      "cell_type": "code",
      "source": [
        "# 2차원 배열의 feature 데이터로 LSTM 학습 데이터 만들기.\n",
        "def build_train_data(data, t_step, n_jump = 1):\n",
        "    n_data = data.shape[0]   # number of data\n",
        "    n_feat = data.shape[1]   # number of features\n",
        "\n",
        "    m = np.arange(0, n_data - t_step, n_jump)   # m =  [0, 1, 2, 3, 4, 5]\n",
        "    x = [data[i:(i+t_step), :] for i in m]      # feature data\n",
        "    y = [data[i, :] for i in (m + t_step)]      # target data\n",
        "\n",
        "    # shape을 조정한다. feature = 3D, target = 2D\n",
        "    x_data = np.reshape(np.array(x), (len(m), t_step, n_feat))\n",
        "    y_target = np.reshape(np.array(y), (len(m), n_feat))\n",
        "    \n",
        "    return x_data, y_target"
      ],
      "metadata": {
        "id": "DzdcgbbptVEL"
      },
      "execution_count": null,
      "outputs": []
    },
    {
      "cell_type": "code",
      "source": [
        "# 시계열 데이터 (noisy sin)\n",
        "sine = np.sin(2 * np.pi * 0.03 * np.arange(1001)) # sine곡선\n",
        "# sine = np.sin(2 * np.pi * 0.03 * np.arange(1001)) + np.random.random(1001) # trend & noisy sine"
      ],
      "metadata": {
        "id": "u1UJOnoztjQD"
      },
      "execution_count": null,
      "outputs": []
    },
    {
      "cell_type": "code",
      "source": [
        "# 데이터가 데이터프레임 형식으로 되어 있다고 생각하자. feature가 1개이고 target이 없는 데이터임.\n",
        "# 미래의 sine 값을 target으로 만들어 주고, LSTM을 학습한다.\n",
        "df = pd.DataFrame({'sine':sine})\n",
        "df.head()"
      ],
      "metadata": {
        "colab": {
          "base_uri": "https://localhost:8080/",
          "height": 206
        },
        "id": "TzuVLD52tw8b",
        "outputId": "72ab3d9d-5208-4dd8-fa1e-7e302bbd2f6f"
      },
      "execution_count": null,
      "outputs": [
        {
          "output_type": "execute_result",
          "data": {
            "text/html": [
              "\n",
              "  <div id=\"df-c79b6c12-3472-49ed-873b-e19e4b5d61e5\">\n",
              "    <div class=\"colab-df-container\">\n",
              "      <div>\n",
              "<style scoped>\n",
              "    .dataframe tbody tr th:only-of-type {\n",
              "        vertical-align: middle;\n",
              "    }\n",
              "\n",
              "    .dataframe tbody tr th {\n",
              "        vertical-align: top;\n",
              "    }\n",
              "\n",
              "    .dataframe thead th {\n",
              "        text-align: right;\n",
              "    }\n",
              "</style>\n",
              "<table border=\"1\" class=\"dataframe\">\n",
              "  <thead>\n",
              "    <tr style=\"text-align: right;\">\n",
              "      <th></th>\n",
              "      <th>sine</th>\n",
              "    </tr>\n",
              "  </thead>\n",
              "  <tbody>\n",
              "    <tr>\n",
              "      <th>0</th>\n",
              "      <td>0.000000</td>\n",
              "    </tr>\n",
              "    <tr>\n",
              "      <th>1</th>\n",
              "      <td>0.187381</td>\n",
              "    </tr>\n",
              "    <tr>\n",
              "      <th>2</th>\n",
              "      <td>0.368125</td>\n",
              "    </tr>\n",
              "    <tr>\n",
              "      <th>3</th>\n",
              "      <td>0.535827</td>\n",
              "    </tr>\n",
              "    <tr>\n",
              "      <th>4</th>\n",
              "      <td>0.684547</td>\n",
              "    </tr>\n",
              "  </tbody>\n",
              "</table>\n",
              "</div>\n",
              "      <button class=\"colab-df-convert\" onclick=\"convertToInteractive('df-c79b6c12-3472-49ed-873b-e19e4b5d61e5')\"\n",
              "              title=\"Convert this dataframe to an interactive table.\"\n",
              "              style=\"display:none;\">\n",
              "        \n",
              "  <svg xmlns=\"http://www.w3.org/2000/svg\" height=\"24px\"viewBox=\"0 0 24 24\"\n",
              "       width=\"24px\">\n",
              "    <path d=\"M0 0h24v24H0V0z\" fill=\"none\"/>\n",
              "    <path d=\"M18.56 5.44l.94 2.06.94-2.06 2.06-.94-2.06-.94-.94-2.06-.94 2.06-2.06.94zm-11 1L8.5 8.5l.94-2.06 2.06-.94-2.06-.94L8.5 2.5l-.94 2.06-2.06.94zm10 10l.94 2.06.94-2.06 2.06-.94-2.06-.94-.94-2.06-.94 2.06-2.06.94z\"/><path d=\"M17.41 7.96l-1.37-1.37c-.4-.4-.92-.59-1.43-.59-.52 0-1.04.2-1.43.59L10.3 9.45l-7.72 7.72c-.78.78-.78 2.05 0 2.83L4 21.41c.39.39.9.59 1.41.59.51 0 1.02-.2 1.41-.59l7.78-7.78 2.81-2.81c.8-.78.8-2.07 0-2.86zM5.41 20L4 18.59l7.72-7.72 1.47 1.35L5.41 20z\"/>\n",
              "  </svg>\n",
              "      </button>\n",
              "      \n",
              "  <style>\n",
              "    .colab-df-container {\n",
              "      display:flex;\n",
              "      flex-wrap:wrap;\n",
              "      gap: 12px;\n",
              "    }\n",
              "\n",
              "    .colab-df-convert {\n",
              "      background-color: #E8F0FE;\n",
              "      border: none;\n",
              "      border-radius: 50%;\n",
              "      cursor: pointer;\n",
              "      display: none;\n",
              "      fill: #1967D2;\n",
              "      height: 32px;\n",
              "      padding: 0 0 0 0;\n",
              "      width: 32px;\n",
              "    }\n",
              "\n",
              "    .colab-df-convert:hover {\n",
              "      background-color: #E2EBFA;\n",
              "      box-shadow: 0px 1px 2px rgba(60, 64, 67, 0.3), 0px 1px 3px 1px rgba(60, 64, 67, 0.15);\n",
              "      fill: #174EA6;\n",
              "    }\n",
              "\n",
              "    [theme=dark] .colab-df-convert {\n",
              "      background-color: #3B4455;\n",
              "      fill: #D2E3FC;\n",
              "    }\n",
              "\n",
              "    [theme=dark] .colab-df-convert:hover {\n",
              "      background-color: #434B5C;\n",
              "      box-shadow: 0px 1px 3px 1px rgba(0, 0, 0, 0.15);\n",
              "      filter: drop-shadow(0px 1px 2px rgba(0, 0, 0, 0.3));\n",
              "      fill: #FFFFFF;\n",
              "    }\n",
              "  </style>\n",
              "\n",
              "      <script>\n",
              "        const buttonEl =\n",
              "          document.querySelector('#df-c79b6c12-3472-49ed-873b-e19e4b5d61e5 button.colab-df-convert');\n",
              "        buttonEl.style.display =\n",
              "          google.colab.kernel.accessAllowed ? 'block' : 'none';\n",
              "\n",
              "        async function convertToInteractive(key) {\n",
              "          const element = document.querySelector('#df-c79b6c12-3472-49ed-873b-e19e4b5d61e5');\n",
              "          const dataTable =\n",
              "            await google.colab.kernel.invokeFunction('convertToInteractive',\n",
              "                                                     [key], {});\n",
              "          if (!dataTable) return;\n",
              "\n",
              "          const docLinkHtml = 'Like what you see? Visit the ' +\n",
              "            '<a target=\"_blank\" href=https://colab.research.google.com/notebooks/data_table.ipynb>data table notebook</a>'\n",
              "            + ' to learn more about interactive tables.';\n",
              "          element.innerHTML = '';\n",
              "          dataTable['output_type'] = 'display_data';\n",
              "          await google.colab.output.renderOutput(dataTable, element);\n",
              "          const docLink = document.createElement('div');\n",
              "          docLink.innerHTML = docLinkHtml;\n",
              "          element.appendChild(docLink);\n",
              "        }\n",
              "      </script>\n",
              "    </div>\n",
              "  </div>\n",
              "  "
            ],
            "text/plain": [
              "       sine\n",
              "0  0.000000\n",
              "1  0.187381\n",
              "2  0.368125\n",
              "3  0.535827\n",
              "4  0.684547"
            ]
          },
          "metadata": {},
          "execution_count": 13
        }
      ]
    },
    {
      "cell_type": "code",
      "source": [
        "# 학습 데이터 생성\n",
        "data = np.array(df)\n",
        "t_step = 20\n",
        "x_train, y_train = build_train_data(data, t_step)\n",
        "x_train.shape, y_train.shape"
      ],
      "metadata": {
        "colab": {
          "base_uri": "https://localhost:8080/"
        },
        "id": "0U-mqqDouDkC",
        "outputId": "fc860a2f-75dc-4f43-b106-3cf8cb2e8df0"
      },
      "execution_count": null,
      "outputs": [
        {
          "output_type": "execute_result",
          "data": {
            "text/plain": [
              "((981, 20, 1), (981, 1))"
            ]
          },
          "metadata": {},
          "execution_count": 16
        }
      ]
    },
    {
      "cell_type": "code",
      "source": [
        "n_input = 1\n",
        "n_output = 1\n",
        "n_hidden = 50\n",
        "\n",
        "# LSTM 모델을 생성한다.\n",
        "x_input = Input(batch_shape=(None, t_step, n_input))\n",
        "# None: 데이터 미정 (데이터가 없다는 뜻이 아니다) 데이터가 아직 결정된 바가 없다. \n",
        "# 그래서 fit()과 predict() 데이터가 들어오면 그때 알 수 있다. \n",
        "x_lstm = LSTM(n_hidden)(x_input)\n",
        "#x_lstm, last_h, last_c = LSTM(n_hidden, return_sequences=True, return_state=True)(x_input)\n",
        "# return_sequences=True 중간출력을 모두 한다. -> many to many 변환\n",
        "# return_state=True h, c를 출력한다. -> many to many 변환\n",
        "# y_pred[0] = x_lstm\n",
        "# y_pred[1] = last_h\n",
        "# y_pred[2] = last_c\n",
        "y_output = Dense(n_output)(x_lstm)\n",
        "\n",
        "model = Model(x_input, y_output)\n",
        "model.compile(loss='mse', optimizer=Adam(learning_rate = 0.001))\n",
        "model.summary()"
      ],
      "metadata": {
        "colab": {
          "base_uri": "https://localhost:8080/"
        },
        "id": "CWCf6dlguO6r",
        "outputId": "13032c6a-0a57-4ad2-b122-4bd297c82898"
      },
      "execution_count": null,
      "outputs": [
        {
          "output_type": "stream",
          "name": "stdout",
          "text": [
            "Model: \"model\"\n",
            "_________________________________________________________________\n",
            " Layer (type)                Output Shape              Param #   \n",
            "=================================================================\n",
            " input_1 (InputLayer)        [(None, 20, 1)]           0         \n",
            "                                                                 \n",
            " lstm (LSTM)                 (None, 50)                10400     \n",
            "                                                                 \n",
            " dense (Dense)               (None, 1)                 51        \n",
            "                                                                 \n",
            "=================================================================\n",
            "Total params: 10,451\n",
            "Trainable params: 10,451\n",
            "Non-trainable params: 0\n",
            "_________________________________________________________________\n"
          ]
        }
      ]
    },
    {
      "cell_type": "code",
      "source": [
        "# 학습한다\n",
        "h = model.fit(x_train, y_train, epochs=20, batch_size=100, shuffle=True)"
      ],
      "metadata": {
        "colab": {
          "base_uri": "https://localhost:8080/"
        },
        "id": "Q302VDWDutMv",
        "outputId": "df23f5f8-86c9-44b6-bb5a-eb0e756f7de7"
      },
      "execution_count": null,
      "outputs": [
        {
          "output_type": "stream",
          "name": "stdout",
          "text": [
            "Epoch 1/20\n",
            "10/10 [==============================] - 3s 16ms/step - loss: 0.3591\n",
            "Epoch 2/20\n",
            "10/10 [==============================] - 0s 16ms/step - loss: 0.1168\n",
            "Epoch 3/20\n",
            "10/10 [==============================] - 0s 17ms/step - loss: 0.0188\n",
            "Epoch 4/20\n",
            "10/10 [==============================] - 0s 17ms/step - loss: 0.0080\n",
            "Epoch 5/20\n",
            "10/10 [==============================] - 0s 20ms/step - loss: 0.0026\n",
            "Epoch 6/20\n",
            "10/10 [==============================] - 0s 19ms/step - loss: 9.1494e-04\n",
            "Epoch 7/20\n",
            "10/10 [==============================] - 0s 16ms/step - loss: 5.8414e-04\n",
            "Epoch 8/20\n",
            "10/10 [==============================] - 0s 18ms/step - loss: 1.8744e-04\n",
            "Epoch 9/20\n",
            "10/10 [==============================] - 0s 16ms/step - loss: 1.0399e-04\n",
            "Epoch 10/20\n",
            "10/10 [==============================] - 0s 17ms/step - loss: 7.4574e-05\n",
            "Epoch 11/20\n",
            "10/10 [==============================] - 0s 17ms/step - loss: 5.5246e-05\n",
            "Epoch 12/20\n",
            "10/10 [==============================] - 0s 21ms/step - loss: 4.9271e-05\n",
            "Epoch 13/20\n",
            "10/10 [==============================] - 0s 17ms/step - loss: 4.4434e-05\n",
            "Epoch 14/20\n",
            "10/10 [==============================] - 0s 16ms/step - loss: 3.9668e-05\n",
            "Epoch 15/20\n",
            "10/10 [==============================] - 0s 16ms/step - loss: 3.6112e-05\n",
            "Epoch 16/20\n",
            "10/10 [==============================] - 0s 17ms/step - loss: 3.2790e-05\n",
            "Epoch 17/20\n",
            "10/10 [==============================] - 0s 16ms/step - loss: 2.9682e-05\n",
            "Epoch 18/20\n",
            "10/10 [==============================] - 0s 17ms/step - loss: 2.6890e-05\n",
            "Epoch 19/20\n",
            "10/10 [==============================] - 0s 16ms/step - loss: 2.4248e-05\n",
            "Epoch 20/20\n",
            "10/10 [==============================] - 0s 17ms/step - loss: 2.1954e-05\n"
          ]
        }
      ]
    },
    {
      "cell_type": "code",
      "source": [
        "# Loss history를 그린다\n",
        "plt.figure(figsize=(8, 3))\n",
        "plt.plot(h.history['loss'], color='red')\n",
        "plt.title(\"Loss History\")\n",
        "plt.xlabel(\"epoch\")\n",
        "plt.ylabel(\"loss\")\n",
        "plt.show()"
      ],
      "metadata": {
        "colab": {
          "base_uri": "https://localhost:8080/",
          "height": 241
        },
        "id": "MkeJxpAPuzTd",
        "outputId": "41173072-acaa-4603-9845-324eaf36eeb6"
      },
      "execution_count": null,
      "outputs": [
        {
          "output_type": "display_data",
          "data": {
            "image/png": "[encoded data removed]",
            "text/plain": [
              "<Figure size 576x216 with 1 Axes>"
            ]
          },
          "metadata": {
            "needs_background": "light"
          }
        }
      ]
    },
    {
      "cell_type": "code",
      "source": [
        "# 최근 t_step 기간의 데이터로 다음 기간의 sine 값을 예측한다.\n",
        "px = data[-t_step:].reshape(1, t_step, 1)\n",
        "y_pred = model.predict(px)[0][0]\n",
        "print(y_pred) # t= 1 일때의 출력 [0][0][0]\n",
        "# y_pred[1][0][-1] = y_pred[1][0]"
      ],
      "metadata": {
        "colab": {
          "base_uri": "https://localhost:8080/"
        },
        "id": "TXVJ_VVlu2yN",
        "outputId": "4804de76-9eae-4a14-deb2-8aabfe08e961"
      },
      "execution_count": null,
      "outputs": [
        {
          "output_type": "stream",
          "name": "stdout",
          "text": [
            "0.19152606\n"
          ]
        }
      ]
    },
    {
      "cell_type": "code",
      "source": [
        "# 향후 20 기간 데이터를 예측한다. 향후 1 기간을 예측하고, 예측값을 다시 입력하여 2 기간을 예측한다.\n",
        "# 이런 방식으로 20 기간까지 예측한다.\n",
        "n_future = 20\n",
        "n_last = 100\n",
        "if len(data) > n_last:\n",
        "    last_data = np.copy(data[-n_last:])  # 원 데이터의 마지막 n_last개만 그려본다\n",
        "else:\n",
        "    last_data = np.copy(data)\n",
        "\n",
        "dx = np.copy(last_data)\n",
        "estimated = [dx[-1][0]]\n",
        "for i in range(n_future):\n",
        "    # 마지막 t_step 만큼 입력데이터로 다음 값을 예측한다\n",
        "    px = dx[-t_step:].reshape(1, t_step, 1)\n",
        "    \n",
        "    # 다음 값을 예측한다.\n",
        "    y_hat = model.predict(px)[0][0]\n",
        "        \n",
        "    # 예측값을 저장해 둔다\n",
        "    estimated.append(y_hat)\n",
        "    \n",
        "    # 이전 예측값을 포함하여 또 다음 값을 예측하기위해 예측한 값을 저장해 둔다\n",
        "    dx = np.insert(dx, len(dx), y_hat)\n"
      ],
      "metadata": {
        "id": "rmbIipWzu5S9"
      },
      "execution_count": null,
      "outputs": []
    },
    {
      "cell_type": "code",
      "source": [
        "# 원 시계열과 예측된 시계열을 그린다\n",
        "plt.figure(figsize=(12, 6))\n",
        "ax1 = np.arange(1, len(last_data) + 1)\n",
        "ax2 = np.arange(len(last_data), len(last_data) + len(estimated))\n",
        "plt.plot(ax1, last_data, 'b-o', color='blue', markersize=3, label='Time series', linewidth=1)\n",
        "plt.plot(ax2, estimated, 'b-o', color='red', markersize=3, label='Estimated')\n",
        "plt.axvline(x=ax1[-1],  linestyle='dashed', linewidth=1)\n",
        "plt.legend()\n",
        "plt.show()"
      ],
      "metadata": {
        "colab": {
          "base_uri": "https://localhost:8080/",
          "height": 328
        },
        "id": "R8l9lIC3u9Mc",
        "outputId": "b88dc23b-e99c-495e-d878-4cb0b1ddb80a"
      },
      "execution_count": null,
      "outputs": [
        {
          "output_type": "display_data",
          "data": {
            "image/png": "[encoded data removed]",
            "text/plain": [
              "<Figure size 864x432 with 1 Axes>"
            ]
          },
          "metadata": {
            "needs_background": "light"
          }
        }
      ]
    }
  ]
}