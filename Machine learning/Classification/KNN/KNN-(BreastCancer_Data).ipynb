{
  "nbformat": 4,
  "nbformat_minor": 0,
  "metadata": {
    "colab": {
      "name": "KNN-(BreastCancer_DATA).ipynb",
      "provenance": [],
      "collapsed_sections": [],
      "authorship_tag": "ABX9TyNL/7KfDdEjIApT/HvK3T08",
      "include_colab_link": true
    },
    "kernelspec": {
      "name": "python3",
      "display_name": "Python 3"
    },
    "language_info": {
      "name": "python"
    }
  },
  "cells": [
    {
      "cell_type": "markdown",
      "metadata": {
        "id": "view-in-github",
        "colab_type": "text"
      },
      "source": [
        "<a href=\"https://colab.research.google.com/github/hyunicecream/ML-DL/blob/main/KNN_(BreastCancer_DATA).ipynb\" target=\"_parent\"><img src=\"https://colab.research.google.com/assets/colab-badge.svg\" alt=\"Open In Colab\"/></a>"
      ]
    },
    {
      "cell_type": "code",
      "metadata": {
        "id": "9AzZgKC31nfc"
      },
      "source": [
        "import matplotlib.pyplot as plt\n",
        "from sklearn.datasets import load_breast_cancer\n",
        "from sklearn.model_selection import train_test_split\n",
        "from sklearn.neighbors import KNeighborsClassifier\n",
        "import numpy as np\n",
        "from sklearn.preprocessing import StandardScaler"
      ],
      "execution_count": null,
      "outputs": []
    },
    {
      "cell_type": "code",
      "metadata": {
        "id": "aUvjXj3Y17tj"
      },
      "source": [
        "# breast cacer 데이터 불러오기\n",
        "cancer = load_breast_cancer()"
      ],
      "execution_count": null,
      "outputs": []
    },
    {
      "cell_type": "code",
      "metadata": {
        "colab": {
          "base_uri": "https://localhost:8080/"
        },
        "id": "nu-H4m742WT3",
        "outputId": "cf36c3b5-d045-4a82-aec6-833af39a7007"
      },
      "source": [
        "# 어떤 정보가 있는지 확인해보기\n",
        "cancer.keys()"
      ],
      "execution_count": null,
      "outputs": [
        {
          "output_type": "execute_result",
          "data": {
            "text/plain": [
              "dict_keys(['data', 'target', 'frame', 'target_names', 'DESCR', 'feature_names', 'filename', 'data_module'])"
            ]
          },
          "metadata": {},
          "execution_count": 8
        }
      ]
    },
    {
      "cell_type": "code",
      "metadata": {
        "colab": {
          "base_uri": "https://localhost:8080/",
          "height": 35
        },
        "id": "02vG6-nt3Nrp",
        "outputId": "43ce4c02-4050-47d6-f992-c4e03b03de28"
      },
      "source": [
        "cancer['filename']"
      ],
      "execution_count": null,
      "outputs": [
        {
          "output_type": "execute_result",
          "data": {
            "application/vnd.google.colaboratory.intrinsic+json": {
              "type": "string"
            },
            "text/plain": [
              "'breast_cancer.csv'"
            ]
          },
          "metadata": {},
          "execution_count": 15
        }
      ]
    },
    {
      "cell_type": "code",
      "metadata": {
        "colab": {
          "base_uri": "https://localhost:8080/"
        },
        "id": "k9IlK12g2Chm",
        "outputId": "40672b0f-2b36-46c2-f52f-eccbbb5655d2"
      },
      "source": [
        "# feature 정보 확인하기\n",
        "cancer['feature_names']"
      ],
      "execution_count": null,
      "outputs": [
        {
          "output_type": "execute_result",
          "data": {
            "text/plain": [
              "array(['mean radius', 'mean texture', 'mean perimeter', 'mean area',\n",
              "       'mean smoothness', 'mean compactness', 'mean concavity',\n",
              "       'mean concave points', 'mean symmetry', 'mean fractal dimension',\n",
              "       'radius error', 'texture error', 'perimeter error', 'area error',\n",
              "       'smoothness error', 'compactness error', 'concavity error',\n",
              "       'concave points error', 'symmetry error',\n",
              "       'fractal dimension error', 'worst radius', 'worst texture',\n",
              "       'worst perimeter', 'worst area', 'worst smoothness',\n",
              "       'worst compactness', 'worst concavity', 'worst concave points',\n",
              "       'worst symmetry', 'worst fractal dimension'], dtype='<U23')"
            ]
          },
          "metadata": {},
          "execution_count": 11
        }
      ]
    },
    {
      "cell_type": "code",
      "metadata": {
        "colab": {
          "base_uri": "https://localhost:8080/"
        },
        "id": "DWRiVP7F2Q_c",
        "outputId": "f6d1c372-b582-46b0-8225-50d4cee89d1d"
      },
      "source": [
        "# feature 개수 확인하기\n",
        "len(cancer['feature_names'])"
      ],
      "execution_count": null,
      "outputs": [
        {
          "output_type": "execute_result",
          "data": {
            "text/plain": [
              "30"
            ]
          },
          "metadata": {},
          "execution_count": 12
        }
      ]
    },
    {
      "cell_type": "code",
      "metadata": {
        "colab": {
          "base_uri": "https://localhost:8080/"
        },
        "id": "WuM9Z7b52Ivf",
        "outputId": "43da54d3-bb91-4bce-9416-effebb6fe06d"
      },
      "source": [
        "cancer['target_names']"
      ],
      "execution_count": null,
      "outputs": [
        {
          "output_type": "execute_result",
          "data": {
            "text/plain": [
              "array(['malignant', 'benign'], dtype='<U9')"
            ]
          },
          "metadata": {},
          "execution_count": 9
        }
      ]
    },
    {
      "cell_type": "code",
      "metadata": {
        "colab": {
          "base_uri": "https://localhost:8080/"
        },
        "id": "MXUYXIWG2zfC",
        "outputId": "dbbc852e-cb7f-4ace-a8fd-fd97ce0403b8"
      },
      "source": [
        "len(cancer['target_names'])"
      ],
      "execution_count": null,
      "outputs": [
        {
          "output_type": "execute_result",
          "data": {
            "text/plain": [
              "2"
            ]
          },
          "metadata": {},
          "execution_count": 13
        }
      ]
    },
    {
      "cell_type": "code",
      "metadata": {
        "colab": {
          "base_uri": "https://localhost:8080/"
        },
        "id": "fEw6ye7537pt",
        "outputId": "9d215bef-1f8d-4a7c-9975-14d617c0ff3f"
      },
      "source": [
        "# 569 x 30의 배열을 가진 것을 확인\n",
        "cancer['data'].shape"
      ],
      "execution_count": null,
      "outputs": [
        {
          "output_type": "execute_result",
          "data": {
            "text/plain": [
              "(569, 30)"
            ]
          },
          "metadata": {},
          "execution_count": 23
        }
      ]
    },
    {
      "cell_type": "code",
      "metadata": {
        "id": "u_9icjo824Ar"
      },
      "source": [
        "# 보기 복잡하여 데이터 프레임으로 만들어서 확인해보기\n",
        "import pandas as pd\n",
        "\n",
        "cancer = load_breast_cancer()\n",
        "df =  pd.DataFrame(cancer.data, columns=[cancer.feature_names])"
      ],
      "execution_count": null,
      "outputs": []
    },
    {
      "cell_type": "code",
      "metadata": {
        "colab": {
          "base_uri": "https://localhost:8080/",
          "height": 478
        },
        "id": "uSESqLiM3mOd",
        "outputId": "38653716-be7e-4cb8-de41-a5b83c275980"
      },
      "source": [
        "df"
      ],
      "execution_count": null,
      "outputs": [
        {
          "output_type": "execute_result",
          "data": {
            "text/html": [
              "<div>\n",
              "<style scoped>\n",
              "    .dataframe tbody tr th:only-of-type {\n",
              "        vertical-align: middle;\n",
              "    }\n",
              "\n",
              "    .dataframe tbody tr th {\n",
              "        vertical-align: top;\n",
              "    }\n",
              "\n",
              "    .dataframe thead tr th {\n",
              "        text-align: left;\n",
              "    }\n",
              "</style>\n",
              "<table border=\"1\" class=\"dataframe\">\n",
              "  <thead>\n",
              "    <tr>\n",
              "      <th></th>\n",
              "      <th>mean radius</th>\n",
              "      <th>mean texture</th>\n",
              "      <th>mean perimeter</th>\n",
              "      <th>mean area</th>\n",
              "      <th>mean smoothness</th>\n",
              "      <th>mean compactness</th>\n",
              "      <th>mean concavity</th>\n",
              "      <th>mean concave points</th>\n",
              "      <th>mean symmetry</th>\n",
              "      <th>mean fractal dimension</th>\n",
              "      <th>radius error</th>\n",
              "      <th>texture error</th>\n",
              "      <th>perimeter error</th>\n",
              "      <th>area error</th>\n",
              "      <th>smoothness error</th>\n",
              "      <th>compactness error</th>\n",
              "      <th>concavity error</th>\n",
              "      <th>concave points error</th>\n",
              "      <th>symmetry error</th>\n",
              "      <th>fractal dimension error</th>\n",
              "      <th>worst radius</th>\n",
              "      <th>worst texture</th>\n",
              "      <th>worst perimeter</th>\n",
              "      <th>worst area</th>\n",
              "      <th>worst smoothness</th>\n",
              "      <th>worst compactness</th>\n",
              "      <th>worst concavity</th>\n",
              "      <th>worst concave points</th>\n",
              "      <th>worst symmetry</th>\n",
              "      <th>worst fractal dimension</th>\n",
              "    </tr>\n",
              "  </thead>\n",
              "  <tbody>\n",
              "    <tr>\n",
              "      <th>0</th>\n",
              "      <td>17.99</td>\n",
              "      <td>10.38</td>\n",
              "      <td>122.80</td>\n",
              "      <td>1001.0</td>\n",
              "      <td>0.11840</td>\n",
              "      <td>0.27760</td>\n",
              "      <td>0.30010</td>\n",
              "      <td>0.14710</td>\n",
              "      <td>0.2419</td>\n",
              "      <td>0.07871</td>\n",
              "      <td>1.0950</td>\n",
              "      <td>0.9053</td>\n",
              "      <td>8.589</td>\n",
              "      <td>153.40</td>\n",
              "      <td>0.006399</td>\n",
              "      <td>0.04904</td>\n",
              "      <td>0.05373</td>\n",
              "      <td>0.01587</td>\n",
              "      <td>0.03003</td>\n",
              "      <td>0.006193</td>\n",
              "      <td>25.380</td>\n",
              "      <td>17.33</td>\n",
              "      <td>184.60</td>\n",
              "      <td>2019.0</td>\n",
              "      <td>0.16220</td>\n",
              "      <td>0.66560</td>\n",
              "      <td>0.7119</td>\n",
              "      <td>0.2654</td>\n",
              "      <td>0.4601</td>\n",
              "      <td>0.11890</td>\n",
              "    </tr>\n",
              "    <tr>\n",
              "      <th>1</th>\n",
              "      <td>20.57</td>\n",
              "      <td>17.77</td>\n",
              "      <td>132.90</td>\n",
              "      <td>1326.0</td>\n",
              "      <td>0.08474</td>\n",
              "      <td>0.07864</td>\n",
              "      <td>0.08690</td>\n",
              "      <td>0.07017</td>\n",
              "      <td>0.1812</td>\n",
              "      <td>0.05667</td>\n",
              "      <td>0.5435</td>\n",
              "      <td>0.7339</td>\n",
              "      <td>3.398</td>\n",
              "      <td>74.08</td>\n",
              "      <td>0.005225</td>\n",
              "      <td>0.01308</td>\n",
              "      <td>0.01860</td>\n",
              "      <td>0.01340</td>\n",
              "      <td>0.01389</td>\n",
              "      <td>0.003532</td>\n",
              "      <td>24.990</td>\n",
              "      <td>23.41</td>\n",
              "      <td>158.80</td>\n",
              "      <td>1956.0</td>\n",
              "      <td>0.12380</td>\n",
              "      <td>0.18660</td>\n",
              "      <td>0.2416</td>\n",
              "      <td>0.1860</td>\n",
              "      <td>0.2750</td>\n",
              "      <td>0.08902</td>\n",
              "    </tr>\n",
              "    <tr>\n",
              "      <th>2</th>\n",
              "      <td>19.69</td>\n",
              "      <td>21.25</td>\n",
              "      <td>130.00</td>\n",
              "      <td>1203.0</td>\n",
              "      <td>0.10960</td>\n",
              "      <td>0.15990</td>\n",
              "      <td>0.19740</td>\n",
              "      <td>0.12790</td>\n",
              "      <td>0.2069</td>\n",
              "      <td>0.05999</td>\n",
              "      <td>0.7456</td>\n",
              "      <td>0.7869</td>\n",
              "      <td>4.585</td>\n",
              "      <td>94.03</td>\n",
              "      <td>0.006150</td>\n",
              "      <td>0.04006</td>\n",
              "      <td>0.03832</td>\n",
              "      <td>0.02058</td>\n",
              "      <td>0.02250</td>\n",
              "      <td>0.004571</td>\n",
              "      <td>23.570</td>\n",
              "      <td>25.53</td>\n",
              "      <td>152.50</td>\n",
              "      <td>1709.0</td>\n",
              "      <td>0.14440</td>\n",
              "      <td>0.42450</td>\n",
              "      <td>0.4504</td>\n",
              "      <td>0.2430</td>\n",
              "      <td>0.3613</td>\n",
              "      <td>0.08758</td>\n",
              "    </tr>\n",
              "    <tr>\n",
              "      <th>3</th>\n",
              "      <td>11.42</td>\n",
              "      <td>20.38</td>\n",
              "      <td>77.58</td>\n",
              "      <td>386.1</td>\n",
              "      <td>0.14250</td>\n",
              "      <td>0.28390</td>\n",
              "      <td>0.24140</td>\n",
              "      <td>0.10520</td>\n",
              "      <td>0.2597</td>\n",
              "      <td>0.09744</td>\n",
              "      <td>0.4956</td>\n",
              "      <td>1.1560</td>\n",
              "      <td>3.445</td>\n",
              "      <td>27.23</td>\n",
              "      <td>0.009110</td>\n",
              "      <td>0.07458</td>\n",
              "      <td>0.05661</td>\n",
              "      <td>0.01867</td>\n",
              "      <td>0.05963</td>\n",
              "      <td>0.009208</td>\n",
              "      <td>14.910</td>\n",
              "      <td>26.50</td>\n",
              "      <td>98.87</td>\n",
              "      <td>567.7</td>\n",
              "      <td>0.20980</td>\n",
              "      <td>0.86630</td>\n",
              "      <td>0.6869</td>\n",
              "      <td>0.2575</td>\n",
              "      <td>0.6638</td>\n",
              "      <td>0.17300</td>\n",
              "    </tr>\n",
              "    <tr>\n",
              "      <th>4</th>\n",
              "      <td>20.29</td>\n",
              "      <td>14.34</td>\n",
              "      <td>135.10</td>\n",
              "      <td>1297.0</td>\n",
              "      <td>0.10030</td>\n",
              "      <td>0.13280</td>\n",
              "      <td>0.19800</td>\n",
              "      <td>0.10430</td>\n",
              "      <td>0.1809</td>\n",
              "      <td>0.05883</td>\n",
              "      <td>0.7572</td>\n",
              "      <td>0.7813</td>\n",
              "      <td>5.438</td>\n",
              "      <td>94.44</td>\n",
              "      <td>0.011490</td>\n",
              "      <td>0.02461</td>\n",
              "      <td>0.05688</td>\n",
              "      <td>0.01885</td>\n",
              "      <td>0.01756</td>\n",
              "      <td>0.005115</td>\n",
              "      <td>22.540</td>\n",
              "      <td>16.67</td>\n",
              "      <td>152.20</td>\n",
              "      <td>1575.0</td>\n",
              "      <td>0.13740</td>\n",
              "      <td>0.20500</td>\n",
              "      <td>0.4000</td>\n",
              "      <td>0.1625</td>\n",
              "      <td>0.2364</td>\n",
              "      <td>0.07678</td>\n",
              "    </tr>\n",
              "    <tr>\n",
              "      <th>...</th>\n",
              "      <td>...</td>\n",
              "      <td>...</td>\n",
              "      <td>...</td>\n",
              "      <td>...</td>\n",
              "      <td>...</td>\n",
              "      <td>...</td>\n",
              "      <td>...</td>\n",
              "      <td>...</td>\n",
              "      <td>...</td>\n",
              "      <td>...</td>\n",
              "      <td>...</td>\n",
              "      <td>...</td>\n",
              "      <td>...</td>\n",
              "      <td>...</td>\n",
              "      <td>...</td>\n",
              "      <td>...</td>\n",
              "      <td>...</td>\n",
              "      <td>...</td>\n",
              "      <td>...</td>\n",
              "      <td>...</td>\n",
              "      <td>...</td>\n",
              "      <td>...</td>\n",
              "      <td>...</td>\n",
              "      <td>...</td>\n",
              "      <td>...</td>\n",
              "      <td>...</td>\n",
              "      <td>...</td>\n",
              "      <td>...</td>\n",
              "      <td>...</td>\n",
              "      <td>...</td>\n",
              "    </tr>\n",
              "    <tr>\n",
              "      <th>564</th>\n",
              "      <td>21.56</td>\n",
              "      <td>22.39</td>\n",
              "      <td>142.00</td>\n",
              "      <td>1479.0</td>\n",
              "      <td>0.11100</td>\n",
              "      <td>0.11590</td>\n",
              "      <td>0.24390</td>\n",
              "      <td>0.13890</td>\n",
              "      <td>0.1726</td>\n",
              "      <td>0.05623</td>\n",
              "      <td>1.1760</td>\n",
              "      <td>1.2560</td>\n",
              "      <td>7.673</td>\n",
              "      <td>158.70</td>\n",
              "      <td>0.010300</td>\n",
              "      <td>0.02891</td>\n",
              "      <td>0.05198</td>\n",
              "      <td>0.02454</td>\n",
              "      <td>0.01114</td>\n",
              "      <td>0.004239</td>\n",
              "      <td>25.450</td>\n",
              "      <td>26.40</td>\n",
              "      <td>166.10</td>\n",
              "      <td>2027.0</td>\n",
              "      <td>0.14100</td>\n",
              "      <td>0.21130</td>\n",
              "      <td>0.4107</td>\n",
              "      <td>0.2216</td>\n",
              "      <td>0.2060</td>\n",
              "      <td>0.07115</td>\n",
              "    </tr>\n",
              "    <tr>\n",
              "      <th>565</th>\n",
              "      <td>20.13</td>\n",
              "      <td>28.25</td>\n",
              "      <td>131.20</td>\n",
              "      <td>1261.0</td>\n",
              "      <td>0.09780</td>\n",
              "      <td>0.10340</td>\n",
              "      <td>0.14400</td>\n",
              "      <td>0.09791</td>\n",
              "      <td>0.1752</td>\n",
              "      <td>0.05533</td>\n",
              "      <td>0.7655</td>\n",
              "      <td>2.4630</td>\n",
              "      <td>5.203</td>\n",
              "      <td>99.04</td>\n",
              "      <td>0.005769</td>\n",
              "      <td>0.02423</td>\n",
              "      <td>0.03950</td>\n",
              "      <td>0.01678</td>\n",
              "      <td>0.01898</td>\n",
              "      <td>0.002498</td>\n",
              "      <td>23.690</td>\n",
              "      <td>38.25</td>\n",
              "      <td>155.00</td>\n",
              "      <td>1731.0</td>\n",
              "      <td>0.11660</td>\n",
              "      <td>0.19220</td>\n",
              "      <td>0.3215</td>\n",
              "      <td>0.1628</td>\n",
              "      <td>0.2572</td>\n",
              "      <td>0.06637</td>\n",
              "    </tr>\n",
              "    <tr>\n",
              "      <th>566</th>\n",
              "      <td>16.60</td>\n",
              "      <td>28.08</td>\n",
              "      <td>108.30</td>\n",
              "      <td>858.1</td>\n",
              "      <td>0.08455</td>\n",
              "      <td>0.10230</td>\n",
              "      <td>0.09251</td>\n",
              "      <td>0.05302</td>\n",
              "      <td>0.1590</td>\n",
              "      <td>0.05648</td>\n",
              "      <td>0.4564</td>\n",
              "      <td>1.0750</td>\n",
              "      <td>3.425</td>\n",
              "      <td>48.55</td>\n",
              "      <td>0.005903</td>\n",
              "      <td>0.03731</td>\n",
              "      <td>0.04730</td>\n",
              "      <td>0.01557</td>\n",
              "      <td>0.01318</td>\n",
              "      <td>0.003892</td>\n",
              "      <td>18.980</td>\n",
              "      <td>34.12</td>\n",
              "      <td>126.70</td>\n",
              "      <td>1124.0</td>\n",
              "      <td>0.11390</td>\n",
              "      <td>0.30940</td>\n",
              "      <td>0.3403</td>\n",
              "      <td>0.1418</td>\n",
              "      <td>0.2218</td>\n",
              "      <td>0.07820</td>\n",
              "    </tr>\n",
              "    <tr>\n",
              "      <th>567</th>\n",
              "      <td>20.60</td>\n",
              "      <td>29.33</td>\n",
              "      <td>140.10</td>\n",
              "      <td>1265.0</td>\n",
              "      <td>0.11780</td>\n",
              "      <td>0.27700</td>\n",
              "      <td>0.35140</td>\n",
              "      <td>0.15200</td>\n",
              "      <td>0.2397</td>\n",
              "      <td>0.07016</td>\n",
              "      <td>0.7260</td>\n",
              "      <td>1.5950</td>\n",
              "      <td>5.772</td>\n",
              "      <td>86.22</td>\n",
              "      <td>0.006522</td>\n",
              "      <td>0.06158</td>\n",
              "      <td>0.07117</td>\n",
              "      <td>0.01664</td>\n",
              "      <td>0.02324</td>\n",
              "      <td>0.006185</td>\n",
              "      <td>25.740</td>\n",
              "      <td>39.42</td>\n",
              "      <td>184.60</td>\n",
              "      <td>1821.0</td>\n",
              "      <td>0.16500</td>\n",
              "      <td>0.86810</td>\n",
              "      <td>0.9387</td>\n",
              "      <td>0.2650</td>\n",
              "      <td>0.4087</td>\n",
              "      <td>0.12400</td>\n",
              "    </tr>\n",
              "    <tr>\n",
              "      <th>568</th>\n",
              "      <td>7.76</td>\n",
              "      <td>24.54</td>\n",
              "      <td>47.92</td>\n",
              "      <td>181.0</td>\n",
              "      <td>0.05263</td>\n",
              "      <td>0.04362</td>\n",
              "      <td>0.00000</td>\n",
              "      <td>0.00000</td>\n",
              "      <td>0.1587</td>\n",
              "      <td>0.05884</td>\n",
              "      <td>0.3857</td>\n",
              "      <td>1.4280</td>\n",
              "      <td>2.548</td>\n",
              "      <td>19.15</td>\n",
              "      <td>0.007189</td>\n",
              "      <td>0.00466</td>\n",
              "      <td>0.00000</td>\n",
              "      <td>0.00000</td>\n",
              "      <td>0.02676</td>\n",
              "      <td>0.002783</td>\n",
              "      <td>9.456</td>\n",
              "      <td>30.37</td>\n",
              "      <td>59.16</td>\n",
              "      <td>268.6</td>\n",
              "      <td>0.08996</td>\n",
              "      <td>0.06444</td>\n",
              "      <td>0.0000</td>\n",
              "      <td>0.0000</td>\n",
              "      <td>0.2871</td>\n",
              "      <td>0.07039</td>\n",
              "    </tr>\n",
              "  </tbody>\n",
              "</table>\n",
              "<p>569 rows × 30 columns</p>\n",
              "</div>"
            ],
            "text/plain": [
              "    mean radius mean texture  ... worst symmetry worst fractal dimension\n",
              "0         17.99        10.38  ...         0.4601                 0.11890\n",
              "1         20.57        17.77  ...         0.2750                 0.08902\n",
              "2         19.69        21.25  ...         0.3613                 0.08758\n",
              "3         11.42        20.38  ...         0.6638                 0.17300\n",
              "4         20.29        14.34  ...         0.2364                 0.07678\n",
              "..          ...          ...  ...            ...                     ...\n",
              "564       21.56        22.39  ...         0.2060                 0.07115\n",
              "565       20.13        28.25  ...         0.2572                 0.06637\n",
              "566       16.60        28.08  ...         0.2218                 0.07820\n",
              "567       20.60        29.33  ...         0.4087                 0.12400\n",
              "568        7.76        24.54  ...         0.2871                 0.07039\n",
              "\n",
              "[569 rows x 30 columns]"
            ]
          },
          "metadata": {},
          "execution_count": 25
        }
      ]
    },
    {
      "cell_type": "code",
      "metadata": {
        "id": "AN7o5nIZ3z8D"
      },
      "source": [
        "# Train 데이터 세트와 Test 데이터 세트를 구성한다\n",
        "trainX, testX, trainY, testY = \\\n",
        "    train_test_split(cancer['data'], cancer['target'], test_size = 0.2)"
      ],
      "execution_count": null,
      "outputs": []
    },
    {
      "cell_type": "code",
      "metadata": {
        "colab": {
          "base_uri": "https://localhost:8080/"
        },
        "id": "9XxaA4QA4q3A",
        "outputId": "11851247-2a23-46b7-b28f-d49186d35a92"
      },
      "source": [
        "# KNN 으로 Train 데이터 세트를 학습한다.\n",
        "knn = KNeighborsClassifier(n_neighbors=5, p=2, metric='minkowski')\n",
        "knn.fit(trainX, trainY)"
      ],
      "execution_count": null,
      "outputs": [
        {
          "output_type": "execute_result",
          "data": {
            "text/plain": [
              "KNeighborsClassifier()"
            ]
          },
          "metadata": {},
          "execution_count": 36
        }
      ]
    },
    {
      "cell_type": "code",
      "metadata": {
        "colab": {
          "base_uri": "https://localhost:8080/"
        },
        "id": "Nm4Qg5HA4r2m",
        "outputId": "58d5acb3-c602-4b8b-87d2-f1d04d2c41e0"
      },
      "source": [
        "# Test 세트의 Feature에 대한 class를 추정하고, 정확도를 계산한다\n",
        "# accuracy = knn.score(testX, testY)와 동일함.\n",
        "predY = knn.predict(testX)\n",
        "accuracy = (testY == predY).mean()\n",
        "print(\"* 시험용 데이터로 측정한 정확도 = %.2f\" % accuracy)\n",
        "print()\n",
        "\n",
        "\n",
        "# Train 세트의 Feature에 대한 class를 추정하고, 정확도를 계산한다\n",
        "predY = knn.predict(trainX)\n",
        "accuracy = (trainY == predY).mean()\n",
        "print(\"* 학습용 데이터로 측정한 정확도 = %.2f\" % accuracy)"
      ],
      "execution_count": null,
      "outputs": [
        {
          "output_type": "stream",
          "name": "stdout",
          "text": [
            "* 시험용 데이터로 측정한 정확도 = 0.94\n",
            "\n",
            "* 학습용 데이터로 측정한 정확도 = 0.95\n"
          ]
        }
      ]
    },
    {
      "cell_type": "code",
      "metadata": {
        "colab": {
          "base_uri": "https://localhost:8080/"
        },
        "id": "VPZNZhZM472d",
        "outputId": "dfb9e37b-e86b-4b73-d62b-f32826e4ae57"
      },
      "source": [
        "# k를 변화시켜가면서 정확도를 측정해 본다\n",
        "testAcc = []\n",
        "trainAcc = []\n",
        "for k in range(1, 50):\n",
        "    # KNN 으로 Train 데이터 세트를 학습한다.\n",
        "    knn = KNeighborsClassifier(n_neighbors=k, p=2, metric='minkowski')\n",
        "    knn.fit(trainX, trainY)\n",
        "    \n",
        "    # Test 세트의 Feature에 대한 정확도\n",
        "    predY = knn.predict(testX)\n",
        "    testAcc.append((testY == predY).sum() / len(predY))\n",
        "    \n",
        "    # Train 세트의 Feature에 대한 정확도\n",
        "    predY = knn.predict(trainX)\n",
        "    trainAcc.append((trainY == predY).sum() / len(predY))\n",
        "print(testAcc)\n",
        "print()\n",
        "print(trainAcc)"
      ],
      "execution_count": null,
      "outputs": [
        {
          "output_type": "stream",
          "name": "stdout",
          "text": [
            "[0.9035087719298246, 0.9035087719298246, 0.9210526315789473, 0.9035087719298246, 0.9385964912280702, 0.9298245614035088, 0.9385964912280702, 0.9385964912280702, 0.9473684210526315, 0.9385964912280702, 0.9473684210526315, 0.9473684210526315, 0.9473684210526315, 0.9473684210526315, 0.9385964912280702, 0.9298245614035088, 0.9385964912280702, 0.9473684210526315, 0.9385964912280702, 0.9473684210526315, 0.9473684210526315, 0.9473684210526315, 0.9298245614035088, 0.9298245614035088, 0.9298245614035088, 0.9385964912280702, 0.9298245614035088, 0.9298245614035088, 0.9298245614035088, 0.9298245614035088, 0.9298245614035088, 0.9298245614035088, 0.9385964912280702, 0.9298245614035088, 0.9298245614035088, 0.9298245614035088, 0.9298245614035088, 0.9298245614035088, 0.9298245614035088, 0.9298245614035088, 0.9298245614035088, 0.9122807017543859, 0.9210526315789473, 0.9210526315789473, 0.9210526315789473, 0.9210526315789473, 0.9210526315789473, 0.9298245614035088, 0.9298245614035088]\n",
            "\n",
            "[1.0, 0.9692307692307692, 0.9582417582417583, 0.9560439560439561, 0.9494505494505494, 0.945054945054945, 0.9428571428571428, 0.945054945054945, 0.9428571428571428, 0.9428571428571428, 0.9384615384615385, 0.9406593406593406, 0.9406593406593406, 0.9406593406593406, 0.9406593406593406, 0.9428571428571428, 0.9340659340659341, 0.9340659340659341, 0.9296703296703297, 0.9296703296703297, 0.9274725274725275, 0.9296703296703297, 0.9318681318681319, 0.9318681318681319, 0.9274725274725275, 0.9318681318681319, 0.9252747252747253, 0.9252747252747253, 0.9252747252747253, 0.9252747252747253, 0.9252747252747253, 0.9252747252747253, 0.9252747252747253, 0.9252747252747253, 0.9252747252747253, 0.9252747252747253, 0.9252747252747253, 0.9230769230769231, 0.9230769230769231, 0.9230769230769231, 0.9208791208791208, 0.9208791208791208, 0.9186813186813186, 0.9208791208791208, 0.9208791208791208, 0.9208791208791208, 0.9208791208791208, 0.9208791208791208, 0.9186813186813186]\n"
          ]
        }
      ]
    },
    {
      "cell_type": "code",
      "metadata": {
        "colab": {
          "base_uri": "https://localhost:8080/",
          "height": 334
        },
        "id": "oF8w8CK-5JSV",
        "outputId": "2e43d66e-7810-4bdc-9854-4d6d3f455f29"
      },
      "source": [
        "# 그래프로 확인해본다. \n",
        "plt.figure(figsize=(8, 5))\n",
        "plt.plot(testAcc, label=\"Test Data\")\n",
        "plt.plot(trainAcc, label=\"Train Data\")\n",
        "plt.legend()\n",
        "plt.xlabel(\"k\")\n",
        "plt.ylabel(\"Accuracy\")\n",
        "plt.show()\n"
      ],
      "execution_count": null,
      "outputs": [
        {
          "output_type": "display_data",
          "data": {
            "image/png": "[encoded data removed]",
            "text/plain": [
              "<Figure size 576x360 with 1 Axes>"
            ]
          },
          "metadata": {
            "needs_background": "light"
          }
        }
      ]
    },
    {
      "cell_type": "markdown",
      "metadata": {
        "id": "bB2fNeVR5wm-"
      },
      "source": [
        "![스크린샷 2021-12-07 오후 12.19.08.png](data:image/png;base64,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)"
      ]
    },
    {
      "cell_type": "code",
      "metadata": {
        "colab": {
          "base_uri": "https://localhost:8080/",
          "height": 265
        },
        "id": "IW1RwL9V5imT",
        "outputId": "873830fd-c5c1-435f-81ee-cec6332dfc5a"
      },
      "source": [
        "# 학습 데이터 1개의 column(feature)별 분포를 확인한다.\n",
        "plt.bar(np.arange(30), cancer['data'][0])\n",
        "plt.show()"
      ],
      "execution_count": null,
      "outputs": [
        {
          "output_type": "display_data",
          "data": {
            "image/png": "[encoded data removed]",
            "text/plain": [
              "<Figure size 432x288 with 1 Axes>"
            ]
          },
          "metadata": {
            "needs_background": "light"
          }
        }
      ]
    }
  ]
}
