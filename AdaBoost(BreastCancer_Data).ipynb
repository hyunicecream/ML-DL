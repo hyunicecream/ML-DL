{
  "nbformat": 4,
  "nbformat_minor": 0,
  "metadata": {
    "colab": {
      "name": "AdaBoost(BreastCancer_Data).ipynb",
      "provenance": [],
      "collapsed_sections": [],
      "authorship_tag": "ABX9TyMggS1ws2nlxR/Q2FScbraK",
      "include_colab_link": true
    },
    "kernelspec": {
      "name": "python3",
      "display_name": "Python 3"
    },
    "language_info": {
      "name": "python"
    }
  },
  "cells": [
    {
      "cell_type": "markdown",
      "metadata": {
        "id": "view-in-github",
        "colab_type": "text"
      },
      "source": [
        "<a href=\"https://colab.research.google.com/github/hyunicecream/ML-DL/blob/main/AdaBoost(BreastCancer_Data).ipynb\" target=\"_parent\"><img src=\"https://colab.research.google.com/assets/colab-badge.svg\" alt=\"Open In Colab\"/></a>"
      ]
    },
    {
      "cell_type": "code",
      "execution_count": null,
      "metadata": {
        "id": "Px94CEUQX4k7"
      },
      "outputs": [],
      "source": [
        "from sklearn.datasets import load_breast_cancer\n",
        "from sklearn.model_selection import train_test_split\n",
        "from sklearn.svm import SVC\n",
        "from sklearn.ensemble import AdaBoostClassifier\n",
        "from sklearn.metrics import confusion_matrix\n",
        "from sklearn.metrics import classification_report\n",
        "from sklearn.preprocessing import StandardScaler"
      ]
    },
    {
      "cell_type": "code",
      "source": [
        "# 데이터 불러오기\n",
        "cancer = load_breast_cancer()"
      ],
      "metadata": {
        "id": "JKeLkzblYfoz"
      },
      "execution_count": null,
      "outputs": []
    },
    {
      "cell_type": "code",
      "source": [
        "# 표준화 시키기\n",
        "feature_data = StandardScaler().fit_transform(cancer.data)"
      ],
      "metadata": {
        "id": "Y_92ROfBYpM5"
      },
      "execution_count": null,
      "outputs": []
    },
    {
      "cell_type": "code",
      "source": [
        "# train, test 셋 구성\n",
        "trainX, testX, trainY, testY = train_test_split(feature_data, cancer.target, test_size= 0.2)"
      ],
      "metadata": {
        "id": "rl489c6IZgoS"
      },
      "execution_count": null,
      "outputs": []
    },
    {
      "cell_type": "code",
      "source": [
        "# SVM으로 학습\n",
        "svm = SVC(kernel='rbf', gamma='scale', C=1.0, probability=True)\n",
        "aboost = AdaBoostClassifier(base_estimator=svm, n_estimators=50)\n",
        "aboost.fit(trainX, trainY)"
      ],
      "metadata": {
        "colab": {
          "base_uri": "https://localhost:8080/"
        },
        "id": "pfMy4tW1ZtdH",
        "outputId": "c660dcec-d83a-464d-90f1-2d440fa758f0"
      },
      "execution_count": null,
      "outputs": [
        {
          "output_type": "execute_result",
          "data": {
            "text/plain": [
              "AdaBoostClassifier(base_estimator=SVC(probability=True))"
            ]
          },
          "metadata": {},
          "execution_count": 39
        }
      ]
    },
    {
      "cell_type": "code",
      "source": [
        "PredY = aboost.predict(testX)\n",
        "print('\\n학습데이터의 정확도 = %.2f' % aboost.score(trainX, trainY))\n",
        "print(\"시험 데이터의 정확도 : %.2f\" % aboost.score(testX, testY))\n",
        "print('\\nConfusion matrix :')\n",
        "print(confusion_matrix(testY, PredY))\n",
        "print()\n",
        "print(classification_report(testY, PredY, target_names=cancer.target_names))"
      ],
      "metadata": {
        "colab": {
          "base_uri": "https://localhost:8080/"
        },
        "id": "YQPGvhbvZz5S",
        "outputId": "ad490dc9-9656-4164-ab3a-51dab883da09"
      },
      "execution_count": null,
      "outputs": [
        {
          "output_type": "stream",
          "name": "stdout",
          "text": [
            "\n",
            "학습데이터의 정확도 = 1.00\n",
            "시험 데이터의 정확도 : 0.99\n",
            "\n",
            "Confusion matrix :\n",
            "[[44  1]\n",
            " [ 0 69]]\n",
            "\n",
            "              precision    recall  f1-score   support\n",
            "\n",
            "   malignant       1.00      0.98      0.99        45\n",
            "      benign       0.99      1.00      0.99        69\n",
            "\n",
            "    accuracy                           0.99       114\n",
            "   macro avg       0.99      0.99      0.99       114\n",
            "weighted avg       0.99      0.99      0.99       114\n",
            "\n"
          ]
        }
      ]
    },
    {
      "cell_type": "code",
      "source": [
        "# 궁금하다 그렇다면 Dt로 학습도 해보자\n",
        "from sklearn.tree import DecisionTreeClassifier\n",
        "\n",
        "dtree = DecisionTreeClassifier(criterion='gini', max_depth=8)\n",
        "aboost = AdaBoostClassifier(base_estimator=dtree, n_estimators=50)\n",
        "aboost.fit(trainX, trainY)"
      ],
      "metadata": {
        "colab": {
          "base_uri": "https://localhost:8080/"
        },
        "id": "qk09OTb4acB5",
        "outputId": "c096462f-9832-42eb-85a3-80614e475c46"
      },
      "execution_count": null,
      "outputs": [
        {
          "output_type": "execute_result",
          "data": {
            "text/plain": [
              "AdaBoostClassifier(base_estimator=DecisionTreeClassifier(max_depth=8))"
            ]
          },
          "metadata": {},
          "execution_count": 41
        }
      ]
    },
    {
      "cell_type": "code",
      "source": [
        "PredY = aboost.predict(testX)\n",
        "print('\\n학습데이터의 정확도 = %.2f' % aboost.score(trainX, trainY))\n",
        "print(\"시험 데이터의 정확도 : %.2f\" % aboost.score(testX, testY))\n",
        "print('\\nConfusion matrix :')\n",
        "print(confusion_matrix(testY, PredY))\n",
        "print()\n",
        "print(classification_report(testY, PredY, target_names=cancer.target_names))"
      ],
      "metadata": {
        "colab": {
          "base_uri": "https://localhost:8080/"
        },
        "id": "a2uWVb7Aa6Zn",
        "outputId": "83589a9f-c6da-4988-8a6c-5f637426e33d"
      },
      "execution_count": null,
      "outputs": [
        {
          "output_type": "stream",
          "name": "stdout",
          "text": [
            "\n",
            "학습데이터의 정확도 = 1.00\n",
            "시험 데이터의 정확도 : 0.92\n",
            "\n",
            "Confusion matrix :\n",
            "[[36  9]\n",
            " [ 0 69]]\n",
            "\n",
            "              precision    recall  f1-score   support\n",
            "\n",
            "   malignant       1.00      0.80      0.89        45\n",
            "      benign       0.88      1.00      0.94        69\n",
            "\n",
            "    accuracy                           0.92       114\n",
            "   macro avg       0.94      0.90      0.91       114\n",
            "weighted avg       0.93      0.92      0.92       114\n",
            "\n"
          ]
        }
      ]
    }
  ]
}