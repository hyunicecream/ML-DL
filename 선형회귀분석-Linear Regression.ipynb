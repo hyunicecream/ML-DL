{
  "nbformat": 4,
  "nbformat_minor": 0,
  "metadata": {
    "colab": {
      "name": "선형회귀분석:Linear_Regression.ipynb",
      "provenance": [],
      "collapsed_sections": [],
      "authorship_tag": "ABX9TyNqCdw+TK6Mx0KoK/15WWzh",
      "include_colab_link": true
    },
    "kernelspec": {
      "name": "python3",
      "display_name": "Python 3"
    },
    "language_info": {
      "name": "python"
    }
  },
  "cells": [
    {
      "cell_type": "markdown",
      "metadata": {
        "id": "view-in-github",
        "colab_type": "text"
      },
      "source": [
        "<a href=\"https://colab.research.google.com/github/hyunicecream/ML-DL/blob/main/%EC%84%A0%ED%98%95%ED%9A%8C%EA%B7%80%EB%B6%84%EC%84%9D-Linear%20Regression.ipynb\" target=\"_parent\"><img src=\"https://colab.research.google.com/assets/colab-badge.svg\" alt=\"Open In Colab\"/></a>"
      ]
    },
    {
      "cell_type": "markdown",
      "source": [
        "***선형 회귀분석 : Linear Regression***\n",
        "\n",
        "-  y = 0.1x + 0.3 + e 함수식으로 임의의 데이터 (x, y)를 생성한 후 linear regression (OLS)으로 회귀직선을 찾고 추정오류를 측정한다."
      ],
      "metadata": {
        "id": "GS8D9LJ5wY7M"
      }
    },
    {
      "cell_type": "code",
      "execution_count": null,
      "metadata": {
        "id": "G_MhcKH5vHut"
      },
      "outputs": [],
      "source": [
        "import numpy as np\n",
        "import matplotlib.pyplot as plt\n",
        "from sklearn.linear_model import LinearRegression"
      ]
    },
    {
      "cell_type": "code",
      "source": [
        "# 샘플 데이터 1,000개를 생성한다 # y = ax + b + e\n",
        "def createData(a, b, n):\n",
        "  resultX = []\n",
        "  resultY = []\n",
        "  for i in range(n):\n",
        "    x = np.random.normal(0.0, 0.5)\n",
        "    y = a * x + b + np.random.normal(0.0, 0.05)\n",
        "    resultX.append(x)\n",
        "    resultY.append(y)\n",
        "  return np.array(resultX).reshape(-1,1), np.array(resultY).reshape(-1,1)"
      ],
      "metadata": {
        "id": "Z_2KqjgEvZPR"
      },
      "execution_count": null,
      "outputs": []
    },
    {
      "cell_type": "markdown",
      "source": [
        ""
      ],
      "metadata": {
        "id": "-9vKfvSPwUS1"
      }
    },
    {
      "cell_type": "code",
      "source": [
        "# Train 데이터 세트와 Test 데이터 세트를 구성한다\n",
        "X, Y = createData(0.1, 0.3, 1000) # y = 0.1x + 0.3 + e"
      ],
      "metadata": {
        "id": "c_T-3xrNvfkK"
      },
      "execution_count": null,
      "outputs": []
    },
    {
      "cell_type": "code",
      "source": [
        "# Logistic Regression으로 Train 데이터 세트를 학습한다. \n",
        "model = LinearRegression()\n",
        "model.fit(X, Y)"
      ],
      "metadata": {
        "colab": {
          "base_uri": "https://localhost:8080/"
        },
        "id": "hsWzCysyv3U6",
        "outputId": "d79340c5-648b-48bd-ef6e-fc4e7d792e1b"
      },
      "execution_count": null,
      "outputs": [
        {
          "output_type": "execute_result",
          "data": {
            "text/plain": [
              "LinearRegression()"
            ]
          },
          "metadata": {},
          "execution_count": 6
        }
      ]
    },
    {
      "cell_type": "code",
      "source": [
        "# 결과를 확인한다\n",
        "a = model.coef_[0][0]\n",
        "b = model.intercept_[0]\n",
        "print(\"\\n* 회귀직선의 방정식 (OLS) : y = %.4f * x + %.4f\" % (a, b)) \n",
        "yHat = model.predict(X)"
      ],
      "metadata": {
        "colab": {
          "base_uri": "https://localhost:8080/"
        },
        "id": "iPOe3EWdv5Ey",
        "outputId": "882194e4-3e2b-4481-9e4b-f150e3664821"
      },
      "execution_count": null,
      "outputs": [
        {
          "output_type": "stream",
          "name": "stdout",
          "text": [
            "\n",
            "* 회귀직선의 방정식 (OLS) : y = 0.1029 * x + 0.2995\n"
          ]
        }
      ]
    },
    {
      "cell_type": "code",
      "source": [
        "fig = plt.figure(figsize=(7, 6)) \n",
        "plt.plot(X, Y, 'ro', markersize=1.5) \n",
        "plt.plot(X, yHat)\n",
        "plt.show()"
      ],
      "metadata": {
        "colab": {
          "base_uri": "https://localhost:8080/",
          "height": 374
        },
        "id": "OmCRTbz4v-wz",
        "outputId": "2da62182-0e93-4d8c-afad-39caf1e0d715"
      },
      "execution_count": null,
      "outputs": [
        {
          "output_type": "display_data",
          "data": {
            "image/png": "[encoded data removed]",
            "text/plain": [
              "<Figure size 504x432 with 1 Axes>"
            ]
          },
          "metadata": {
            "needs_background": "light"
          }
        }
      ]
    },
    {
      "cell_type": "code",
      "source": [
        "# 시험 데이터 전체의 오류를 R-square로 표시한다.\n",
        "print('\\n시험 데이터 전체 오류 (R2-score) = %.4f' % model.score(X, Y))"
      ],
      "metadata": {
        "colab": {
          "base_uri": "https://localhost:8080/"
        },
        "id": "SpuJpVEiwHu9",
        "outputId": "dc8c6150-dc48-4ba0-e615-e804f57c4013"
      },
      "execution_count": null,
      "outputs": [
        {
          "output_type": "stream",
          "name": "stdout",
          "text": [
            "\n",
            "시험 데이터 전체 오류 (R2-score) = 0.5232\n"
          ]
        }
      ]
    },
    {
      "cell_type": "code",
      "source": [
        "# R-square를 manual로 계산하고, model.score() 결과와 비교한다. # SSE : explained sum of square\n",
        "# SSR : residual sum of square (not explained)\n",
        "# SST : total sum of square\n",
        "# R-square : SSE / SST or 1 - (SSR / SST)\n",
        "ssr = np.sum(np.square(yHat - Y)) \n",
        "sst = np.sum(np.square(Y - Y.mean())) \n",
        "R2 = 1 - ssr / sst\n",
        "print('R-square = %.4f' % R2)"
      ],
      "metadata": {
        "colab": {
          "base_uri": "https://localhost:8080/"
        },
        "id": "EC0u-LOJwLd3",
        "outputId": "01cb597d-dde0-4ec1-c2ea-7b8575f38b53"
      },
      "execution_count": null,
      "outputs": [
        {
          "output_type": "stream",
          "name": "stdout",
          "text": [
            "R-square = 0.5232\n"
          ]
        }
      ]
    }
  ]
}