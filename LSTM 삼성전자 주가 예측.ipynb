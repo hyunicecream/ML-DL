{
  "nbformat": 4,
  "nbformat_minor": 0,
  "metadata": {
    "colab": {
      "name": "LSTM-삼성전자 주가 예측.ipynb",
      "provenance": [],
      "collapsed_sections": [],
      "mount_file_id": "1ZQ7zf5_RtJ_nNBaqRFQYr46_iQIxwPa-",
      "authorship_tag": "ABX9TyMEVRjimQLQa+TvMiO7uhBy",
      "include_colab_link": true
    },
    "kernelspec": {
      "name": "python3",
      "display_name": "Python 3"
    },
    "language_info": {
      "name": "python"
    }
  },
  "cells": [
    {
      "cell_type": "markdown",
      "metadata": {
        "id": "view-in-github",
        "colab_type": "text"
      },
      "source": [
        "<a href=\"https://colab.research.google.com/github/hyunicecream/ML-DL/blob/main/LSTM%20%EC%82%BC%EC%84%B1%EC%A0%84%EC%9E%90%20%EC%A3%BC%EA%B0%80%20%EC%98%88%EC%B8%A1.ipynb\" target=\"_parent\"><img src=\"https://colab.research.google.com/assets/colab-badge.svg\" alt=\"Open In Colab\"/></a>"
      ]
    },
    {
      "cell_type": "code",
      "execution_count": null,
      "metadata": {
        "id": "uB95sP8Xmw7n"
      },
      "outputs": [],
      "source": [
        "import pandas as pd\n",
        "import numpy as np\n",
        "import matplotlib.pyplot as plt\n",
        "from tensorflow.keras.layers import Dense, Input, LSTM\n",
        "from tensorflow.keras.models import Model\n",
        "from tensorflow.keras.optimizers import Adam"
      ]
    },
    {
      "cell_type": "code",
      "source": [
        "data = pd.read_csv('삼성전자.csv')\n",
        "data.head()"
      ],
      "metadata": {
        "colab": {
          "base_uri": "https://localhost:8080/",
          "height": 357
        },
        "id": "BEEYYARRnP8x",
        "outputId": "2a005d53-23b9-40d6-87bf-683ac6b2b13a"
      },
      "execution_count": null,
      "outputs": [
        {
          "output_type": "stream",
          "name": "stdout",
          "text": [
            "/content/drive/MyDrive/Private_room/data\n"
          ]
        },
        {
          "output_type": "execute_result",
          "data": {
            "text/html": [
              "\n",
              "  <div id=\"df-406abb13-4f4c-49a6-9de8-953a4563accf\">\n",
              "    <div class=\"colab-df-container\">\n",
              "      <div>\n",
              "<style scoped>\n",
              "    .dataframe tbody tr th:only-of-type {\n",
              "        vertical-align: middle;\n",
              "    }\n",
              "\n",
              "    .dataframe tbody tr th {\n",
              "        vertical-align: top;\n",
              "    }\n",
              "\n",
              "    .dataframe thead th {\n",
              "        text-align: right;\n",
              "    }\n",
              "</style>\n",
              "<table border=\"1\" class=\"dataframe\">\n",
              "  <thead>\n",
              "    <tr style=\"text-align: right;\">\n",
              "      <th></th>\n",
              "      <th>날짜</th>\n",
              "      <th>종가</th>\n",
              "      <th>전일비</th>\n",
              "      <th>등락율</th>\n",
              "      <th>거래량</th>\n",
              "      <th>개인</th>\n",
              "      <th>기관</th>\n",
              "      <th>외국인</th>\n",
              "      <th>금융투자</th>\n",
              "      <th>보험</th>\n",
              "      <th>투신</th>\n",
              "      <th>은행</th>\n",
              "      <th>기타금융</th>\n",
              "      <th>연기금</th>\n",
              "      <th>사모펀드</th>\n",
              "      <th>국가지자체</th>\n",
              "      <th>기타법인</th>\n",
              "      <th>기타외국인</th>\n",
              "      <th>개인누적</th>\n",
              "      <th>기관누적</th>\n",
              "      <th>외국인누적</th>\n",
              "      <th>금투누적</th>\n",
              "      <th>투신누적</th>\n",
              "      <th>연기금누적</th>\n",
              "    </tr>\n",
              "  </thead>\n",
              "  <tbody>\n",
              "    <tr>\n",
              "      <th>0</th>\n",
              "      <td>2020.6.1</td>\n",
              "      <td>51200</td>\n",
              "      <td>500</td>\n",
              "      <td>NaN</td>\n",
              "      <td>16289568</td>\n",
              "      <td>-1859511</td>\n",
              "      <td>2104912</td>\n",
              "      <td>-39405</td>\n",
              "      <td>795040</td>\n",
              "      <td>274522</td>\n",
              "      <td>93773</td>\n",
              "      <td>17922</td>\n",
              "      <td>-34554</td>\n",
              "      <td>921107</td>\n",
              "      <td>37102</td>\n",
              "      <td>0</td>\n",
              "      <td>-190526</td>\n",
              "      <td>-15470</td>\n",
              "      <td>-1859511</td>\n",
              "      <td>2104912</td>\n",
              "      <td>-39405</td>\n",
              "      <td>795040</td>\n",
              "      <td>93773</td>\n",
              "      <td>921107</td>\n",
              "    </tr>\n",
              "    <tr>\n",
              "      <th>1</th>\n",
              "      <td>2020.6.2</td>\n",
              "      <td>51400</td>\n",
              "      <td>200</td>\n",
              "      <td>0.003906</td>\n",
              "      <td>13764485</td>\n",
              "      <td>-560690</td>\n",
              "      <td>873157</td>\n",
              "      <td>-357253</td>\n",
              "      <td>81149</td>\n",
              "      <td>568419</td>\n",
              "      <td>48140</td>\n",
              "      <td>7572</td>\n",
              "      <td>-1260</td>\n",
              "      <td>108237</td>\n",
              "      <td>60900</td>\n",
              "      <td>0</td>\n",
              "      <td>24180</td>\n",
              "      <td>20606</td>\n",
              "      <td>-2420201</td>\n",
              "      <td>2978069</td>\n",
              "      <td>-396658</td>\n",
              "      <td>876189</td>\n",
              "      <td>141913</td>\n",
              "      <td>1029344</td>\n",
              "    </tr>\n",
              "    <tr>\n",
              "      <th>2</th>\n",
              "      <td>2020.6.3</td>\n",
              "      <td>54500</td>\n",
              "      <td>3100</td>\n",
              "      <td>0.060311</td>\n",
              "      <td>48817627</td>\n",
              "      <td>-12644642</td>\n",
              "      <td>9757786</td>\n",
              "      <td>3271861</td>\n",
              "      <td>6464027</td>\n",
              "      <td>1568929</td>\n",
              "      <td>1297994</td>\n",
              "      <td>-54218</td>\n",
              "      <td>-28639</td>\n",
              "      <td>42381</td>\n",
              "      <td>467312</td>\n",
              "      <td>0</td>\n",
              "      <td>-354941</td>\n",
              "      <td>-30064</td>\n",
              "      <td>-15064843</td>\n",
              "      <td>12735855</td>\n",
              "      <td>2875203</td>\n",
              "      <td>7340216</td>\n",
              "      <td>1439907</td>\n",
              "      <td>1071725</td>\n",
              "    </tr>\n",
              "    <tr>\n",
              "      <th>3</th>\n",
              "      <td>2020.6.4</td>\n",
              "      <td>54600</td>\n",
              "      <td>100</td>\n",
              "      <td>0.001835</td>\n",
              "      <td>40088343</td>\n",
              "      <td>-3179569</td>\n",
              "      <td>1604890</td>\n",
              "      <td>1678893</td>\n",
              "      <td>2894351</td>\n",
              "      <td>-297073</td>\n",
              "      <td>279363</td>\n",
              "      <td>-9337</td>\n",
              "      <td>28892</td>\n",
              "      <td>-1572203</td>\n",
              "      <td>280897</td>\n",
              "      <td>0</td>\n",
              "      <td>-70151</td>\n",
              "      <td>-34063</td>\n",
              "      <td>-18244412</td>\n",
              "      <td>14340745</td>\n",
              "      <td>4554096</td>\n",
              "      <td>10234567</td>\n",
              "      <td>1719270</td>\n",
              "      <td>-500478</td>\n",
              "    </tr>\n",
              "    <tr>\n",
              "      <th>4</th>\n",
              "      <td>2020.6.5</td>\n",
              "      <td>55500</td>\n",
              "      <td>900</td>\n",
              "      <td>0.016484</td>\n",
              "      <td>22402378</td>\n",
              "      <td>-2638431</td>\n",
              "      <td>2869587</td>\n",
              "      <td>-184385</td>\n",
              "      <td>2291970</td>\n",
              "      <td>108763</td>\n",
              "      <td>1044160</td>\n",
              "      <td>6651</td>\n",
              "      <td>-18200</td>\n",
              "      <td>-525779</td>\n",
              "      <td>-37978</td>\n",
              "      <td>0</td>\n",
              "      <td>-25417</td>\n",
              "      <td>-21354</td>\n",
              "      <td>-20882843</td>\n",
              "      <td>17210332</td>\n",
              "      <td>4369711</td>\n",
              "      <td>12526537</td>\n",
              "      <td>2763430</td>\n",
              "      <td>-1026257</td>\n",
              "    </tr>\n",
              "  </tbody>\n",
              "</table>\n",
              "</div>\n",
              "      <button class=\"colab-df-convert\" onclick=\"convertToInteractive('df-406abb13-4f4c-49a6-9de8-953a4563accf')\"\n",
              "              title=\"Convert this dataframe to an interactive table.\"\n",
              "              style=\"display:none;\">\n",
              "        \n",
              "  <svg xmlns=\"http://www.w3.org/2000/svg\" height=\"24px\"viewBox=\"0 0 24 24\"\n",
              "       width=\"24px\">\n",
              "    <path d=\"M0 0h24v24H0V0z\" fill=\"none\"/>\n",
              "    <path d=\"M18.56 5.44l.94 2.06.94-2.06 2.06-.94-2.06-.94-.94-2.06-.94 2.06-2.06.94zm-11 1L8.5 8.5l.94-2.06 2.06-.94-2.06-.94L8.5 2.5l-.94 2.06-2.06.94zm10 10l.94 2.06.94-2.06 2.06-.94-2.06-.94-.94-2.06-.94 2.06-2.06.94z\"/><path d=\"M17.41 7.96l-1.37-1.37c-.4-.4-.92-.59-1.43-.59-.52 0-1.04.2-1.43.59L10.3 9.45l-7.72 7.72c-.78.78-.78 2.05 0 2.83L4 21.41c.39.39.9.59 1.41.59.51 0 1.02-.2 1.41-.59l7.78-7.78 2.81-2.81c.8-.78.8-2.07 0-2.86zM5.41 20L4 18.59l7.72-7.72 1.47 1.35L5.41 20z\"/>\n",
              "  </svg>\n",
              "      </button>\n",
              "      \n",
              "  <style>\n",
              "    .colab-df-container {\n",
              "      display:flex;\n",
              "      flex-wrap:wrap;\n",
              "      gap: 12px;\n",
              "    }\n",
              "\n",
              "    .colab-df-convert {\n",
              "      background-color: #E8F0FE;\n",
              "      border: none;\n",
              "      border-radius: 50%;\n",
              "      cursor: pointer;\n",
              "      display: none;\n",
              "      fill: #1967D2;\n",
              "      height: 32px;\n",
              "      padding: 0 0 0 0;\n",
              "      width: 32px;\n",
              "    }\n",
              "\n",
              "    .colab-df-convert:hover {\n",
              "      background-color: #E2EBFA;\n",
              "      box-shadow: 0px 1px 2px rgba(60, 64, 67, 0.3), 0px 1px 3px 1px rgba(60, 64, 67, 0.15);\n",
              "      fill: #174EA6;\n",
              "    }\n",
              "\n",
              "    [theme=dark] .colab-df-convert {\n",
              "      background-color: #3B4455;\n",
              "      fill: #D2E3FC;\n",
              "    }\n",
              "\n",
              "    [theme=dark] .colab-df-convert:hover {\n",
              "      background-color: #434B5C;\n",
              "      box-shadow: 0px 1px 3px 1px rgba(0, 0, 0, 0.15);\n",
              "      filter: drop-shadow(0px 1px 2px rgba(0, 0, 0, 0.3));\n",
              "      fill: #FFFFFF;\n",
              "    }\n",
              "  </style>\n",
              "\n",
              "      <script>\n",
              "        const buttonEl =\n",
              "          document.querySelector('#df-406abb13-4f4c-49a6-9de8-953a4563accf button.colab-df-convert');\n",
              "        buttonEl.style.display =\n",
              "          google.colab.kernel.accessAllowed ? 'block' : 'none';\n",
              "\n",
              "        async function convertToInteractive(key) {\n",
              "          const element = document.querySelector('#df-406abb13-4f4c-49a6-9de8-953a4563accf');\n",
              "          const dataTable =\n",
              "            await google.colab.kernel.invokeFunction('convertToInteractive',\n",
              "                                                     [key], {});\n",
              "          if (!dataTable) return;\n",
              "\n",
              "          const docLinkHtml = 'Like what you see? Visit the ' +\n",
              "            '<a target=\"_blank\" href=https://colab.research.google.com/notebooks/data_table.ipynb>data table notebook</a>'\n",
              "            + ' to learn more about interactive tables.';\n",
              "          element.innerHTML = '';\n",
              "          dataTable['output_type'] = 'display_data';\n",
              "          await google.colab.output.renderOutput(dataTable, element);\n",
              "          const docLink = document.createElement('div');\n",
              "          docLink.innerHTML = docLinkHtml;\n",
              "          element.appendChild(docLink);\n",
              "        }\n",
              "      </script>\n",
              "    </div>\n",
              "  </div>\n",
              "  "
            ],
            "text/plain": [
              "         날짜     종가   전일비       등락율  ...    외국인누적      금투누적     투신누적    연기금누적\n",
              "0  2020.6.1  51200   500       NaN  ...   -39405    795040    93773   921107\n",
              "1  2020.6.2  51400   200  0.003906  ...  -396658    876189   141913  1029344\n",
              "2  2020.6.3  54500  3100  0.060311  ...  2875203   7340216  1439907  1071725\n",
              "3  2020.6.4  54600   100  0.001835  ...  4554096  10234567  1719270  -500478\n",
              "4  2020.6.5  55500   900  0.016484  ...  4369711  12526537  2763430 -1026257\n",
              "\n",
              "[5 rows x 24 columns]"
            ]
          },
          "metadata": {},
          "execution_count": 27
        }
      ]
    },
    {
      "cell_type": "code",
      "source": [
        "data['종가'].tail()"
      ],
      "metadata": {
        "colab": {
          "base_uri": "https://localhost:8080/"
        },
        "id": "NJzFrGCfnwtO",
        "outputId": "c32ec14d-9b3c-4dd1-f67d-48552af0a6ff"
      },
      "execution_count": null,
      "outputs": [
        {
          "output_type": "execute_result",
          "data": {
            "text/plain": [
              "247    81800\n",
              "248    80900\n",
              "249    80500\n",
              "250    79900\n",
              "251    80000\n",
              "Name: 종가, dtype: int64"
            ]
          },
          "metadata": {},
          "execution_count": 28
        }
      ]
    },
    {
      "cell_type": "code",
      "source": [
        "# 예상주가 예측\n",
        "last_price = list(data['종가'])[-1]\n",
        "last_price"
      ],
      "metadata": {
        "colab": {
          "base_uri": "https://localhost:8080/"
        },
        "id": "Mipt2rDVnclK",
        "outputId": "9a563158-42a8-4b60-8099-8d61a80e8a18"
      },
      "execution_count": null,
      "outputs": [
        {
          "output_type": "execute_result",
          "data": {
            "text/plain": [
              "80000"
            ]
          },
          "metadata": {},
          "execution_count": 29
        }
      ]
    },
    {
      "cell_type": "code",
      "source": [
        "# 주가 차크를 확인해 본다.\n",
        "plt.plot(data['종가'])\n",
        "plt.show()"
      ],
      "metadata": {
        "colab": {
          "base_uri": "https://localhost:8080/",
          "height": 265
        },
        "id": "FeP2yf4zn4kZ",
        "outputId": "87f3fec1-4012-4af1-fe12-63458f544852"
      },
      "execution_count": null,
      "outputs": [
        {
          "output_type": "display_data",
          "data": {
            "image/png": "[encoded data removed]",
            "text/plain": [
              "<Figure size 432x288 with 1 Axes>"
            ]
          },
          "metadata": {
            "needs_background": "light"
          }
        }
      ]
    },
    {
      "cell_type": "code",
      "source": [
        "# 결측치 제거\n",
        "df = data.dropna()"
      ],
      "metadata": {
        "id": "Ow-3cMaYn_LU"
      },
      "execution_count": null,
      "outputs": []
    },
    {
      "cell_type": "code",
      "source": [
        "# 필요없는 데이터 삭제\n",
        "df = df.drop(['날짜', '종가', '전일비', '거래량', '개인누적', '기관누적', '외국인누적', '금투누적', '투신누적', '연기금누적', '국가지자체'], axis=1)\n",
        "df.head()"
      ],
      "metadata": {
        "colab": {
          "base_uri": "https://localhost:8080/",
          "height": 288
        },
        "id": "KKcrkh_EoP-w",
        "outputId": "6f2369bd-d306-4886-de32-de45e7f0ff71"
      },
      "execution_count": null,
      "outputs": [
        {
          "output_type": "execute_result",
          "data": {
            "text/html": [
              "\n",
              "  <div id=\"df-03519c87-3e91-4833-895c-bbe9814ab5eb\">\n",
              "    <div class=\"colab-df-container\">\n",
              "      <div>\n",
              "<style scoped>\n",
              "    .dataframe tbody tr th:only-of-type {\n",
              "        vertical-align: middle;\n",
              "    }\n",
              "\n",
              "    .dataframe tbody tr th {\n",
              "        vertical-align: top;\n",
              "    }\n",
              "\n",
              "    .dataframe thead th {\n",
              "        text-align: right;\n",
              "    }\n",
              "</style>\n",
              "<table border=\"1\" class=\"dataframe\">\n",
              "  <thead>\n",
              "    <tr style=\"text-align: right;\">\n",
              "      <th></th>\n",
              "      <th>등락율</th>\n",
              "      <th>개인</th>\n",
              "      <th>기관</th>\n",
              "      <th>외국인</th>\n",
              "      <th>금융투자</th>\n",
              "      <th>보험</th>\n",
              "      <th>투신</th>\n",
              "      <th>은행</th>\n",
              "      <th>기타금융</th>\n",
              "      <th>연기금</th>\n",
              "      <th>사모펀드</th>\n",
              "      <th>기타법인</th>\n",
              "      <th>기타외국인</th>\n",
              "    </tr>\n",
              "  </thead>\n",
              "  <tbody>\n",
              "    <tr>\n",
              "      <th>1</th>\n",
              "      <td>0.003906</td>\n",
              "      <td>-560690</td>\n",
              "      <td>873157</td>\n",
              "      <td>-357253</td>\n",
              "      <td>81149</td>\n",
              "      <td>568419</td>\n",
              "      <td>48140</td>\n",
              "      <td>7572</td>\n",
              "      <td>-1260</td>\n",
              "      <td>108237</td>\n",
              "      <td>60900</td>\n",
              "      <td>24180</td>\n",
              "      <td>20606</td>\n",
              "    </tr>\n",
              "    <tr>\n",
              "      <th>2</th>\n",
              "      <td>0.060311</td>\n",
              "      <td>-12644642</td>\n",
              "      <td>9757786</td>\n",
              "      <td>3271861</td>\n",
              "      <td>6464027</td>\n",
              "      <td>1568929</td>\n",
              "      <td>1297994</td>\n",
              "      <td>-54218</td>\n",
              "      <td>-28639</td>\n",
              "      <td>42381</td>\n",
              "      <td>467312</td>\n",
              "      <td>-354941</td>\n",
              "      <td>-30064</td>\n",
              "    </tr>\n",
              "    <tr>\n",
              "      <th>3</th>\n",
              "      <td>0.001835</td>\n",
              "      <td>-3179569</td>\n",
              "      <td>1604890</td>\n",
              "      <td>1678893</td>\n",
              "      <td>2894351</td>\n",
              "      <td>-297073</td>\n",
              "      <td>279363</td>\n",
              "      <td>-9337</td>\n",
              "      <td>28892</td>\n",
              "      <td>-1572203</td>\n",
              "      <td>280897</td>\n",
              "      <td>-70151</td>\n",
              "      <td>-34063</td>\n",
              "    </tr>\n",
              "    <tr>\n",
              "      <th>4</th>\n",
              "      <td>0.016484</td>\n",
              "      <td>-2638431</td>\n",
              "      <td>2869587</td>\n",
              "      <td>-184385</td>\n",
              "      <td>2291970</td>\n",
              "      <td>108763</td>\n",
              "      <td>1044160</td>\n",
              "      <td>6651</td>\n",
              "      <td>-18200</td>\n",
              "      <td>-525779</td>\n",
              "      <td>-37978</td>\n",
              "      <td>-25417</td>\n",
              "      <td>-21354</td>\n",
              "    </tr>\n",
              "    <tr>\n",
              "      <th>5</th>\n",
              "      <td>-0.010811</td>\n",
              "      <td>2852709</td>\n",
              "      <td>-1098871</td>\n",
              "      <td>-1650246</td>\n",
              "      <td>-723060</td>\n",
              "      <td>-67082</td>\n",
              "      <td>728799</td>\n",
              "      <td>32155</td>\n",
              "      <td>53610</td>\n",
              "      <td>-1144027</td>\n",
              "      <td>20734</td>\n",
              "      <td>-121115</td>\n",
              "      <td>17523</td>\n",
              "    </tr>\n",
              "  </tbody>\n",
              "</table>\n",
              "</div>\n",
              "      <button class=\"colab-df-convert\" onclick=\"convertToInteractive('df-03519c87-3e91-4833-895c-bbe9814ab5eb')\"\n",
              "              title=\"Convert this dataframe to an interactive table.\"\n",
              "              style=\"display:none;\">\n",
              "        \n",
              "  <svg xmlns=\"http://www.w3.org/2000/svg\" height=\"24px\"viewBox=\"0 0 24 24\"\n",
              "       width=\"24px\">\n",
              "    <path d=\"M0 0h24v24H0V0z\" fill=\"none\"/>\n",
              "    <path d=\"M18.56 5.44l.94 2.06.94-2.06 2.06-.94-2.06-.94-.94-2.06-.94 2.06-2.06.94zm-11 1L8.5 8.5l.94-2.06 2.06-.94-2.06-.94L8.5 2.5l-.94 2.06-2.06.94zm10 10l.94 2.06.94-2.06 2.06-.94-2.06-.94-.94-2.06-.94 2.06-2.06.94z\"/><path d=\"M17.41 7.96l-1.37-1.37c-.4-.4-.92-.59-1.43-.59-.52 0-1.04.2-1.43.59L10.3 9.45l-7.72 7.72c-.78.78-.78 2.05 0 2.83L4 21.41c.39.39.9.59 1.41.59.51 0 1.02-.2 1.41-.59l7.78-7.78 2.81-2.81c.8-.78.8-2.07 0-2.86zM5.41 20L4 18.59l7.72-7.72 1.47 1.35L5.41 20z\"/>\n",
              "  </svg>\n",
              "      </button>\n",
              "      \n",
              "  <style>\n",
              "    .colab-df-container {\n",
              "      display:flex;\n",
              "      flex-wrap:wrap;\n",
              "      gap: 12px;\n",
              "    }\n",
              "\n",
              "    .colab-df-convert {\n",
              "      background-color: #E8F0FE;\n",
              "      border: none;\n",
              "      border-radius: 50%;\n",
              "      cursor: pointer;\n",
              "      display: none;\n",
              "      fill: #1967D2;\n",
              "      height: 32px;\n",
              "      padding: 0 0 0 0;\n",
              "      width: 32px;\n",
              "    }\n",
              "\n",
              "    .colab-df-convert:hover {\n",
              "      background-color: #E2EBFA;\n",
              "      box-shadow: 0px 1px 2px rgba(60, 64, 67, 0.3), 0px 1px 3px 1px rgba(60, 64, 67, 0.15);\n",
              "      fill: #174EA6;\n",
              "    }\n",
              "\n",
              "    [theme=dark] .colab-df-convert {\n",
              "      background-color: #3B4455;\n",
              "      fill: #D2E3FC;\n",
              "    }\n",
              "\n",
              "    [theme=dark] .colab-df-convert:hover {\n",
              "      background-color: #434B5C;\n",
              "      box-shadow: 0px 1px 3px 1px rgba(0, 0, 0, 0.15);\n",
              "      filter: drop-shadow(0px 1px 2px rgba(0, 0, 0, 0.3));\n",
              "      fill: #FFFFFF;\n",
              "    }\n",
              "  </style>\n",
              "\n",
              "      <script>\n",
              "        const buttonEl =\n",
              "          document.querySelector('#df-03519c87-3e91-4833-895c-bbe9814ab5eb button.colab-df-convert');\n",
              "        buttonEl.style.display =\n",
              "          google.colab.kernel.accessAllowed ? 'block' : 'none';\n",
              "\n",
              "        async function convertToInteractive(key) {\n",
              "          const element = document.querySelector('#df-03519c87-3e91-4833-895c-bbe9814ab5eb');\n",
              "          const dataTable =\n",
              "            await google.colab.kernel.invokeFunction('convertToInteractive',\n",
              "                                                     [key], {});\n",
              "          if (!dataTable) return;\n",
              "\n",
              "          const docLinkHtml = 'Like what you see? Visit the ' +\n",
              "            '<a target=\"_blank\" href=https://colab.research.google.com/notebooks/data_table.ipynb>data table notebook</a>'\n",
              "            + ' to learn more about interactive tables.';\n",
              "          element.innerHTML = '';\n",
              "          dataTable['output_type'] = 'display_data';\n",
              "          await google.colab.output.renderOutput(dataTable, element);\n",
              "          const docLink = document.createElement('div');\n",
              "          docLink.innerHTML = docLinkHtml;\n",
              "          element.appendChild(docLink);\n",
              "        }\n",
              "      </script>\n",
              "    </div>\n",
              "  </div>\n",
              "  "
            ],
            "text/plain": [
              "        등락율        개인       기관      외국인  ...      연기금    사모펀드    기타법인  기타외국인\n",
              "1  0.003906   -560690   873157  -357253  ...   108237   60900   24180  20606\n",
              "2  0.060311 -12644642  9757786  3271861  ...    42381  467312 -354941 -30064\n",
              "3  0.001835  -3179569  1604890  1678893  ... -1572203  280897  -70151 -34063\n",
              "4  0.016484  -2638431  2869587  -184385  ...  -525779  -37978  -25417 -21354\n",
              "5 -0.010811   2852709 -1098871 -1650246  ... -1144027   20734 -121115  17523\n",
              "\n",
              "[5 rows x 13 columns]"
            ]
          },
          "metadata": {},
          "execution_count": 32
        }
      ]
    },
    {
      "cell_type": "code",
      "source": [
        "# feature 표준화\n",
        "rtn_mean = df['등락율'].mean()\n",
        "rtn_std = df['등락율'].std()\n",
        "# 표준화\n",
        "df = (df - df.mean() / df.std())"
      ],
      "metadata": {
        "id": "lsogLuKSoXiP"
      },
      "execution_count": null,
      "outputs": []
    },
    {
      "cell_type": "code",
      "source": [
        "# 2차원 배열의 feature 데이터로 LSTM 학습 데이터를 만든다.\n",
        "def build_train_data(data, t_step, n_jump = 1):\n",
        "    n_data = data.shape[0]   # number of data\n",
        "    n_feat = data.shape[1]   # number of features\n",
        "\n",
        "    m = np.arange(0, n_data - t_step, n_jump)   # m =  [0, 1, 2, 3, 4, 5]\n",
        "    x = [data[i:(i+t_step), :] for i in m]      # feature data\n",
        "    y = [data[i, :] for i in (m + t_step)]      # target data\n",
        "\n",
        "    # shape을 조정한다. feature = 3D, target = 2D\n",
        "    x_data = np.reshape(np.array(x), (len(m), t_step, n_feat))\n",
        "    y_target = np.reshape(np.array(y), (len(m), n_feat))\n",
        "    \n",
        "    return x_data, y_target"
      ],
      "metadata": {
        "id": "sstYAhduopZo"
      },
      "execution_count": null,
      "outputs": []
    },
    {
      "cell_type": "code",
      "source": [
        "t_step = 20\n",
        "# 학습 데이터를 생성한다. \n",
        "x_train, y_train = build_train_data(np.array(df), t_step, n_jump=1)\n",
        "x_train.shape, y_train.shape"
      ],
      "metadata": {
        "colab": {
          "base_uri": "https://localhost:8080/"
        },
        "id": "loJqxLNCovnS",
        "outputId": "796b6364-9bb5-4967-dd2e-9b4781495b02"
      },
      "execution_count": null,
      "outputs": [
        {
          "output_type": "execute_result",
          "data": {
            "text/plain": [
              "((231, 20, 13), (231, 13))"
            ]
          },
          "metadata": {},
          "execution_count": 35
        }
      ]
    },
    {
      "cell_type": "code",
      "source": [
        "n_feat = x_train.shape[2]\n",
        "n_output = y_train.shape[1]\n",
        "n_hidden = 128\n",
        "\n",
        "# LSTM 모델을 생성한다.\n",
        "x_input = Input(batch_shape=(None, t_step, n_feat))\n",
        "x_lstm = LSTM(n_hidden, return_sequences=True)(x_input)\n",
        "x_lstm = LSTM(n_hidden, dropout=0.2)(x_lstm) # 내부가 네트워크이기때문에 내부에 dropout을 써준다\n",
        "\n",
        "y_output = Dense(n_output)(x_lstm)\n",
        "\n",
        "model = Model(x_input, y_output)\n",
        "model.compile(loss='mse', optimizer=Adam(learning_rate=0.001))\n",
        "model.summary()"
      ],
      "metadata": {
        "colab": {
          "base_uri": "https://localhost:8080/"
        },
        "id": "U6-a1Zfro9vP",
        "outputId": "ada7f37c-1c21-494d-99b3-e574d49b3e68"
      },
      "execution_count": null,
      "outputs": [
        {
          "output_type": "stream",
          "name": "stdout",
          "text": [
            "Model: \"model_1\"\n",
            "_________________________________________________________________\n",
            " Layer (type)                Output Shape              Param #   \n",
            "=================================================================\n",
            " input_2 (InputLayer)        [(None, 20, 13)]          0         \n",
            "                                                                 \n",
            " lstm_2 (LSTM)               (None, 20, 128)           72704     \n",
            "                                                                 \n",
            " lstm_3 (LSTM)               (None, 128)               131584    \n",
            "                                                                 \n",
            " dense_1 (Dense)             (None, 13)                1677      \n",
            "                                                                 \n",
            "=================================================================\n",
            "Total params: 205,965\n",
            "Trainable params: 205,965\n",
            "Non-trainable params: 0\n",
            "_________________________________________________________________\n"
          ]
        }
      ]
    },
    {
      "cell_type": "code",
      "source": [
        "y_train.shape"
      ],
      "metadata": {
        "colab": {
          "base_uri": "https://localhost:8080/"
        },
        "id": "Pg683n2UpO7P",
        "outputId": "0cad46c2-57c9-4b9b-afdc-364de73ae6f3"
      },
      "execution_count": null,
      "outputs": [
        {
          "output_type": "execute_result",
          "data": {
            "text/plain": [
              "(231, 13)"
            ]
          },
          "metadata": {},
          "execution_count": 37
        }
      ]
    },
    {
      "cell_type": "code",
      "source": [
        "h = model.fit(x_train, y_train, epochs=100, batch_size=32, shuffle=True)"
      ],
      "metadata": {
        "colab": {
          "base_uri": "https://localhost:8080/"
        },
        "id": "HLFcGovypXvh",
        "outputId": "febe68af-c9ec-4ef1-fc05-af7dcaaaf4ce"
      },
      "execution_count": null,
      "outputs": [
        {
          "output_type": "stream",
          "name": "stdout",
          "text": [
            "Epoch 1/100\n",
            "8/8 [==============================] - 5s 59ms/step - loss: 3503111798784.0000\n",
            "Epoch 2/100\n",
            "8/8 [==============================] - 0s 59ms/step - loss: 3503110488064.0000\n",
            "Epoch 3/100\n",
            "8/8 [==============================] - 0s 61ms/step - loss: 3503109177344.0000\n",
            "Epoch 4/100\n",
            "8/8 [==============================] - 0s 58ms/step - loss: 3503108390912.0000\n",
            "Epoch 5/100\n",
            "8/8 [==============================] - 0s 60ms/step - loss: 3503107080192.0000\n",
            "Epoch 6/100\n",
            "8/8 [==============================] - 0s 60ms/step - loss: 3503106555904.0000\n",
            "Epoch 7/100\n",
            "8/8 [==============================] - 1s 64ms/step - loss: 3503105769472.0000\n",
            "Epoch 8/100\n",
            "8/8 [==============================] - 1s 64ms/step - loss: 3503105245184.0000\n",
            "Epoch 9/100\n",
            "8/8 [==============================] - 1s 64ms/step - loss: 3503104196608.0000\n",
            "Epoch 10/100\n",
            "8/8 [==============================] - 0s 60ms/step - loss: 3503103934464.0000\n",
            "Epoch 11/100\n",
            "8/8 [==============================] - 0s 58ms/step - loss: 3503103410176.0000\n",
            "Epoch 12/100\n",
            "8/8 [==============================] - 0s 59ms/step - loss: 3503102623744.0000\n",
            "Epoch 13/100\n",
            "8/8 [==============================] - 0s 58ms/step - loss: 3503102361600.0000\n",
            "Epoch 14/100\n",
            "8/8 [==============================] - 0s 58ms/step - loss: 3503101837312.0000\n",
            "Epoch 15/100\n",
            "8/8 [==============================] - 0s 59ms/step - loss: 3503101313024.0000\n",
            "Epoch 16/100\n",
            "8/8 [==============================] - 0s 60ms/step - loss: 3503100788736.0000\n",
            "Epoch 17/100\n",
            "8/8 [==============================] - 0s 59ms/step - loss: 3503100002304.0000\n",
            "Epoch 18/100\n",
            "8/8 [==============================] - 0s 62ms/step - loss: 3503098429440.0000\n",
            "Epoch 19/100\n",
            "8/8 [==============================] - 0s 55ms/step - loss: 3503097905152.0000\n",
            "Epoch 20/100\n",
            "8/8 [==============================] - 0s 62ms/step - loss: 3503097118720.0000\n",
            "Epoch 21/100\n",
            "8/8 [==============================] - 0s 56ms/step - loss: 3503097643008.0000\n",
            "Epoch 22/100\n",
            "8/8 [==============================] - 0s 61ms/step - loss: 3503097118720.0000\n",
            "Epoch 23/100\n",
            "8/8 [==============================] - 0s 57ms/step - loss: 3503095545856.0000\n",
            "Epoch 24/100\n",
            "8/8 [==============================] - 0s 60ms/step - loss: 3503095021568.0000\n",
            "Epoch 25/100\n",
            "8/8 [==============================] - 0s 57ms/step - loss: 3503093972992.0000\n",
            "Epoch 26/100\n",
            "8/8 [==============================] - 0s 58ms/step - loss: 3503093710848.0000\n",
            "Epoch 27/100\n",
            "8/8 [==============================] - 1s 61ms/step - loss: 3503093186560.0000\n",
            "Epoch 28/100\n",
            "8/8 [==============================] - 0s 60ms/step - loss: 3503091875840.0000\n",
            "Epoch 29/100\n",
            "8/8 [==============================] - 0s 58ms/step - loss: 3503091613696.0000\n",
            "Epoch 30/100\n",
            "8/8 [==============================] - 0s 61ms/step - loss: 3503090565120.0000\n",
            "Epoch 31/100\n",
            "8/8 [==============================] - 0s 60ms/step - loss: 3503090302976.0000\n",
            "Epoch 32/100\n",
            "8/8 [==============================] - 0s 59ms/step - loss: 3503089254400.0000\n",
            "Epoch 33/100\n",
            "8/8 [==============================] - 0s 62ms/step - loss: 3503088992256.0000\n",
            "Epoch 34/100\n",
            "8/8 [==============================] - 0s 61ms/step - loss: 3503087681536.0000\n",
            "Epoch 35/100\n",
            "8/8 [==============================] - 1s 93ms/step - loss: 3503087419392.0000\n",
            "Epoch 36/100\n",
            "8/8 [==============================] - 1s 97ms/step - loss: 3503087419392.0000\n",
            "Epoch 37/100\n",
            "8/8 [==============================] - 1s 94ms/step - loss: 3503087157248.0000\n",
            "Epoch 38/100\n",
            "8/8 [==============================] - 1s 101ms/step - loss: 3503086108672.0000\n",
            "Epoch 39/100\n",
            "8/8 [==============================] - 1s 96ms/step - loss: 3503085584384.0000\n",
            "Epoch 40/100\n",
            "8/8 [==============================] - 1s 97ms/step - loss: 3503084797952.0000\n",
            "Epoch 41/100\n",
            "8/8 [==============================] - 1s 90ms/step - loss: 3503083749376.0000\n",
            "Epoch 42/100\n",
            "8/8 [==============================] - 1s 93ms/step - loss: 3503083225088.0000\n",
            "Epoch 43/100\n",
            "8/8 [==============================] - 1s 102ms/step - loss: 3503083225088.0000\n",
            "Epoch 44/100\n",
            "8/8 [==============================] - 1s 103ms/step - loss: 3503081652224.0000\n",
            "Epoch 45/100\n",
            "8/8 [==============================] - 1s 96ms/step - loss: 3503080865792.0000\n",
            "Epoch 46/100\n",
            "8/8 [==============================] - 1s 106ms/step - loss: 3503080079360.0000\n",
            "Epoch 47/100\n",
            "8/8 [==============================] - 1s 91ms/step - loss: 3503080079360.0000\n",
            "Epoch 48/100\n",
            "8/8 [==============================] - 1s 109ms/step - loss: 3503079030784.0000\n",
            "Epoch 49/100\n",
            "8/8 [==============================] - 1s 100ms/step - loss: 3503079292928.0000\n",
            "Epoch 50/100\n",
            "8/8 [==============================] - 1s 104ms/step - loss: 3503079030784.0000\n",
            "Epoch 51/100\n",
            "8/8 [==============================] - 1s 92ms/step - loss: 3503077457920.0000\n",
            "Epoch 52/100\n",
            "8/8 [==============================] - 1s 129ms/step - loss: 3503077720064.0000\n",
            "Epoch 53/100\n",
            "8/8 [==============================] - 1s 109ms/step - loss: 3503077457920.0000\n",
            "Epoch 54/100\n",
            "8/8 [==============================] - 1s 162ms/step - loss: 3503078506496.0000\n",
            "Epoch 55/100\n",
            "8/8 [==============================] - 1s 98ms/step - loss: 3503077457920.0000\n",
            "Epoch 56/100\n",
            "8/8 [==============================] - 0s 60ms/step - loss: 3503076147200.0000\n",
            "Epoch 57/100\n",
            "8/8 [==============================] - 0s 58ms/step - loss: 3503075098624.0000\n",
            "Epoch 58/100\n",
            "8/8 [==============================] - 0s 57ms/step - loss: 3503075622912.0000\n",
            "Epoch 59/100\n",
            "8/8 [==============================] - 0s 56ms/step - loss: 3503075098624.0000\n",
            "Epoch 60/100\n",
            "8/8 [==============================] - 0s 56ms/step - loss: 3503074574336.0000\n",
            "Epoch 61/100\n",
            "8/8 [==============================] - 0s 59ms/step - loss: 3503074574336.0000\n",
            "Epoch 62/100\n",
            "8/8 [==============================] - 0s 57ms/step - loss: 3503073525760.0000\n",
            "Epoch 63/100\n",
            "8/8 [==============================] - 0s 58ms/step - loss: 3503072477184.0000\n",
            "Epoch 64/100\n",
            "8/8 [==============================] - 0s 56ms/step - loss: 3503071952896.0000\n",
            "Epoch 65/100\n",
            "8/8 [==============================] - 0s 59ms/step - loss: 3503071690752.0000\n",
            "Epoch 66/100\n",
            "8/8 [==============================] - 0s 56ms/step - loss: 3503070380032.0000\n",
            "Epoch 67/100\n",
            "8/8 [==============================] - 0s 62ms/step - loss: 3503070117888.0000\n",
            "Epoch 68/100\n",
            "8/8 [==============================] - 0s 57ms/step - loss: 3503069855744.0000\n",
            "Epoch 69/100\n",
            "8/8 [==============================] - 0s 58ms/step - loss: 3503069331456.0000\n",
            "Epoch 70/100\n",
            "8/8 [==============================] - 0s 55ms/step - loss: 3503068545024.0000\n",
            "Epoch 71/100\n",
            "8/8 [==============================] - 0s 57ms/step - loss: 3503067758592.0000\n",
            "Epoch 72/100\n",
            "8/8 [==============================] - 0s 59ms/step - loss: 3503066972160.0000\n",
            "Epoch 73/100\n",
            "8/8 [==============================] - 0s 56ms/step - loss: 3503066185728.0000\n",
            "Epoch 74/100\n",
            "8/8 [==============================] - 0s 59ms/step - loss: 3503064875008.0000\n",
            "Epoch 75/100\n",
            "8/8 [==============================] - 0s 56ms/step - loss: 3503062777856.0000\n",
            "Epoch 76/100\n",
            "8/8 [==============================] - 0s 59ms/step - loss: 3503064350720.0000\n",
            "Epoch 77/100\n",
            "8/8 [==============================] - 0s 55ms/step - loss: 3503064612864.0000\n",
            "Epoch 78/100\n",
            "8/8 [==============================] - 0s 58ms/step - loss: 3503065923584.0000\n",
            "Epoch 79/100\n",
            "8/8 [==============================] - 0s 56ms/step - loss: 3503064875008.0000\n",
            "Epoch 80/100\n",
            "8/8 [==============================] - 0s 57ms/step - loss: 3503063040000.0000\n",
            "Epoch 81/100\n",
            "8/8 [==============================] - 0s 57ms/step - loss: 3503064350720.0000\n",
            "Epoch 82/100\n",
            "8/8 [==============================] - 0s 58ms/step - loss: 3503063040000.0000\n",
            "Epoch 83/100\n",
            "8/8 [==============================] - 0s 61ms/step - loss: 3503064875008.0000\n",
            "Epoch 84/100\n",
            "8/8 [==============================] - 0s 57ms/step - loss: 3503064612864.0000\n",
            "Epoch 85/100\n",
            "8/8 [==============================] - 0s 58ms/step - loss: 3503064088576.0000\n",
            "Epoch 86/100\n",
            "8/8 [==============================] - 0s 57ms/step - loss: 3503063564288.0000\n",
            "Epoch 87/100\n",
            "8/8 [==============================] - 0s 61ms/step - loss: 3503063302144.0000\n",
            "Epoch 88/100\n",
            "8/8 [==============================] - 0s 57ms/step - loss: 3503063040000.0000\n",
            "Epoch 89/100\n",
            "8/8 [==============================] - 0s 62ms/step - loss: 3503062253568.0000\n",
            "Epoch 90/100\n",
            "8/8 [==============================] - 0s 56ms/step - loss: 3503062253568.0000\n",
            "Epoch 91/100\n",
            "8/8 [==============================] - 0s 56ms/step - loss: 3503061729280.0000\n",
            "Epoch 92/100\n",
            "8/8 [==============================] - 0s 57ms/step - loss: 3503061204992.0000\n",
            "Epoch 93/100\n",
            "8/8 [==============================] - 0s 57ms/step - loss: 3503060680704.0000\n",
            "Epoch 94/100\n",
            "8/8 [==============================] - 0s 59ms/step - loss: 3503060418560.0000\n",
            "Epoch 95/100\n",
            "8/8 [==============================] - 0s 57ms/step - loss: 3503059369984.0000\n",
            "Epoch 96/100\n",
            "8/8 [==============================] - 0s 57ms/step - loss: 3503059107840.0000\n",
            "Epoch 97/100\n",
            "8/8 [==============================] - 0s 56ms/step - loss: 3503058845696.0000\n",
            "Epoch 98/100\n",
            "8/8 [==============================] - 0s 58ms/step - loss: 3503058321408.0000\n",
            "Epoch 99/100\n",
            "8/8 [==============================] - 0s 57ms/step - loss: 3503058059264.0000\n",
            "Epoch 100/100\n",
            "8/8 [==============================] - 0s 58ms/step - loss: 3503057534976.0000\n"
          ]
        }
      ]
    },
    {
      "cell_type": "code",
      "source": [
        "# Loss history를 그린다\n",
        "plt.figure(figsize=(8, 3))\n",
        "plt.plot(h.history['loss'], color='red')\n",
        "plt.title(\"Loss History\")\n",
        "plt.xlabel(\"epoch\")\n",
        "plt.ylabel(\"loss\")\n",
        "plt.show()"
      ],
      "metadata": {
        "colab": {
          "base_uri": "https://localhost:8080/",
          "height": 241
        },
        "id": "SYZKRHVapeYX",
        "outputId": "584916e9-ced8-487c-8ff9-4b1cdb7c5fd7"
      },
      "execution_count": null,
      "outputs": [
        {
          "output_type": "display_data",
          "data": {
            "image/png": "[encoded data removed]",
            "text/plain": [
              "<Figure size 576x216 with 1 Axes>"
            ]
          },
          "metadata": {
            "needs_background": "light"
          }
        }
      ]
    },
    {
      "cell_type": "code",
      "source": [
        "# 내일의 수익률과 주가를 예측한다.\n",
        "px = np.array(df.tail(20)).reshape(1, t_step, n_feat)\n",
        "y_pred = model.predict(px)[0][0]\n",
        "y_rtn = y_pred * rtn_std + rtn_mean\n",
        "\n",
        "if y_rtn > 0:\n",
        "  print(\"내일은 {:.2f}% 상승할 것으로 예측됩니다.\".format(y_rtn * 100))\n",
        "else:\n",
        "  print(\"내일은 {:.2f}% 하락할 것으로 예측됩니다.\".formant(y_ttn * 100))\n",
        "print(\"예상 주가 = {:.0f}\".format(last_price * (1 + y_rtn)))"
      ],
      "metadata": {
        "colab": {
          "base_uri": "https://localhost:8080/"
        },
        "id": "7J1fv-s8pmq8",
        "outputId": "b8476cb4-7470-49de-cd52-f9c6fd852ce8"
      },
      "execution_count": null,
      "outputs": [
        {
          "output_type": "stream",
          "name": "stdout",
          "text": [
            "내일은 0.01% 상승할 것으로 예측됩니다.\n",
            "예상 주가 = 80010\n"
          ]
        }
      ]
    },
    {
      "cell_type": "code",
      "source": [
        ""
      ],
      "metadata": {
        "id": "hYNHqAmkqivr"
      },
      "execution_count": null,
      "outputs": []
    }
  ]
}