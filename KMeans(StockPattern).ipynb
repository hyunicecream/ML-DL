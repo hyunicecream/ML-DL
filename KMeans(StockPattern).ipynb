{
  "nbformat": 4,
  "nbformat_minor": 0,
  "metadata": {
    "colab": {
      "name": "\bKMeans(StockPattern).ipynb",
      "provenance": [],
      "collapsed_sections": [],
      "mount_file_id": "1y58K2_rp2IIHgpG7H_4PACOydEwgrEpG",
      "authorship_tag": "ABX9TyPzfZsBVmBzXQXpivZKZwSp",
      "include_colab_link": true
    },
    "kernelspec": {
      "name": "python3",
      "display_name": "Python 3"
    },
    "language_info": {
      "name": "python"
    }
  },
  "cells": [
    {
      "cell_type": "markdown",
      "metadata": {
        "id": "view-in-github",
        "colab_type": "text"
      },
      "source": [
        "<a href=\"https://colab.research.google.com/github/hyunicecream/ML-DL/blob/main/%08KMeans(StockPattern).ipynb\" target=\"_parent\"><img src=\"https://colab.research.google.com/assets/colab-badge.svg\" alt=\"Open In Colab\"/></a>"
      ]
    },
    {
      "cell_type": "code",
      "execution_count": null,
      "metadata": {
        "id": "_Sh36oDg5zDC"
      },
      "outputs": [],
      "source": [
        "import matplotlib.pyplot as plt\n",
        "from sklearn.cluster import KMeans\n",
        "import pandas as pd\n",
        "from sklearn.datasets import make_blobs\n",
        "import numpy as np"
      ]
    },
    {
      "cell_type": "code",
      "source": [
        "\n",
        "df = pd.read_csv('stockPattern.csv')"
      ],
      "metadata": {
        "id": "Kyl6Vcc76s_i"
      },
      "execution_count": null,
      "outputs": []
    },
    {
      "cell_type": "code",
      "source": [
        "df.head()"
      ],
      "metadata": {
        "colab": {
          "base_uri": "https://localhost:8080/",
          "height": 206
        },
        "id": "Oyx0b_Vl6ulj",
        "outputId": "30a32db3-6924-4c9a-ad96-6758a6e74cbf"
      },
      "execution_count": null,
      "outputs": [
        {
          "output_type": "execute_result",
          "data": {
            "text/html": [
              "\n",
              "  <div id=\"df-52364e8c-ff01-4e47-bac6-9507b11b7100\">\n",
              "    <div class=\"colab-df-container\">\n",
              "      <div>\n",
              "<style scoped>\n",
              "    .dataframe tbody tr th:only-of-type {\n",
              "        vertical-align: middle;\n",
              "    }\n",
              "\n",
              "    .dataframe tbody tr th {\n",
              "        vertical-align: top;\n",
              "    }\n",
              "\n",
              "    .dataframe thead th {\n",
              "        text-align: right;\n",
              "    }\n",
              "</style>\n",
              "<table border=\"1\" class=\"dataframe\">\n",
              "  <thead>\n",
              "    <tr style=\"text-align: right;\">\n",
              "      <th></th>\n",
              "      <th>1</th>\n",
              "      <th>2</th>\n",
              "      <th>3</th>\n",
              "      <th>4</th>\n",
              "      <th>5</th>\n",
              "      <th>6</th>\n",
              "      <th>7</th>\n",
              "      <th>8</th>\n",
              "      <th>9</th>\n",
              "      <th>10</th>\n",
              "      <th>11</th>\n",
              "      <th>12</th>\n",
              "      <th>13</th>\n",
              "      <th>14</th>\n",
              "      <th>15</th>\n",
              "      <th>16</th>\n",
              "      <th>17</th>\n",
              "      <th>18</th>\n",
              "      <th>19</th>\n",
              "      <th>20</th>\n",
              "    </tr>\n",
              "  </thead>\n",
              "  <tbody>\n",
              "    <tr>\n",
              "      <th>0</th>\n",
              "      <td>1.265213</td>\n",
              "      <td>-0.942541</td>\n",
              "      <td>-1.112369</td>\n",
              "      <td>-0.008491</td>\n",
              "      <td>-0.517973</td>\n",
              "      <td>0.161336</td>\n",
              "      <td>-0.942541</td>\n",
              "      <td>-0.433060</td>\n",
              "      <td>1.519954</td>\n",
              "      <td>1.180300</td>\n",
              "      <td>-0.093405</td>\n",
              "      <td>1.010472</td>\n",
              "      <td>0.500990</td>\n",
              "      <td>-0.772714</td>\n",
              "      <td>-2.131332</td>\n",
              "      <td>-1.452023</td>\n",
              "      <td>0.755731</td>\n",
              "      <td>0.840645</td>\n",
              "      <td>-0.008491</td>\n",
              "      <td>1.180300</td>\n",
              "    </tr>\n",
              "    <tr>\n",
              "      <th>1</th>\n",
              "      <td>-0.921855</td>\n",
              "      <td>-1.080796</td>\n",
              "      <td>-0.047682</td>\n",
              "      <td>-0.524504</td>\n",
              "      <td>0.111258</td>\n",
              "      <td>-0.921855</td>\n",
              "      <td>-0.445034</td>\n",
              "      <td>1.382783</td>\n",
              "      <td>1.064902</td>\n",
              "      <td>-0.127152</td>\n",
              "      <td>0.905961</td>\n",
              "      <td>0.429139</td>\n",
              "      <td>-0.762915</td>\n",
              "      <td>-2.034439</td>\n",
              "      <td>-1.398677</td>\n",
              "      <td>0.667550</td>\n",
              "      <td>0.747021</td>\n",
              "      <td>-0.047682</td>\n",
              "      <td>1.064902</td>\n",
              "      <td>1.939075</td>\n",
              "    </tr>\n",
              "    <tr>\n",
              "      <th>2</th>\n",
              "      <td>-1.153825</td>\n",
              "      <td>-0.179817</td>\n",
              "      <td>-0.629359</td>\n",
              "      <td>-0.029969</td>\n",
              "      <td>-1.003978</td>\n",
              "      <td>-0.554435</td>\n",
              "      <td>1.168810</td>\n",
              "      <td>0.869115</td>\n",
              "      <td>-0.254741</td>\n",
              "      <td>0.719268</td>\n",
              "      <td>0.269725</td>\n",
              "      <td>-0.854130</td>\n",
              "      <td>-2.052910</td>\n",
              "      <td>-1.453520</td>\n",
              "      <td>0.494496</td>\n",
              "      <td>0.569420</td>\n",
              "      <td>-0.179817</td>\n",
              "      <td>0.869115</td>\n",
              "      <td>1.693276</td>\n",
              "      <td>1.693276</td>\n",
              "    </tr>\n",
              "    <tr>\n",
              "      <th>3</th>\n",
              "      <td>-0.309410</td>\n",
              "      <td>-0.751423</td>\n",
              "      <td>-0.162072</td>\n",
              "      <td>-1.119768</td>\n",
              "      <td>-0.677754</td>\n",
              "      <td>1.016631</td>\n",
              "      <td>0.721956</td>\n",
              "      <td>-0.383079</td>\n",
              "      <td>0.574618</td>\n",
              "      <td>0.132604</td>\n",
              "      <td>-0.972430</td>\n",
              "      <td>-2.151133</td>\n",
              "      <td>-1.561782</td>\n",
              "      <td>0.353611</td>\n",
              "      <td>0.427280</td>\n",
              "      <td>-0.309410</td>\n",
              "      <td>0.721956</td>\n",
              "      <td>1.532314</td>\n",
              "      <td>1.532314</td>\n",
              "      <td>1.384976</td>\n",
              "    </tr>\n",
              "    <tr>\n",
              "      <th>4</th>\n",
              "      <td>-0.799869</td>\n",
              "      <td>-0.220778</td>\n",
              "      <td>-1.161801</td>\n",
              "      <td>-0.727483</td>\n",
              "      <td>0.937403</td>\n",
              "      <td>0.647858</td>\n",
              "      <td>-0.437938</td>\n",
              "      <td>0.503085</td>\n",
              "      <td>0.068767</td>\n",
              "      <td>-1.017028</td>\n",
              "      <td>-2.175210</td>\n",
              "      <td>-1.596119</td>\n",
              "      <td>0.285926</td>\n",
              "      <td>0.358313</td>\n",
              "      <td>-0.365551</td>\n",
              "      <td>0.647858</td>\n",
              "      <td>1.444108</td>\n",
              "      <td>1.444108</td>\n",
              "      <td>1.299335</td>\n",
              "      <td>0.865017</td>\n",
              "    </tr>\n",
              "  </tbody>\n",
              "</table>\n",
              "</div>\n",
              "      <button class=\"colab-df-convert\" onclick=\"convertToInteractive('df-52364e8c-ff01-4e47-bac6-9507b11b7100')\"\n",
              "              title=\"Convert this dataframe to an interactive table.\"\n",
              "              style=\"display:none;\">\n",
              "        \n",
              "  <svg xmlns=\"http://www.w3.org/2000/svg\" height=\"24px\"viewBox=\"0 0 24 24\"\n",
              "       width=\"24px\">\n",
              "    <path d=\"M0 0h24v24H0V0z\" fill=\"none\"/>\n",
              "    <path d=\"M18.56 5.44l.94 2.06.94-2.06 2.06-.94-2.06-.94-.94-2.06-.94 2.06-2.06.94zm-11 1L8.5 8.5l.94-2.06 2.06-.94-2.06-.94L8.5 2.5l-.94 2.06-2.06.94zm10 10l.94 2.06.94-2.06 2.06-.94-2.06-.94-.94-2.06-.94 2.06-2.06.94z\"/><path d=\"M17.41 7.96l-1.37-1.37c-.4-.4-.92-.59-1.43-.59-.52 0-1.04.2-1.43.59L10.3 9.45l-7.72 7.72c-.78.78-.78 2.05 0 2.83L4 21.41c.39.39.9.59 1.41.59.51 0 1.02-.2 1.41-.59l7.78-7.78 2.81-2.81c.8-.78.8-2.07 0-2.86zM5.41 20L4 18.59l7.72-7.72 1.47 1.35L5.41 20z\"/>\n",
              "  </svg>\n",
              "      </button>\n",
              "      \n",
              "  <style>\n",
              "    .colab-df-container {\n",
              "      display:flex;\n",
              "      flex-wrap:wrap;\n",
              "      gap: 12px;\n",
              "    }\n",
              "\n",
              "    .colab-df-convert {\n",
              "      background-color: #E8F0FE;\n",
              "      border: none;\n",
              "      border-radius: 50%;\n",
              "      cursor: pointer;\n",
              "      display: none;\n",
              "      fill: #1967D2;\n",
              "      height: 32px;\n",
              "      padding: 0 0 0 0;\n",
              "      width: 32px;\n",
              "    }\n",
              "\n",
              "    .colab-df-convert:hover {\n",
              "      background-color: #E2EBFA;\n",
              "      box-shadow: 0px 1px 2px rgba(60, 64, 67, 0.3), 0px 1px 3px 1px rgba(60, 64, 67, 0.15);\n",
              "      fill: #174EA6;\n",
              "    }\n",
              "\n",
              "    [theme=dark] .colab-df-convert {\n",
              "      background-color: #3B4455;\n",
              "      fill: #D2E3FC;\n",
              "    }\n",
              "\n",
              "    [theme=dark] .colab-df-convert:hover {\n",
              "      background-color: #434B5C;\n",
              "      box-shadow: 0px 1px 3px 1px rgba(0, 0, 0, 0.15);\n",
              "      filter: drop-shadow(0px 1px 2px rgba(0, 0, 0, 0.3));\n",
              "      fill: #FFFFFF;\n",
              "    }\n",
              "  </style>\n",
              "\n",
              "      <script>\n",
              "        const buttonEl =\n",
              "          document.querySelector('#df-52364e8c-ff01-4e47-bac6-9507b11b7100 button.colab-df-convert');\n",
              "        buttonEl.style.display =\n",
              "          google.colab.kernel.accessAllowed ? 'block' : 'none';\n",
              "\n",
              "        async function convertToInteractive(key) {\n",
              "          const element = document.querySelector('#df-52364e8c-ff01-4e47-bac6-9507b11b7100');\n",
              "          const dataTable =\n",
              "            await google.colab.kernel.invokeFunction('convertToInteractive',\n",
              "                                                     [key], {});\n",
              "          if (!dataTable) return;\n",
              "\n",
              "          const docLinkHtml = 'Like what you see? Visit the ' +\n",
              "            '<a target=\"_blank\" href=https://colab.research.google.com/notebooks/data_table.ipynb>data table notebook</a>'\n",
              "            + ' to learn more about interactive tables.';\n",
              "          element.innerHTML = '';\n",
              "          dataTable['output_type'] = 'display_data';\n",
              "          await google.colab.output.renderOutput(dataTable, element);\n",
              "          const docLink = document.createElement('div');\n",
              "          docLink.innerHTML = docLinkHtml;\n",
              "          element.appendChild(docLink);\n",
              "        }\n",
              "      </script>\n",
              "    </div>\n",
              "  </div>\n",
              "  "
            ],
            "text/plain": [
              "          1         2         3  ...        18        19        20\n",
              "0  1.265213 -0.942541 -1.112369  ...  0.840645 -0.008491  1.180300\n",
              "1 -0.921855 -1.080796 -0.047682  ... -0.047682  1.064902  1.939075\n",
              "2 -1.153825 -0.179817 -0.629359  ...  0.869115  1.693276  1.693276\n",
              "3 -0.309410 -0.751423 -0.162072  ...  1.532314  1.532314  1.384976\n",
              "4 -0.799869 -0.220778 -1.161801  ...  1.444108  1.299335  0.865017\n",
              "\n",
              "[5 rows x 20 columns]"
            ]
          },
          "metadata": {},
          "execution_count": 4
        }
      ]
    },
    {
      "cell_type": "code",
      "source": [
        "stockpattern = df.copy()\n",
        "# print(stockpattern)\n",
        "stockpattern.shape"
      ],
      "metadata": {
        "colab": {
          "base_uri": "https://localhost:8080/"
        },
        "id": "XM1k6Ow77Jy4",
        "outputId": "d1676a45-8f66-47c9-8941-9e0dbce94fdc"
      },
      "execution_count": null,
      "outputs": [
        {
          "output_type": "execute_result",
          "data": {
            "text/plain": [
              "(26117, 20)"
            ]
          },
          "metadata": {},
          "execution_count": 5
        }
      ]
    },
    {
      "cell_type": "code",
      "source": [
        "X = np.array(df)\n",
        "K = 8"
      ],
      "metadata": {
        "id": "idn89kDd7Nny"
      },
      "execution_count": null,
      "outputs": []
    },
    {
      "cell_type": "code",
      "source": [
        "# K-means 알고리즘으로 시험용 데이터를 3 그룹으로 분류한다 (k = 3)\n",
        "# n_init = 10 (default) : Local min에 빠지는 것을 완화함.\n",
        "# 초기 중심을 다르게 설정하여 (10 번) error가 작은 값을 최종 학습 결과로 선택한다.\n",
        "km = KMeans(n_clusters=8, init='random', n_init=100, max_iter=300, tol=1e-04, random_state=0)\n",
        "km = km.fit(X)\n",
        "y_km = km.predict(X)"
      ],
      "metadata": {
        "id": "YFWdGjaW7Pmk"
      },
      "execution_count": null,
      "outputs": []
    },
    {
      "cell_type": "code",
      "source": [
        "fig = plt.figure(figsize=(10, 6))\n",
        "colors = \"bgrcmykw\"\n",
        "centXY = km.cluster_centers_\n",
        "for i in range(K):\n",
        "    s = 'pattern-' + str(i)\n",
        "    p = fig.add_subplot(2, (K+1)//2, i+1)\n",
        "    p.plot(centXY[i], 'b-o', markersize=3, color=colors[np.random.randint(0, 7)], linewidth=1.0)\n",
        "    p.set_title('Cluster-' + str(i))\n",
        "\n",
        "plt.tight_layout()\n",
        "plt.show()"
      ],
      "metadata": {
        "colab": {
          "base_uri": "https://localhost:8080/",
          "height": 441
        },
        "id": "BjhTYVGj7qmd",
        "outputId": "562b25b2-3ebe-4578-f24c-f631d828c2f0"
      },
      "execution_count": null,
      "outputs": [
        {
          "output_type": "display_data",
          "data": {
            "image/png": "[encoded data removed]",
            "text/plain": [
              "<Figure size 720x432 with 8 Axes>"
            ]
          },
          "metadata": {
            "needs_background": "light"
          }
        }
      ]
    }
  ]
}