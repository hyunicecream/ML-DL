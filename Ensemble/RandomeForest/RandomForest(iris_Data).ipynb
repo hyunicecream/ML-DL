{
  "nbformat": 4,
  "nbformat_minor": 0,
  "metadata": {
    "colab": {
      "name": "RandomForest(iris_Data).ipynb",
      "provenance": [],
      "collapsed_sections": [],
      "authorship_tag": "ABX9TyNM3mogm28p4Q7QzPMmqnWZ",
      "include_colab_link": true
    },
    "kernelspec": {
      "name": "python3",
      "display_name": "Python 3"
    },
    "language_info": {
      "name": "python"
    }
  },
  "cells": [
    {
      "cell_type": "markdown",
      "metadata": {
        "id": "view-in-github",
        "colab_type": "text"
      },
      "source": [
        "<a href=\"https://colab.research.google.com/github/hyunicecream/ML-DL/blob/main/RandomForest(iris_Data).ipynb\" target=\"_parent\"><img src=\"https://colab.research.google.com/assets/colab-badge.svg\" alt=\"Open In Colab\"/></a>"
      ]
    },
    {
      "cell_type": "code",
      "execution_count": null,
      "metadata": {
        "id": "lRDMmYK7Vk0I"
      },
      "outputs": [],
      "source": [
        "from sklearn.datasets import load_iris\n",
        "from sklearn.model_selection import train_test_split\n",
        "from sklearn.metrics import confusion_matrix\n",
        "from sklearn.ensemble import RandomForestClassifier\n",
        "from sklearn.metrics import classification_report"
      ]
    },
    {
      "cell_type": "code",
      "source": [
        "# iris 데이터를 읽어온다\n",
        "iris = load_iris()"
      ],
      "metadata": {
        "id": "Rxt7AGeOV3wH"
      },
      "execution_count": null,
      "outputs": []
    },
    {
      "cell_type": "code",
      "source": [
        "# Train 데이터 세트와 Test 데이터 세트를 구성한다\n",
        "trainX, testX, trainY, testY = train_test_split(iris['data'], iris['target'], test_size = 0.2)"
      ],
      "metadata": {
        "id": "euOuqp--V6sE"
      },
      "execution_count": null,
      "outputs": []
    },
    {
      "cell_type": "code",
      "source": [
        "rf = RandomForestClassifier(max_depth=3, n_estimators=100)\n",
        "rf.fit(trainX, trainY)"
      ],
      "metadata": {
        "colab": {
          "base_uri": "https://localhost:8080/"
        },
        "id": "tNkuDS96V82d",
        "outputId": "5003abce-3cbe-425a-fe76-e73a7fea1b57"
      },
      "execution_count": null,
      "outputs": [
        {
          "output_type": "execute_result",
          "data": {
            "text/plain": [
              "RandomForestClassifier(max_depth=3)"
            ]
          },
          "metadata": {},
          "execution_count": 19
        }
      ]
    },
    {
      "cell_type": "code",
      "source": [
        "# 시험데이터의 confusion matrix를 작성하고, (row : actual, col : predict),\n",
        "# 4개 score를 확인한다.\n",
        "predY = rf.predict(testX)\n",
        "\n",
        "print('\\nConfusion matrix :')\n",
        "print(confusion_matrix(testY, predY))\n",
        "print()\n",
        "print(classification_report(testY, predY, target_names=iris.target_names))\n",
        "print()\n",
        "recall = 1 * 11/30  + 0.88 * 8/30 + 0.91 * 11/30\n",
        "print(\"Recall:\", recall)"
      ],
      "metadata": {
        "colab": {
          "base_uri": "https://localhost:8080/"
        },
        "id": "xP1pY7cfV-gJ",
        "outputId": "ce0ebf2e-2fcf-4c46-9cea-c2d9b5028981"
      },
      "execution_count": null,
      "outputs": [
        {
          "output_type": "stream",
          "name": "stdout",
          "text": [
            "\n",
            "Confusion matrix :\n",
            "[[12  0  0]\n",
            " [ 0  9  0]\n",
            " [ 0  0  9]]\n",
            "\n",
            "              precision    recall  f1-score   support\n",
            "\n",
            "      setosa       1.00      1.00      1.00        12\n",
            "  versicolor       1.00      1.00      1.00         9\n",
            "   virginica       1.00      1.00      1.00         9\n",
            "\n",
            "    accuracy                           1.00        30\n",
            "   macro avg       1.00      1.00      1.00        30\n",
            "weighted avg       1.00      1.00      1.00        30\n",
            "\n",
            "\n",
            "Recall: 0.9349999999999999\n"
          ]
        }
      ]
    },
    {
      "cell_type": "code",
      "source": [
        "# Sub tree별 시험데이터의 정확도를 확인한다.\n",
        "print('\\nSubtree별 시험데이터 정확도 :')\n",
        "for i in range(10):\n",
        "  subTree = rf.estimators_[i]\n",
        "  print('subtree (%d) = %.2f' %(i, subTree.score(testX, testY)))"
      ],
      "metadata": {
        "colab": {
          "base_uri": "https://localhost:8080/"
        },
        "id": "HwPc3U9Gawg7",
        "outputId": "fae52e3e-7033-4737-e69f-2863f3164d25"
      },
      "execution_count": null,
      "outputs": [
        {
          "output_type": "stream",
          "name": "stdout",
          "text": [
            "\n",
            "Subtree별 시험데이터 정확도 :\n",
            "subtree (0) = 0.93\n",
            "subtree (1) = 1.00\n",
            "subtree (2) = 0.93\n",
            "subtree (3) = 1.00\n",
            "subtree (4) = 1.00\n",
            "subtree (5) = 0.93\n",
            "subtree (6) = 0.93\n",
            "subtree (7) = 0.87\n",
            "subtree (8) = 0.93\n",
            "subtree (9) = 0.93\n"
          ]
        }
      ]
    },
    {
      "cell_type": "code",
      "source": [
        "# classification_report()를 해석해 보기\n",
        "import numpy as np\n",
        "label = np.vstack([testY, predY]).T\n",
        "\n",
        "# precision : class = n 이라고 예측한 것 중 실제 class=n인 비율\n",
        "def precision(n):\n",
        "  y = label[label[:, 1] == n]\n",
        "  match = y[y[:, 0] == y[:, 1]]\n",
        "  return match.shape[0] / y.shape[0]\n",
        "\n",
        "print('class-0 precision : %.2f' % precision(0))\n",
        "print('class-1 precision : %.2f' % precision(1))\n",
        "print('class-2 precision : %.2f' % precision(2))"
      ],
      "metadata": {
        "colab": {
          "base_uri": "https://localhost:8080/"
        },
        "id": "SN4KL--cbXkz",
        "outputId": "feaa0969-0ccb-4762-d31c-690daae821ce"
      },
      "execution_count": null,
      "outputs": [
        {
          "output_type": "stream",
          "name": "stdout",
          "text": [
            "class-0 precision : 1.00\n",
            "class-1 precision : 1.00\n",
            "class-2 precision : 1.00\n"
          ]
        }
      ]
    },
    {
      "cell_type": "code",
      "source": [
        "# recall : 실제 class = n 인 것중 class = n으로 예측한 비율\n",
        "def recall(n):\n",
        "  y = label[label[:, 0] == n]\n",
        "  match = y[y[:, 0] == y[:, 1]]\n",
        "  return match.shape[0] / y.shape[0]\n",
        "\n",
        "print('class-0 recall : %.2f' % recall(0))\n",
        "print('class-1 recall : %.2f' % recall(1))\n",
        "print('class-2 recall : %.2f' % recall(2))"
      ],
      "metadata": {
        "colab": {
          "base_uri": "https://localhost:8080/"
        },
        "id": "OsdkFHS8bp0u",
        "outputId": "044ec830-42de-4f48-fa4c-18f3d971921d"
      },
      "execution_count": null,
      "outputs": [
        {
          "output_type": "stream",
          "name": "stdout",
          "text": [
            "class-0 recall : 1.00\n",
            "class-1 recall : 1.00\n",
            "class-2 recall : 1.00\n"
          ]
        }
      ]
    },
    {
      "cell_type": "code",
      "source": [
        "# F1-score (b=1) : precision과 recall의 가중조화평균 \n",
        "def f1_score(n):\n",
        "  p = precision(n)\n",
        "  r = recall(n)\n",
        "  return 2 * p * r / (p + r)\n",
        "\n",
        "print('class-0 f1-score : %.2f' % f1_score(0)) \n",
        "print('class-1 f1-score : %.2f' % f1_score(1)) \n",
        "print('class-2 f1-score : %.2f' % f1_score(2))\n",
        "\n",
        "# F1-score (b=0.5) : precision과 recall의 가중조화평균 \n",
        "def f1_score(n):\n",
        "  b = 0.5\n",
        "  p = precision(n)\n",
        "  r = recall(n)\n",
        "  return b * p * r / b**(p + r)\n",
        "  \n",
        "print()\n",
        "print('class-3 f1-score : %.2f' % f1_score(0)) \n",
        "print('class-4 f1-score : %.2f' % f1_score(1)) \n",
        "print('class-5 f1-score : %.2f' % f1_score(2))"
      ],
      "metadata": {
        "colab": {
          "base_uri": "https://localhost:8080/"
        },
        "id": "wZOJqaA8c0Y5",
        "outputId": "c35f0179-a4ea-44a2-b550-9d9668774c0a"
      },
      "execution_count": null,
      "outputs": [
        {
          "output_type": "stream",
          "name": "stdout",
          "text": [
            "class-0 f1-score : 1.00\n",
            "class-1 f1-score : 1.00\n",
            "class-2 f1-score : 1.00\n",
            "\n",
            "class-3 f1-score : 2.00\n",
            "class-4 f1-score : 2.00\n",
            "class-5 f1-score : 2.00\n"
          ]
        }
      ]
    },
    {
      "cell_type": "code",
      "source": [
        ""
      ],
      "metadata": {
        "id": "8hrMsOL7fAQO"
      },
      "execution_count": null,
      "outputs": []
    }
  ]
}
