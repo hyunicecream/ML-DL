{
  "nbformat": 4,
  "nbformat_minor": 0,
  "metadata": {
    "colab": {
      "name": "RandomForest(BreastCancer_Data).ipynb",
      "provenance": [],
      "collapsed_sections": [],
      "authorship_tag": "ABX9TyM/0j7OsLaZGi5dXHAXY23L",
      "include_colab_link": true
    },
    "kernelspec": {
      "name": "python3",
      "display_name": "Python 3"
    },
    "language_info": {
      "name": "python"
    }
  },
  "cells": [
    {
      "cell_type": "markdown",
      "metadata": {
        "id": "view-in-github",
        "colab_type": "text"
      },
      "source": [
        "<a href=\"https://colab.research.google.com/github/hyunicecream/ML-DL/blob/main/RandomForest(BreastCancer_Data).ipynb\" target=\"_parent\"><img src=\"https://colab.research.google.com/assets/colab-badge.svg\" alt=\"Open In Colab\"/></a>"
      ]
    },
    {
      "cell_type": "code",
      "execution_count": null,
      "metadata": {
        "id": "lRDMmYK7Vk0I"
      },
      "outputs": [],
      "source": [
        "from sklearn.datasets import load_breast_cancer\n",
        "from sklearn.model_selection import train_test_split\n",
        "from sklearn.metrics import confusion_matrix\n",
        "from sklearn.ensemble import RandomForestClassifier\n",
        "from sklearn.metrics import classification_report"
      ]
    },
    {
      "cell_type": "code",
      "source": [
        "# cancer 데이터를 읽어온다\n",
        "cancer = load_breast_cancer()"
      ],
      "metadata": {
        "id": "Rxt7AGeOV3wH"
      },
      "execution_count": null,
      "outputs": []
    },
    {
      "cell_type": "code",
      "source": [
        "# Train 데이터 세트와 Test 데이터 세트를 구성한다\n",
        "trainX, testX, trainY, testY = train_test_split(cancer['data'], cancer['target'], test_size = 0.2)"
      ],
      "metadata": {
        "id": "euOuqp--V6sE"
      },
      "execution_count": null,
      "outputs": []
    },
    {
      "cell_type": "code",
      "source": [
        "rf = RandomForestClassifier(max_depth=3, n_estimators=100)\n",
        "rf.fit(trainX, trainY)"
      ],
      "metadata": {
        "colab": {
          "base_uri": "https://localhost:8080/"
        },
        "id": "tNkuDS96V82d",
        "outputId": "0cef2c9c-fa34-4931-a693-4b875a0da252"
      },
      "execution_count": null,
      "outputs": [
        {
          "output_type": "execute_result",
          "data": {
            "text/plain": [
              "RandomForestClassifier(max_depth=3)"
            ]
          },
          "metadata": {},
          "execution_count": 19
        }
      ]
    },
    {
      "cell_type": "code",
      "source": [
        "# 시험데이터의 confusion matrix를 작성하고, (row : actual, col : predict),\n",
        "# 4개 score를 확인한다.\n",
        "predY = rf.predict(testX)\n",
        "\n",
        "print('\\nConfusion matrix :')\n",
        "print(confusion_matrix(testY, predY))\n",
        "print()\n",
        "print(classification_report(testY, predY, target_names=cancer.target_names))\n",
        "print()\n",
        "recall = 1 * 11/30  + 0.88 * 8/30 + 0.91 * 11/30\n",
        "print(\"Recall:\", recall)"
      ],
      "metadata": {
        "colab": {
          "base_uri": "https://localhost:8080/"
        },
        "id": "xP1pY7cfV-gJ",
        "outputId": "14f72b37-60d3-48f0-dcea-8e167855e062"
      },
      "execution_count": null,
      "outputs": [
        {
          "output_type": "stream",
          "name": "stdout",
          "text": [
            "\n",
            "Confusion matrix :\n",
            "[[42  2]\n",
            " [ 1 69]]\n",
            "\n",
            "              precision    recall  f1-score   support\n",
            "\n",
            "   malignant       0.98      0.95      0.97        44\n",
            "      benign       0.97      0.99      0.98        70\n",
            "\n",
            "    accuracy                           0.97       114\n",
            "   macro avg       0.97      0.97      0.97       114\n",
            "weighted avg       0.97      0.97      0.97       114\n",
            "\n",
            "\n",
            "Recall: 0.9349999999999999\n"
          ]
        }
      ]
    },
    {
      "cell_type": "code",
      "source": [
        "# Sub tree별 시험데이터의 정확도를 확인한다.\n",
        "print('\\nSubtree별 시험데이터 정확도 :')\n",
        "for i in range(10):\n",
        "  subTree = rf.estimators_[i]\n",
        "  print('subtree (%d) = %.2f' %(i, subTree.score(testX, testY)))"
      ],
      "metadata": {
        "colab": {
          "base_uri": "https://localhost:8080/"
        },
        "id": "HwPc3U9Gawg7",
        "outputId": "6e965e98-4120-4329-f263-03a2003949eb"
      },
      "execution_count": null,
      "outputs": [
        {
          "output_type": "stream",
          "name": "stdout",
          "text": [
            "\n",
            "Subtree별 시험데이터 정확도 :\n",
            "subtree (0) = 0.90\n",
            "subtree (1) = 0.92\n",
            "subtree (2) = 0.94\n",
            "subtree (3) = 0.96\n",
            "subtree (4) = 0.95\n",
            "subtree (5) = 0.88\n",
            "subtree (6) = 0.95\n",
            "subtree (7) = 0.91\n",
            "subtree (8) = 0.94\n",
            "subtree (9) = 0.94\n"
          ]
        }
      ]
    }
  ]
}
