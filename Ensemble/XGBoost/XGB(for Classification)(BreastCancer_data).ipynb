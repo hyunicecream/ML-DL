{
  "nbformat": 4,
  "nbformat_minor": 0,
  "metadata": {
    "colab": {
      "name": "XGB(for classification)(BreastCancer_data)ipynb",
      "provenance": [],
      "collapsed_sections": [],
      "authorship_tag": "ABX9TyMdsAD2jrdqzFsgwoLz9IAy",
      "include_colab_link": true
    },
    "kernelspec": {
      "name": "python3",
      "display_name": "Python 3"
    },
    "language_info": {
      "name": "python"
    }
  },
  "cells": [
    {
      "cell_type": "markdown",
      "metadata": {
        "id": "view-in-github",
        "colab_type": "text"
      },
      "source": [
        "<a href=\"https://colab.research.google.com/github/hyunicecream/ML-DL/blob/main/XGB(for%20Classification)(BreastCancer_data).ipynb\" target=\"_parent\"><img src=\"https://colab.research.google.com/assets/colab-badge.svg\" alt=\"Open In Colab\"/></a>"
      ]
    },
    {
      "cell_type": "code",
      "execution_count": null,
      "metadata": {
        "id": "LQiDWbTo6jqR"
      },
      "outputs": [],
      "source": [
        "from sklearn.datasets import load_breast_cancer\n",
        "from sklearn.model_selection import train_test_split\n",
        "from xgboost import XGBClassifier"
      ]
    },
    {
      "cell_type": "code",
      "source": [
        "# 데이터를 불러온다.\n",
        "cancer = load_breast_cancer()"
      ],
      "metadata": {
        "id": "sZSBFxWM63Xu"
      },
      "execution_count": null,
      "outputs": []
    },
    {
      "cell_type": "code",
      "source": [
        "# train과 test셋을 구성한다.\n",
        "trainX, testX, trainY, testY = train_test_split(cancer['data'], cancer['target'], test_size = 0.2)"
      ],
      "metadata": {
        "id": "PRrNljIY683S"
      },
      "execution_count": null,
      "outputs": []
    },
    {
      "cell_type": "code",
      "source": [
        "# XGBClassifier로 학습시킨다. \n",
        "model = XGBClassifier(objective='binary:logistic',)\n",
        "model.fit(trainX, trainY)"
      ],
      "metadata": {
        "colab": {
          "base_uri": "https://localhost:8080/"
        },
        "id": "D7NOB0No68Uz",
        "outputId": "ab6e4904-2992-44d9-9149-c4f1d5238996"
      },
      "execution_count": null,
      "outputs": [
        {
          "output_type": "execute_result",
          "data": {
            "text/plain": [
              "XGBClassifier()"
            ]
          },
          "metadata": {},
          "execution_count": 11
        }
      ]
    },
    {
      "cell_type": "code",
      "source": [
        "# 정확도 확인\n",
        "predY = model.predict(testX)\n",
        "Accuracy = (testY == predY).mean()\n",
        "print('XGBClassifier R-square = %.4f' % model.score(testX, testY))"
      ],
      "metadata": {
        "colab": {
          "base_uri": "https://localhost:8080/"
        },
        "id": "S9-Fgv5Q7Ntx",
        "outputId": "2861faa4-8556-4d6a-ef5f-b6af140cc584"
      },
      "execution_count": null,
      "outputs": [
        {
          "output_type": "stream",
          "name": "stdout",
          "text": [
            "XGBClassifier R-square = 0.9737\n"
          ]
        }
      ]
    },
    {
      "cell_type": "code",
      "source": [
        "trainX, testX, trainY, testY = train_test_split(cancer['data'], cancer['target'], test_size = 0.2)\n",
        "# default 값으로 학습시켜본다\n",
        "model = XGBClassifier(objective='reg:squarederror',)  # default로 학습\n",
        "model.fit(trainX, trainY)\n",
        "\n",
        "print('XGBClassifier R-square = %.4f' % model.score(testX, testY))"
      ],
      "metadata": {
        "colab": {
          "base_uri": "https://localhost:8080/"
        },
        "id": "wy5_FaGR7R8A",
        "outputId": "08afd068-26ea-4e5d-af21-c659b8ef9505"
      },
      "execution_count": null,
      "outputs": [
        {
          "output_type": "stream",
          "name": "stdout",
          "text": [
            "XGBClassifier R-square = 0.9474\n"
          ]
        }
      ]
    },
    {
      "cell_type": "markdown",
      "source": [
        "**reg:squarederror / reg:squaredlogerror : 오차 제곱 / 오차 로그 제곱**\n",
        "\n",
        "**binary:logistic : 이항 분류(binary class)에 사용.**\n",
        "\n",
        "**multi:softmax / multi:softprob : 다항 분류(multi class)에 사용.**\n",
        "\n",
        "**rank:pairwise / rank:ndcg / rank:map : l2r에 사용**"
      ],
      "metadata": {
        "id": "0lJ5IvQP73Mu"
      }
    }
  ]
}
