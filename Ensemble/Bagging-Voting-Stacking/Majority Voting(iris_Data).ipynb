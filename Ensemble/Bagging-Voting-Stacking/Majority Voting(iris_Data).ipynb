{
  "nbformat": 4,
  "nbformat_minor": 0,
  "metadata": {
    "colab": {
      "name": "Majority Voting(iris_Data).ipynb",
      "provenance": [],
      "collapsed_sections": [],
      "authorship_tag": "ABX9TyNHvdc5aLlOe0b/ddp8W9cH",
      "include_colab_link": true
    },
    "kernelspec": {
      "name": "python3",
      "display_name": "Python 3"
    },
    "language_info": {
      "name": "python"
    }
  },
  "cells": [
    {
      "cell_type": "markdown",
      "metadata": {
        "id": "view-in-github",
        "colab_type": "text"
      },
      "source": [
        "<a href=\"https://colab.research.google.com/github/hyunicecream/ML-DL/blob/main/Majority%20Voting(iris_Data).ipynb\" target=\"_parent\"><img src=\"https://colab.research.google.com/assets/colab-badge.svg\" alt=\"Open In Colab\"/></a>"
      ]
    },
    {
      "cell_type": "code",
      "execution_count": null,
      "metadata": {
        "id": "Ix5xY9NhoLmg"
      },
      "outputs": [],
      "source": [
        "from sklearn.datasets import load_iris\n",
        "from sklearn.model_selection import train_test_split\n",
        "from sklearn.neighbors import KNeighborsClassifier\n",
        "from sklearn.metrics import confusion_matrix\n",
        "from sklearn.tree import DecisionTreeClassifier\n",
        "from sklearn.svm import SVC\n",
        "from sklearn.ensemble import VotingClassifier\n",
        "from sklearn.metrics import  classification_report\n",
        "from sklearn.linear_model import LogisticRegression\n",
        "import numpy as np"
      ]
    },
    {
      "cell_type": "code",
      "source": [
        "# iris데이터 불러오기\n",
        "iris = load_iris()"
      ],
      "metadata": {
        "id": "OtE0fPhqomhO"
      },
      "execution_count": null,
      "outputs": []
    },
    {
      "cell_type": "code",
      "source": [
        "# train, test셋을 구성한다.\n",
        "trainX, testX, trainY, testY = train_test_split(iris['data'], iris['target'], test_size = 0.2)"
      ],
      "metadata": {
        "id": "pvMDDSTcpPtU"
      },
      "execution_count": null,
      "outputs": []
    },
    {
      "cell_type": "code",
      "source": [
        "# 4가지 모델로 구성\n",
        "knn = KNeighborsClassifier(n_neighbors = 5, p = 2, metric='minkowski')\n",
        "dtree = DecisionTreeClassifier(criterion= 'gini', max_depth=8)\n",
        "svm = SVC(kernel='rbf', gamma=0.1, C=1.0, probability=True)\n",
        "lreg = LogisticRegression(max_iter=500)\n",
        "\n",
        "base_model = [('knn', knn), ('dtree', dtree), ('svm', svm), ('lreg', lreg)]\n",
        "ensemble = VotingClassifier(estimators=base_model, voting='soft')\n",
        "ensemble.fit(trainX, trainY)"
      ],
      "metadata": {
        "colab": {
          "base_uri": "https://localhost:8080/"
        },
        "id": "0roMm-DJpo7M",
        "outputId": "b5fda504-d2ad-4b5b-eb6e-f83206335e79"
      },
      "execution_count": null,
      "outputs": [
        {
          "output_type": "execute_result",
          "data": {
            "text/plain": [
              "VotingClassifier(estimators=[('knn', KNeighborsClassifier()),\n",
              "                             ('dtree', DecisionTreeClassifier(max_depth=8)),\n",
              "                             ('svm', SVC(gamma=0.1, probability=True)),\n",
              "                             ('lreg', LogisticRegression(max_iter=500))],\n",
              "                 voting='soft')"
            ]
          },
          "metadata": {},
          "execution_count": 32
        }
      ]
    },
    {
      "cell_type": "code",
      "source": [
        "print('학습 데이터의 정확도 = %.2f' % ensemble.score(trainX, trainY))\n",
        "print('시험 데이터의 정확도 = %.2f' % ensemble.score(testX, testY))"
      ],
      "metadata": {
        "colab": {
          "base_uri": "https://localhost:8080/"
        },
        "id": "2EimlYrkprrh",
        "outputId": "7fd4418e-1805-422e-c5b1-4ed47c40d22f"
      },
      "execution_count": null,
      "outputs": [
        {
          "output_type": "stream",
          "name": "stdout",
          "text": [
            "학습 데이터의 정확도 = 0.99\n",
            "시험 데이터의 정확도 = 0.93\n"
          ]
        }
      ]
    },
    {
      "cell_type": "code",
      "source": [
        "# 시험데이터의 Confusion matrix를 작성한다.\n",
        "predY = ensemble.predict(testX)\n",
        "print('\\n')\n",
        "print('Confusion matrix :')\n",
        "print(confusion_matrix(testY, predY))\n",
        "print()\n",
        "print(classification_report(testY, predY, target_names=iris.target_names))"
      ],
      "metadata": {
        "colab": {
          "base_uri": "https://localhost:8080/"
        },
        "id": "8byErgX1pqAQ",
        "outputId": "306e81e1-5d63-4130-a6e6-8e47397bf3b7"
      },
      "execution_count": null,
      "outputs": [
        {
          "output_type": "stream",
          "name": "stdout",
          "text": [
            "\n",
            "\n",
            "Confusion matrix :\n",
            "[[10  0  0]\n",
            " [ 0 11  0]\n",
            " [ 0  2  7]]\n",
            "\n",
            "              precision    recall  f1-score   support\n",
            "\n",
            "      setosa       1.00      1.00      1.00        10\n",
            "  versicolor       0.85      1.00      0.92        11\n",
            "   virginica       1.00      0.78      0.88         9\n",
            "\n",
            "    accuracy                           0.93        30\n",
            "   macro avg       0.95      0.93      0.93        30\n",
            "weighted avg       0.94      0.93      0.93        30\n",
            "\n"
          ]
        }
      ]
    }
  ]
}
