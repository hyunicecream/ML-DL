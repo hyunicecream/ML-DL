{
  "nbformat": 4,
  "nbformat_minor": 0,
  "metadata": {
    "colab": {
      "name": "Keras(BostonHousing_Data).ipynb",
      "provenance": [],
      "collapsed_sections": [],
      "authorship_tag": "ABX9TyOLom9lOFDs1g84zNWw5XKD",
      "include_colab_link": true
    },
    "kernelspec": {
      "name": "python3",
      "display_name": "Python 3"
    },
    "language_info": {
      "name": "python"
    }
  },
  "cells": [
    {
      "cell_type": "markdown",
      "metadata": {
        "id": "view-in-github",
        "colab_type": "text"
      },
      "source": [
        "<a href=\"https://colab.research.google.com/github/hyunicecream/ML-DL/blob/main/Keras(BostonHousing%20Data).ipynb\" target=\"_parent\"><img src=\"https://colab.research.google.com/assets/colab-badge.svg\" alt=\"Open In Colab\"/></a>"
      ]
    },
    {
      "cell_type": "code",
      "execution_count": null,
      "metadata": {
        "id": "Cy2XCUpt8yMx"
      },
      "outputs": [],
      "source": [
        "import numpy as np\n",
        "import pandas as pd\n",
        "import matplotlib.pyplot as plt\n",
        "from sklearn.datasets import load_boston\n",
        "from tensorflow.keras.layers import Input, Dense, Dropout, BatchNormalization, Activation\n",
        "from tensorflow.keras.models import Model\n",
        "from sklearn.model_selection import train_test_split\n",
        "from sklearn.preprocessing import StandardScaler\n",
        "from tensorflow.keras.regularizers import l1, l2, l1_l2 #overfitting 방지 방법 2\n",
        "from tensorflow.keras.optimizers import Adam\n",
        "from sklearn.metrics import mean_squared_error"
      ]
    },
    {
      "cell_type": "code",
      "source": [
        "boston = load_boston()"
      ],
      "metadata": {
        "colab": {
          "base_uri": "https://localhost:8080/"
        },
        "id": "wm73_T6F9H_F",
        "outputId": "ecd74d5b-4875-4c6f-a43e-df8e98d0b596"
      },
      "execution_count": null,
      "outputs": [
        {
          "output_type": "stream",
          "name": "stderr",
          "text": [
            "/usr/local/lib/python3.7/dist-packages/sklearn/utils/deprecation.py:87: FutureWarning: Function load_boston is deprecated; `load_boston` is deprecated in 1.0 and will be removed in 1.2.\n",
            "\n",
            "    The Boston housing prices dataset has an ethical problem. You can refer to\n",
            "    the documentation of this function for further details.\n",
            "\n",
            "    The scikit-learn maintainers therefore strongly discourage the use of this\n",
            "    dataset unless the purpose of the code is to study and educate about\n",
            "    ethical issues in data science and machine learning.\n",
            "\n",
            "    In this special case, you can fetch the dataset from the original\n",
            "    source::\n",
            "\n",
            "        import pandas as pd\n",
            "        import numpy as np\n",
            "\n",
            "\n",
            "        data_url = \"http://lib.stat.cmu.edu/datasets/boston\"\n",
            "        raw_df = pd.read_csv(data_url, sep=\"\\s+\", skiprows=22, header=None)\n",
            "        data = np.hstack([raw_df.values[::2, :], raw_df.values[1::2, :2]])\n",
            "        target = raw_df.values[1::2, 2]\n",
            "\n",
            "    Alternative datasets include the California housing dataset (i.e.\n",
            "    :func:`~sklearn.datasets.fetch_california_housing`) and the Ames housing\n",
            "    dataset. You can load the datasets as follows::\n",
            "\n",
            "        from sklearn.datasets import fetch_california_housing\n",
            "        housing = fetch_california_housing()\n",
            "\n",
            "    for the California housing dataset and::\n",
            "\n",
            "        from sklearn.datasets import fetch_openml\n",
            "        housing = fetch_openml(name=\"house_prices\", as_frame=True)\n",
            "\n",
            "    for the Ames housing dataset.\n",
            "    \n",
            "  warnings.warn(msg, category=FutureWarning)\n"
          ]
        }
      ]
    },
    {
      "cell_type": "code",
      "source": [
        "df = pd.DataFrame(boston.data, columns=[boston.feature_names])\n",
        "df"
      ],
      "metadata": {
        "colab": {
          "base_uri": "https://localhost:8080/",
          "height": 424
        },
        "id": "FCAWZhwJ9Ngn",
        "outputId": "585b4452-d60b-4bb8-8ce4-37e792e30123"
      },
      "execution_count": null,
      "outputs": [
        {
          "output_type": "execute_result",
          "data": {
            "text/html": [
              "<div>\n",
              "<style scoped>\n",
              "    .dataframe tbody tr th:only-of-type {\n",
              "        vertical-align: middle;\n",
              "    }\n",
              "\n",
              "    .dataframe tbody tr th {\n",
              "        vertical-align: top;\n",
              "    }\n",
              "\n",
              "    .dataframe thead tr th {\n",
              "        text-align: left;\n",
              "    }\n",
              "</style>\n",
              "<table border=\"1\" class=\"dataframe\">\n",
              "  <thead>\n",
              "    <tr>\n",
              "      <th></th>\n",
              "      <th>CRIM</th>\n",
              "      <th>ZN</th>\n",
              "      <th>INDUS</th>\n",
              "      <th>CHAS</th>\n",
              "      <th>NOX</th>\n",
              "      <th>RM</th>\n",
              "      <th>AGE</th>\n",
              "      <th>DIS</th>\n",
              "      <th>RAD</th>\n",
              "      <th>TAX</th>\n",
              "      <th>PTRATIO</th>\n",
              "      <th>B</th>\n",
              "      <th>LSTAT</th>\n",
              "    </tr>\n",
              "  </thead>\n",
              "  <tbody>\n",
              "    <tr>\n",
              "      <th>0</th>\n",
              "      <td>0.00632</td>\n",
              "      <td>18.0</td>\n",
              "      <td>2.31</td>\n",
              "      <td>0.0</td>\n",
              "      <td>0.538</td>\n",
              "      <td>6.575</td>\n",
              "      <td>65.2</td>\n",
              "      <td>4.0900</td>\n",
              "      <td>1.0</td>\n",
              "      <td>296.0</td>\n",
              "      <td>15.3</td>\n",
              "      <td>396.90</td>\n",
              "      <td>4.98</td>\n",
              "    </tr>\n",
              "    <tr>\n",
              "      <th>1</th>\n",
              "      <td>0.02731</td>\n",
              "      <td>0.0</td>\n",
              "      <td>7.07</td>\n",
              "      <td>0.0</td>\n",
              "      <td>0.469</td>\n",
              "      <td>6.421</td>\n",
              "      <td>78.9</td>\n",
              "      <td>4.9671</td>\n",
              "      <td>2.0</td>\n",
              "      <td>242.0</td>\n",
              "      <td>17.8</td>\n",
              "      <td>396.90</td>\n",
              "      <td>9.14</td>\n",
              "    </tr>\n",
              "    <tr>\n",
              "      <th>2</th>\n",
              "      <td>0.02729</td>\n",
              "      <td>0.0</td>\n",
              "      <td>7.07</td>\n",
              "      <td>0.0</td>\n",
              "      <td>0.469</td>\n",
              "      <td>7.185</td>\n",
              "      <td>61.1</td>\n",
              "      <td>4.9671</td>\n",
              "      <td>2.0</td>\n",
              "      <td>242.0</td>\n",
              "      <td>17.8</td>\n",
              "      <td>392.83</td>\n",
              "      <td>4.03</td>\n",
              "    </tr>\n",
              "    <tr>\n",
              "      <th>3</th>\n",
              "      <td>0.03237</td>\n",
              "      <td>0.0</td>\n",
              "      <td>2.18</td>\n",
              "      <td>0.0</td>\n",
              "      <td>0.458</td>\n",
              "      <td>6.998</td>\n",
              "      <td>45.8</td>\n",
              "      <td>6.0622</td>\n",
              "      <td>3.0</td>\n",
              "      <td>222.0</td>\n",
              "      <td>18.7</td>\n",
              "      <td>394.63</td>\n",
              "      <td>2.94</td>\n",
              "    </tr>\n",
              "    <tr>\n",
              "      <th>4</th>\n",
              "      <td>0.06905</td>\n",
              "      <td>0.0</td>\n",
              "      <td>2.18</td>\n",
              "      <td>0.0</td>\n",
              "      <td>0.458</td>\n",
              "      <td>7.147</td>\n",
              "      <td>54.2</td>\n",
              "      <td>6.0622</td>\n",
              "      <td>3.0</td>\n",
              "      <td>222.0</td>\n",
              "      <td>18.7</td>\n",
              "      <td>396.90</td>\n",
              "      <td>5.33</td>\n",
              "    </tr>\n",
              "    <tr>\n",
              "      <th>...</th>\n",
              "      <td>...</td>\n",
              "      <td>...</td>\n",
              "      <td>...</td>\n",
              "      <td>...</td>\n",
              "      <td>...</td>\n",
              "      <td>...</td>\n",
              "      <td>...</td>\n",
              "      <td>...</td>\n",
              "      <td>...</td>\n",
              "      <td>...</td>\n",
              "      <td>...</td>\n",
              "      <td>...</td>\n",
              "      <td>...</td>\n",
              "    </tr>\n",
              "    <tr>\n",
              "      <th>501</th>\n",
              "      <td>0.06263</td>\n",
              "      <td>0.0</td>\n",
              "      <td>11.93</td>\n",
              "      <td>0.0</td>\n",
              "      <td>0.573</td>\n",
              "      <td>6.593</td>\n",
              "      <td>69.1</td>\n",
              "      <td>2.4786</td>\n",
              "      <td>1.0</td>\n",
              "      <td>273.0</td>\n",
              "      <td>21.0</td>\n",
              "      <td>391.99</td>\n",
              "      <td>9.67</td>\n",
              "    </tr>\n",
              "    <tr>\n",
              "      <th>502</th>\n",
              "      <td>0.04527</td>\n",
              "      <td>0.0</td>\n",
              "      <td>11.93</td>\n",
              "      <td>0.0</td>\n",
              "      <td>0.573</td>\n",
              "      <td>6.120</td>\n",
              "      <td>76.7</td>\n",
              "      <td>2.2875</td>\n",
              "      <td>1.0</td>\n",
              "      <td>273.0</td>\n",
              "      <td>21.0</td>\n",
              "      <td>396.90</td>\n",
              "      <td>9.08</td>\n",
              "    </tr>\n",
              "    <tr>\n",
              "      <th>503</th>\n",
              "      <td>0.06076</td>\n",
              "      <td>0.0</td>\n",
              "      <td>11.93</td>\n",
              "      <td>0.0</td>\n",
              "      <td>0.573</td>\n",
              "      <td>6.976</td>\n",
              "      <td>91.0</td>\n",
              "      <td>2.1675</td>\n",
              "      <td>1.0</td>\n",
              "      <td>273.0</td>\n",
              "      <td>21.0</td>\n",
              "      <td>396.90</td>\n",
              "      <td>5.64</td>\n",
              "    </tr>\n",
              "    <tr>\n",
              "      <th>504</th>\n",
              "      <td>0.10959</td>\n",
              "      <td>0.0</td>\n",
              "      <td>11.93</td>\n",
              "      <td>0.0</td>\n",
              "      <td>0.573</td>\n",
              "      <td>6.794</td>\n",
              "      <td>89.3</td>\n",
              "      <td>2.3889</td>\n",
              "      <td>1.0</td>\n",
              "      <td>273.0</td>\n",
              "      <td>21.0</td>\n",
              "      <td>393.45</td>\n",
              "      <td>6.48</td>\n",
              "    </tr>\n",
              "    <tr>\n",
              "      <th>505</th>\n",
              "      <td>0.04741</td>\n",
              "      <td>0.0</td>\n",
              "      <td>11.93</td>\n",
              "      <td>0.0</td>\n",
              "      <td>0.573</td>\n",
              "      <td>6.030</td>\n",
              "      <td>80.8</td>\n",
              "      <td>2.5050</td>\n",
              "      <td>1.0</td>\n",
              "      <td>273.0</td>\n",
              "      <td>21.0</td>\n",
              "      <td>396.90</td>\n",
              "      <td>7.88</td>\n",
              "    </tr>\n",
              "  </tbody>\n",
              "</table>\n",
              "<p>506 rows × 13 columns</p>\n",
              "</div>"
            ],
            "text/plain": [
              "        CRIM    ZN  INDUS CHAS    NOX  ...  RAD    TAX PTRATIO       B LSTAT\n",
              "0    0.00632  18.0   2.31  0.0  0.538  ...  1.0  296.0    15.3  396.90  4.98\n",
              "1    0.02731   0.0   7.07  0.0  0.469  ...  2.0  242.0    17.8  396.90  9.14\n",
              "2    0.02729   0.0   7.07  0.0  0.469  ...  2.0  242.0    17.8  392.83  4.03\n",
              "3    0.03237   0.0   2.18  0.0  0.458  ...  3.0  222.0    18.7  394.63  2.94\n",
              "4    0.06905   0.0   2.18  0.0  0.458  ...  3.0  222.0    18.7  396.90  5.33\n",
              "..       ...   ...    ...  ...    ...  ...  ...    ...     ...     ...   ...\n",
              "501  0.06263   0.0  11.93  0.0  0.573  ...  1.0  273.0    21.0  391.99  9.67\n",
              "502  0.04527   0.0  11.93  0.0  0.573  ...  1.0  273.0    21.0  396.90  9.08\n",
              "503  0.06076   0.0  11.93  0.0  0.573  ...  1.0  273.0    21.0  396.90  5.64\n",
              "504  0.10959   0.0  11.93  0.0  0.573  ...  1.0  273.0    21.0  393.45  6.48\n",
              "505  0.04741   0.0  11.93  0.0  0.573  ...  1.0  273.0    21.0  396.90  7.88\n",
              "\n",
              "[506 rows x 13 columns]"
            ]
          },
          "metadata": {},
          "execution_count": 7
        }
      ]
    },
    {
      "cell_type": "code",
      "source": [
        "# 데이터 표준화하기\n",
        "scaleX = StandardScaler()\n",
        "feature_data = scaleX.fit_transform(boston.data)\n",
        "scaleY = StandardScaler()\n",
        "target_data = scaleY.fit_transform(boston.target.reshape(-1, 1)) # shape 맞춰주기, "
      ],
      "metadata": {
        "id": "c0qr675i9o4-"
      },
      "execution_count": null,
      "outputs": []
    },
    {
      "cell_type": "code",
      "source": [
        "# 학습 데이터와 시험 데이터로 분리한다.\n",
        "x_train,x_test,y_train,y_test = train_test_split(feature_data, target_data, test_size=0.2)\n",
        "x_train.shape, y_train.shape"
      ],
      "metadata": {
        "colab": {
          "base_uri": "https://localhost:8080/"
        },
        "id": "UuJnf7Io-G7F",
        "outputId": "fe30bca8-df70-435b-97fe-e5757f62ac58"
      },
      "execution_count": null,
      "outputs": [
        {
          "output_type": "execute_result",
          "data": {
            "text/plain": [
              "((404, 13), (404, 1))"
            ]
          },
          "metadata": {},
          "execution_count": 12
        }
      ]
    },
    {
      "cell_type": "code",
      "source": [
        "# 신경망 생성\n",
        "# OverFitting 방지방법 1 : Dropout 사용\n",
        "# OverFitting 방지방법 2 : l1, l2, l1_l2 사용\n",
        "# OverFitting 방지방법 3 : BatchNormalization(), Activation('relu')\n",
        "\n",
        "x_input = Input(batch_shape = (None, 13))\n",
        "h_layer = Dense(256, activation='relu')(x_input)\n",
        "h_layer = Dropout(rate=0.5)(h_layer) # overfitting 방지1\n",
        "h_layer = Dense(256, activation='relu', kernel_regularizer=l2(0.00))(h_layer) # overfitting 방지2\n",
        "h_layer = Dense(256)(h_layer)\n",
        "h_layer = BatchNormalization()(h_layer)\n",
        "h_layer = Activation('relu')(h_layer)\n",
        "y_output = Dense(1)(h_layer)\n",
        "\n",
        "model = Model(x_input, y_output)\n",
        "# Regression문제는 mse로 정의한다. \n",
        "# model.compile(loss='mse', optimizer=Adam(learning_rate=0.5)) 위에 optimaizer로 불러와서 따로 learning_rate를 설정할 수 있다. \n",
        "# learing_rate가 작으면 과거의 경험 중시(장기 이동평균ex:0.01), 안정적, 더 나은 결과 노력부족/ 크면 과거의 경험 무시, 현재 중시 (단기이동 평균), 변화적응력은 좋지만 안전성이 떨어진다. \n",
        "model.compile(loss='mse', optimizer=Adam(learning_rate=0.5))\n",
        "model.summary()"
      ],
      "metadata": {
        "colab": {
          "base_uri": "https://localhost:8080/"
        },
        "id": "1tha8mEH-a2Q",
        "outputId": "4928593e-f22c-4329-92d7-fdbd76d7173b"
      },
      "execution_count": null,
      "outputs": [
        {
          "output_type": "stream",
          "name": "stdout",
          "text": [
            "Model: \"model_5\"\n",
            "_________________________________________________________________\n",
            " Layer (type)                Output Shape              Param #   \n",
            "=================================================================\n",
            " input_5 (InputLayer)        [(None, 13)]              0         \n",
            "                                                                 \n",
            " dense_16 (Dense)            (None, 256)               3584      \n",
            "                                                                 \n",
            " dropout_4 (Dropout)         (None, 256)               0         \n",
            "                                                                 \n",
            " dense_17 (Dense)            (None, 256)               65792     \n",
            "                                                                 \n",
            " dense_18 (Dense)            (None, 256)               65792     \n",
            "                                                                 \n",
            " batch_normalization_4 (Batc  (None, 256)              1024      \n",
            " hNormalization)                                                 \n",
            "                                                                 \n",
            " activation_4 (Activation)   (None, 256)               0         \n",
            "                                                                 \n",
            " dense_19 (Dense)            (None, 1)                 257       \n",
            "                                                                 \n",
            "=================================================================\n",
            "Total params: 136,449\n",
            "Trainable params: 135,937\n",
            "Non-trainable params: 512\n",
            "_________________________________________________________________\n"
          ]
        }
      ]
    },
    {
      "cell_type": "code",
      "source": [
        "hist = model.fit(x_train, y_train, batch_size = 10, epochs=50, validation_data = (x_test, y_test))"
      ],
      "metadata": {
        "colab": {
          "base_uri": "https://localhost:8080/"
        },
        "id": "6aSh7nLtAhyv",
        "outputId": "a2177ab7-138b-4e95-d6a7-9d9952622dff"
      },
      "execution_count": null,
      "outputs": [
        {
          "output_type": "stream",
          "name": "stdout",
          "text": [
            "Epoch 1/50\n",
            "41/41 [==============================] - 1s 8ms/step - loss: 90.5986 - val_loss: 7739.8525\n",
            "Epoch 2/50\n",
            "41/41 [==============================] - 0s 4ms/step - loss: 2.8109 - val_loss: 537.9417\n",
            "Epoch 3/50\n",
            "41/41 [==============================] - 0s 4ms/step - loss: 1.1793 - val_loss: 32.0729\n",
            "Epoch 4/50\n",
            "41/41 [==============================] - 0s 5ms/step - loss: 0.9366 - val_loss: 0.8627\n",
            "Epoch 5/50\n",
            "41/41 [==============================] - 0s 5ms/step - loss: 0.8264 - val_loss: 0.8505\n",
            "Epoch 6/50\n",
            "41/41 [==============================] - 0s 5ms/step - loss: 0.7192 - val_loss: 0.5369\n",
            "Epoch 7/50\n",
            "41/41 [==============================] - 0s 6ms/step - loss: 0.5894 - val_loss: 0.4479\n",
            "Epoch 8/50\n",
            "41/41 [==============================] - 0s 6ms/step - loss: 0.6221 - val_loss: 0.3286\n",
            "Epoch 9/50\n",
            "41/41 [==============================] - 0s 5ms/step - loss: 0.6542 - val_loss: 0.7591\n",
            "Epoch 10/50\n",
            "41/41 [==============================] - 0s 6ms/step - loss: 0.5787 - val_loss: 0.9385\n",
            "Epoch 11/50\n",
            "41/41 [==============================] - 0s 6ms/step - loss: 0.5746 - val_loss: 1.5926\n",
            "Epoch 12/50\n",
            "41/41 [==============================] - 0s 5ms/step - loss: 0.5051 - val_loss: 0.7054\n",
            "Epoch 13/50\n",
            "41/41 [==============================] - 0s 6ms/step - loss: 0.4954 - val_loss: 1.3526\n",
            "Epoch 14/50\n",
            "41/41 [==============================] - 0s 6ms/step - loss: 0.5127 - val_loss: 1.0316\n",
            "Epoch 15/50\n",
            "41/41 [==============================] - 0s 5ms/step - loss: 0.5507 - val_loss: 1.3641\n",
            "Epoch 16/50\n",
            "41/41 [==============================] - 0s 5ms/step - loss: 0.5528 - val_loss: 1.5202\n",
            "Epoch 17/50\n",
            "41/41 [==============================] - 0s 6ms/step - loss: 0.4225 - val_loss: 1.6173\n",
            "Epoch 18/50\n",
            "41/41 [==============================] - 0s 5ms/step - loss: 0.4408 - val_loss: 0.8104\n",
            "Epoch 19/50\n",
            "41/41 [==============================] - 0s 6ms/step - loss: 0.5665 - val_loss: 2.8776\n",
            "Epoch 20/50\n",
            "41/41 [==============================] - 0s 6ms/step - loss: 0.5477 - val_loss: 0.8831\n",
            "Epoch 21/50\n",
            "41/41 [==============================] - 0s 6ms/step - loss: 0.4158 - val_loss: 1.7375\n",
            "Epoch 22/50\n",
            "41/41 [==============================] - 0s 5ms/step - loss: 0.5227 - val_loss: 0.9323\n",
            "Epoch 23/50\n",
            "41/41 [==============================] - 0s 6ms/step - loss: 0.5852 - val_loss: 0.1582\n",
            "Epoch 24/50\n",
            "41/41 [==============================] - 0s 5ms/step - loss: 0.3936 - val_loss: 0.8136\n",
            "Epoch 25/50\n",
            "41/41 [==============================] - 0s 6ms/step - loss: 0.3915 - val_loss: 0.2613\n",
            "Epoch 26/50\n",
            "41/41 [==============================] - 0s 6ms/step - loss: 0.4935 - val_loss: 0.3114\n",
            "Epoch 27/50\n",
            "41/41 [==============================] - 0s 5ms/step - loss: 0.5952 - val_loss: 1.3701\n",
            "Epoch 28/50\n",
            "41/41 [==============================] - 0s 5ms/step - loss: 0.4606 - val_loss: 0.4569\n",
            "Epoch 29/50\n",
            "41/41 [==============================] - 0s 6ms/step - loss: 0.3805 - val_loss: 2.8083\n",
            "Epoch 30/50\n",
            "41/41 [==============================] - 0s 6ms/step - loss: 0.3916 - val_loss: 1.2043\n",
            "Epoch 31/50\n",
            "41/41 [==============================] - 0s 5ms/step - loss: 0.3956 - val_loss: 0.9095\n",
            "Epoch 32/50\n",
            "41/41 [==============================] - 0s 4ms/step - loss: 0.4216 - val_loss: 0.7648\n",
            "Epoch 33/50\n",
            "41/41 [==============================] - 0s 5ms/step - loss: 0.5021 - val_loss: 0.4733\n",
            "Epoch 34/50\n",
            "41/41 [==============================] - 0s 5ms/step - loss: 0.4328 - val_loss: 1.1631\n",
            "Epoch 35/50\n",
            "41/41 [==============================] - 0s 5ms/step - loss: 0.4232 - val_loss: 1.0747\n",
            "Epoch 36/50\n",
            "41/41 [==============================] - 0s 4ms/step - loss: 0.4386 - val_loss: 1.6900\n",
            "Epoch 37/50\n",
            "41/41 [==============================] - 0s 4ms/step - loss: 0.3888 - val_loss: 0.6305\n",
            "Epoch 38/50\n",
            "41/41 [==============================] - 0s 4ms/step - loss: 0.3798 - val_loss: 2.0224\n",
            "Epoch 39/50\n",
            "41/41 [==============================] - 0s 4ms/step - loss: 0.3833 - val_loss: 1.7190\n",
            "Epoch 40/50\n",
            "41/41 [==============================] - 0s 4ms/step - loss: 0.4219 - val_loss: 0.7775\n",
            "Epoch 41/50\n",
            "41/41 [==============================] - 0s 5ms/step - loss: 0.4946 - val_loss: 0.9577\n",
            "Epoch 42/50\n",
            "41/41 [==============================] - 0s 5ms/step - loss: 0.5129 - val_loss: 0.2523\n",
            "Epoch 43/50\n",
            "41/41 [==============================] - 0s 5ms/step - loss: 0.4931 - val_loss: 0.6550\n",
            "Epoch 44/50\n",
            "41/41 [==============================] - 0s 5ms/step - loss: 0.5005 - val_loss: 0.7359\n",
            "Epoch 45/50\n",
            "41/41 [==============================] - 0s 6ms/step - loss: 0.4620 - val_loss: 0.9582\n",
            "Epoch 46/50\n",
            "41/41 [==============================] - 0s 5ms/step - loss: 0.6162 - val_loss: 0.3959\n",
            "Epoch 47/50\n",
            "41/41 [==============================] - 0s 5ms/step - loss: 0.4832 - val_loss: 0.7394\n",
            "Epoch 48/50\n",
            "41/41 [==============================] - 0s 5ms/step - loss: 0.4948 - val_loss: 1.3285\n",
            "Epoch 49/50\n",
            "41/41 [==============================] - 0s 5ms/step - loss: 0.5594 - val_loss: 0.6422\n",
            "Epoch 50/50\n",
            "41/41 [==============================] - 0s 5ms/step - loss: 1.3064 - val_loss: 0.2591\n"
          ]
        }
      ]
    },
    {
      "cell_type": "code",
      "source": [
        "# mse 값은 작을 수록 좋다. Accuracy와 반대\n",
        "y_pred = model.predict(x_test)\n",
        "print('MSE =', mean_squared_error(y_test, y_pred))"
      ],
      "metadata": {
        "colab": {
          "base_uri": "https://localhost:8080/"
        },
        "id": "0cbr5zKnAsIC",
        "outputId": "71d6edc8-1cfc-4b16-a369-9b70a27e5957"
      },
      "execution_count": null,
      "outputs": [
        {
          "output_type": "stream",
          "name": "stdout",
          "text": [
            "MSE = 0.2590523278037575\n"
          ]
        }
      ]
    },
    {
      "cell_type": "code",
      "source": [
        "# 표준화된 y_pred를 원래값으로 역변환\n",
        "y_pred = scaleY.inverse_transform(y_pred)\n",
        "# print(y_pred)"
      ],
      "metadata": {
        "id": "mNjQJip-Awij"
      },
      "execution_count": null,
      "outputs": []
    },
    {
      "cell_type": "code",
      "source": [
        "plt.plot(hist.history['loss'], label='train')\n",
        "plt.plot(hist.history['val_loss'], label='test')\n",
        "plt.legend()\n",
        "plt.show()"
      ],
      "metadata": {
        "colab": {
          "base_uri": "https://localhost:8080/",
          "height": 266
        },
        "id": "aurMaa3GAzzT",
        "outputId": "ed5528fc-c0f6-4ea3-c9b1-ed6cc07b5568"
      },
      "execution_count": null,
      "outputs": [
        {
          "output_type": "display_data",
          "data": {
            "image/png": "[encoded data removed]",
            "text/plain": [
              "<Figure size 432x288 with 1 Axes>"
            ]
          },
          "metadata": {
            "needs_background": "light"
          }
        }
      ]
    }
  ]
}